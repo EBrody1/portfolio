{
 "cells": [
  {
   "cell_type": "markdown",
   "metadata": {},
   "source": [
    "## Extract Key Words from HTML Articles\n",
    "\n",
    "This code takes urls of html parses for the article text and extracts key words using the RAKE algorithm\n",
    "\n",
    "pip install python-rake==1.4.4\n",
    "\n",
    "source for rake tutorial https://www.thinkinfi.com/2018/09/keyword-extraction-using-rake-in-python.html \n",
    "need to download their stop words or use nltk\n",
    "\n",
    "for html parsing code adapted from https://towardsdatascience.com/web-scraping-news-articles-in-python-9dd605799558\n",
    "and also http://www.compjour.org/warmups/govt-text-releases/intro-to-bs4-lxml-parsing-wh-press-briefings/"
   ]
  },
  {
   "cell_type": "code",
   "execution_count": 147,
   "metadata": {},
   "outputs": [
    {
     "name": "stdout",
     "output_type": "stream",
     "text": [
      "Stop words in English language are: \n",
      "\n",
      "['i', 'me', 'my', 'myself', 'we', 'our', 'ours', 'ourselves', 'you', \"you're\", \"you've\", \"you'll\", \"you'd\", 'your', 'yours', 'yourself', 'yourselves', 'he', 'him', 'his', 'himself', 'she', \"she's\", 'her', 'hers', 'herself', 'it', \"it's\", 'its', 'itself', 'they', 'them', 'their', 'theirs', 'themselves', 'what', 'which', 'who', 'whom', 'this', 'that', \"that'll\", 'these', 'those', 'am', 'is', 'are', 'was', 'were', 'be', 'been', 'being', 'have', 'has', 'had', 'having', 'do', 'does', 'did', 'doing', 'a', 'an', 'the', 'and', 'but', 'if', 'or', 'because', 'as', 'until', 'while', 'of', 'at', 'by', 'for', 'with', 'about', 'against', 'between', 'into', 'through', 'during', 'before', 'after', 'above', 'below', 'to', 'from', 'up', 'down', 'in', 'out', 'on', 'off', 'over', 'under', 'again', 'further', 'then', 'once', 'here', 'there', 'when', 'where', 'why', 'how', 'all', 'any', 'both', 'each', 'few', 'more', 'most', 'other', 'some', 'such', 'no', 'nor', 'not', 'only', 'own', 'same', 'so', 'than', 'too', 'very', 's', 't', 'can', 'will', 'just', 'don', \"don't\", 'should', \"should've\", 'now', 'd', 'll', 'm', 'o', 're', 've', 'y', 'ain', 'aren', \"aren't\", 'couldn', \"couldn't\", 'didn', \"didn't\", 'doesn', \"doesn't\", 'hadn', \"hadn't\", 'hasn', \"hasn't\", 'haven', \"haven't\", 'isn', \"isn't\", 'ma', 'mightn', \"mightn't\", 'mustn', \"mustn't\", 'needn', \"needn't\", 'shan', \"shan't\", 'shouldn', \"shouldn't\", 'wasn', \"wasn't\", 'weren', \"weren't\", 'won', \"won't\", 'wouldn', \"wouldn't\"]\n"
     ]
    }
   ],
   "source": [
    "# import stop words so key words wont be these\n",
    "import nltk\n",
    "from nltk.corpus import stopwords\n",
    "\n",
    "sw = list(stopwords.words(\"english\"))\n",
    "print(\"Stop words in English language are: \\n\")\n",
    "print(sw)"
   ]
  },
  {
   "cell_type": "code",
   "execution_count": 148,
   "metadata": {},
   "outputs": [],
   "source": [
    "import RAKE\n",
    "import operator\n",
    "import pandas as pd\n",
    "import requests"
   ]
  },
  {
   "cell_type": "code",
   "execution_count": 149,
   "metadata": {},
   "outputs": [],
   "source": [
    "from bs4 import BeautifulSoup\n",
    "import numpy as np"
   ]
  },
  {
   "cell_type": "code",
   "execution_count": 150,
   "metadata": {},
   "outputs": [],
   "source": [
    "#spread sheet with list of articles \n",
    "rd = pd.read_excel(\"Rainy Day.xlsx\")"
   ]
  },
  {
   "cell_type": "code",
   "execution_count": 151,
   "metadata": {
    "scrolled": false
   },
   "outputs": [
    {
     "data": {
      "text/plain": [
       "'https://patch.com/new-jersey/brick/s/h4qw9/375-nj-school-districts-may-face-tax-hikes-cuts-amid-coronavirus'"
      ]
     },
     "execution_count": 151,
     "metadata": {},
     "output_type": "execute_result"
    }
   ],
   "source": [
    "# extract the urls \n",
    "url = rd['Link'][6]\n",
    "url"
   ]
  },
  {
   "cell_type": "code",
   "execution_count": 152,
   "metadata": {},
   "outputs": [],
   "source": [
    "# scrape html with beautiful soup object\n",
    "response = requests.get(url)\n",
    "x = response.text\n",
    "#soup = BeautifulSoup(x, 'lxml')\n",
    "soup = BeautifulSoup(x, 'html.parser')"
   ]
  },
  {
   "cell_type": "code",
   "execution_count": 153,
   "metadata": {},
   "outputs": [],
   "source": [
    "# find all the p tags and append to list to creat list of all paragraphs\n",
    "x = soup.find_all('p')\n",
    "list_paragraphs = []\n",
    "for p in np.arange(0, len(x)):\n",
    "    paragraph = x[p].get_text()\n",
    "    list_paragraphs.append(paragraph)\n",
    "    final_article = \" \".join(list_paragraphs)"
   ]
  },
  {
   "cell_type": "code",
   "execution_count": 154,
   "metadata": {},
   "outputs": [
    {
     "data": {
      "text/plain": [
       "'NEW JERSEY – School districts are going to have to find ways to come up with another $336 million now that New Jersey officials have sliced a huge amount of school funding amid the coronavirus outbreak. Gov. Phil Murphy\\'s administration released its revised state aid numbers this week for every school district in the 2020-21 school year. Funding for 375 school districts was reduced from Murphy\\'s original proposal in February, and they may need tax increases, staff cuts or furloughs to make up the differences (see complete list below). That means many districts will have to redo their budgets even after approving them now that the state says its experiencing \"unprecedented\" budget challenges. Those challenges come as developments in the coronavirus outbreak continue to unfold rapidly in New Jersey now that the number of cases has risen to 160,445, and 11,698 people have died. Read more: NJ Coronavirus, Reopen Updates: Here\\'s What You Need To Know Reacting to the crisis and the ensuring economic downturn, Murphy recently rescinded Executive Order No. 73 (2019), which directed the Department of the Treasury to achieve a $1.276 billion surplus by the end of this current fiscal year. \"No one has been more committed to restoring our state\\'s fiscal foundation than I have,\" said Murphy. \"We have spent the past two years working nonstop to build surpluses and put money aside for a rainy day fund.  \"However, in the absence of significant federal assistance, we are on the brink of having to make very tough fiscal decisions, and a $1.28 billion surplus for this fiscal year is no longer realistic.\" \"New Jersey is not alone in dealing with unprecedented budget challenges right now as this crisis continues to unfold,\" said Treasurer Elizabeth Maher Muoio. \"Building our reserves to responsible new heights was one of our paramount fiscal goals.  \"However, COVID-19 handed us an entirely new reality. Absent additional federal funding and a substantive borrowing facility, our foremost priority now is ensuring sufficient cash flow to meet this health crisis head on while also meeting our basic obligations.\" Lawmakers have sought other methods — such as raising property taxes and consolidating school districts — to bring in more revenue to New Jersey and help fund school districts that experienced sharp cuts in state funding. Murphy, however, has rejected those efforts, calling property taxes \"regressive.\" Read more: NJ Gov. Murphy Vetoes Raising Property Taxes To Fix School Aid State aid weighs heavily in many district\\'s decisions on raising local property taxes. Many often say that aid cuts or flat spending from year-to-year gives them cause to raise what are already the highest property taxes in the nation. Under the revised funding, some districts saw double-digit decreases from Murphy\\'s original proposal, including Woodbridge (15.25 percent) and Holmdel (10.23 percent).  Two communities that have said they\\'ll be forced to close schools, cut programs and lay off teachers because of state aid cuts, however, did not suffer even more under the new plan. Brick and Toms River would have no reductions from Murphy\\'s original proposal. Toms River officials and students have gone so far as to go to Trenton to protest the cuts. Read more: Toms River Schools Institute Hiring Freeze Due To S2 Aid Cuts Below is the complete list of 375 school districts, ranked from highest to lowest decreases by percentage (and tax hike possibility, from top to bottom). The second list ranks the districts by amount of aid lost in terms of dollars. The third list shows districts that are not getting any reductions from the February proposal. Percentage cuts: Dollar cuts: These districts received no reductions from the February proposal: Read more local news from Brick Tuesday, Jun 09 at 7:05pm Wednesday, Sep 16 at 8:00pm Thursday, Sep 10 at 8:00pm Get Tickets Near You Swipe for more from Patch »'"
      ]
     },
     "execution_count": 154,
     "metadata": {},
     "output_type": "execute_result"
    }
   ],
   "source": [
    "final_article"
   ]
  },
  {
   "cell_type": "code",
   "execution_count": 155,
   "metadata": {},
   "outputs": [
    {
     "name": "stdout",
     "output_type": "stream",
     "text": [
      "keywords:  [('past two years working nonstop', 23.5), ('said treasurer elizabeth maher muoio', 22.666666666666664), ('murphy recently rescinded executive order', 22.25), ('districts saw double-digit decreases', 21.3), ('murphy vetoes raising property taxes', 18.45), ('ensuring sufficient cash flow', 15.5), ('00pm get tickets near', 15.0), ('raising local property taxes', 14.2), ('may need tax increases', 14.0), ('year-to-year gives', 14.0), ('absent additional federal funding', 13.9), ('third list shows districts', 13.8), ('help fund school districts', 12.925), ('revised state aid numbers', 12.2), ('unprecedented budget challenges right', 12.166666666666666), ('raising property taxes', 11.2), ('calling property taxes', 10.2), ('ensuring economic downturn', 9.5), ('rainy day fund', 9.5), ('significant federal assistance', 9.5), ('tax hike possibility', 9.5), ('highest property taxes', 9.2), ('put money aside', 9.0), ('covid-19 handed us', 9.0), ('substantive borrowing facility', 9.0), ('toms river would', 9.0), ('toms river officials', 9.0), ('second list ranks', 9.0), ('many often say', 8.666666666666666), ('current fiscal year', 8.6), ('paramount fiscal goals', 8.6), ('see complete list', 8.5), ('means many districts', 8.466666666666665), ('consolidating school districts —', 8.425), ('responsible new heights', 8.375), ('entirely new reality', 8.375), ('experienced sharp cuts', 8.25), ('every school district', 8.125), ('s2 aid cuts', 8.05), ('school funding amid', 8.025), ('health crisis head', 8.0), ('coronavirus outbreak continue', 7.833333333333334), ('tough fiscal decisions', 7.6), ('new jersey officials', 7.575), ('state aid cuts', 7.449999999999999), ('budget challenges', 5.666666666666666), ('2020-21 school year', 5.625), ('fiscal year', 5.6), ('two communities', 5.5), ('complete list', 5.5), ('lowest decreases', 5.5), ('school districts', 5.425), ('375 school districts', 5.425), ('revised funding', 5.4), ('many district', 5.166666666666666), ('aid cuts', 5.05), ('local news', 5.0), ('00pm thursday', 5.0), ('said murphy', 4.916666666666666), ('coronavirus outbreak', 4.833333333333334), ('state funding', 4.8), ('aid lost', 4.8), ('districts received', 4.8), ('fiscal foundation', 4.6), ('new jersey', 4.575), ('state says', 4.4), ('new plan', 4.375), ('nj coronavirus', 4.333333333333334), ('phil murphy', 4.25), ('staff cuts', 4.25), ('dollar cuts', 4.25), ('challenges come', 4.166666666666666), ('find ways', 4.0), ('another $336 million', 4.0), ('administration released', 4.0), ('original proposal', 4.0), ('budgets even', 4.0), ('reopen updates', 4.0), ('know reacting', 4.0), ('276 billion surplus', 4.0), ('build surpluses', 4.0), ('28 billion surplus', 4.0), ('longer realistic', 4.0), ('crisis continues', 4.0), ('foremost priority', 4.0), ('also meeting', 4.0), ('basic obligations', 4.0), ('flat spending', 4.0), ('including woodbridge', 4.0), ('close schools', 4.0), ('cut programs', 4.0), ('suffer even', 4.0), ('05pm wednesday', 4.0), ('percentage cuts', 3.75), ('february proposal', 3.666666666666667), ('huge amount', 3.5), ('unfold rapidly', 3.5), ('nj gov', 3.5), ('brick tuesday', 3.5), ('districts', 2.8), ('said', 2.6666666666666665), ('unprecedented', 2.5), ('need', 2.5), ('funding', 2.4), ('state', 2.4), ('murphy', 2.25), ('cuts', 2.25), ('crisis', 2.0), ('decisions', 2.0), ('highest', 2.0), ('february', 1.6666666666666667), ('come', 1.5), ('gov', 1.5), ('unfold', 1.5), ('brick', 1.5), ('percentage', 1.5), ('amount', 1.5), ('going', 1.0), ('sliced', 1.0), ('week', 1.0), ('reduced', 1.0), ('furloughs', 1.0), ('make', 1.0), ('differences', 1.0), ('redo', 1.0), ('approving', 1.0), ('experiencing', 1.0), ('developments', 1.0), ('number', 1.0), ('cases', 1.0), ('risen', 1.0), ('698 people', 1.0), ('died', 1.0), ('read', 1.0), ('directed', 1.0), ('department', 1.0), ('treasury', 1.0), ('achieve', 1.0), ('end', 1.0), ('one', 1.0), ('committed', 1.0), ('restoring', 1.0), ('spent', 1.0), ('however', 1.0), ('absence', 1.0), ('brink', 1.0), ('alone', 1.0), ('dealing', 1.0), ('building', 1.0), ('reserves', 1.0), ('meet', 1.0), ('lawmakers', 1.0), ('sought', 1.0), ('methods —', 1.0), ('bring', 1.0), ('revenue', 1.0), ('rejected', 1.0), ('efforts', 1.0), ('regressive', 1.0), ('cause', 1.0), ('raise', 1.0), ('already', 1.0), ('nation', 1.0), ('25 percent', 1.0), ('holmdel', 1.0), ('23 percent', 1.0), ('forced', 1.0), ('lay', 1.0), ('teachers', 1.0), ('reductions', 1.0), ('students', 1.0), ('gone', 1.0), ('far', 1.0), ('go', 1.0), ('trenton', 1.0), ('protest', 1.0), ('ranked', 1.0), ('top', 1.0), ('bottom', 1.0), ('terms', 1.0), ('dollars', 1.0), ('getting', 1.0), ('jun 09', 1.0), ('sep 16', 1.0), ('sep 10', 1.0), ('swipe', 1.0), ('patch »', 1.0), ('160', 0), ('445', 0), ('11', 0), ('73', 0), ('2019', 0), ('$1', 0), ('15', 0), ('10', 0), ('7', 0), ('8', 0)]\n"
     ]
    }
   ],
   "source": [
    "# Reka setup with stopword directory\n",
    "stop_dir = sw   #\"SmartStoplist.txt\"\n",
    "rake_object = RAKE.Rake(stop_dir)\n",
    "\n",
    "# text to extract\n",
    "text = final_article\n",
    "# Extract keywords\n",
    "keywords = rake_object.run(text)\n",
    "print (\"keywords: \", keywords)"
   ]
  },
  {
   "cell_type": "code",
   "execution_count": 156,
   "metadata": {},
   "outputs": [
    {
     "data": {
      "text/plain": [
       "[('past two years working nonstop', 23.5),\n",
       " ('said treasurer elizabeth maher muoio', 22.666666666666664),\n",
       " ('murphy recently rescinded executive order', 22.25),\n",
       " ('districts saw double-digit decreases', 21.3),\n",
       " ('murphy vetoes raising property taxes', 18.45),\n",
       " ('ensuring sufficient cash flow', 15.5),\n",
       " ('00pm get tickets near', 15.0),\n",
       " ('raising local property taxes', 14.2),\n",
       " ('may need tax increases', 14.0),\n",
       " ('year-to-year gives', 14.0),\n",
       " ('absent additional federal funding', 13.9),\n",
       " ('third list shows districts', 13.8),\n",
       " ('help fund school districts', 12.925),\n",
       " ('revised state aid numbers', 12.2),\n",
       " ('unprecedented budget challenges right', 12.166666666666666),\n",
       " ('raising property taxes', 11.2),\n",
       " ('calling property taxes', 10.2),\n",
       " ('ensuring economic downturn', 9.5),\n",
       " ('rainy day fund', 9.5),\n",
       " ('significant federal assistance', 9.5),\n",
       " ('tax hike possibility', 9.5),\n",
       " ('highest property taxes', 9.2),\n",
       " ('put money aside', 9.0),\n",
       " ('covid-19 handed us', 9.0),\n",
       " ('substantive borrowing facility', 9.0),\n",
       " ('toms river would', 9.0),\n",
       " ('toms river officials', 9.0),\n",
       " ('second list ranks', 9.0),\n",
       " ('many often say', 8.666666666666666),\n",
       " ('current fiscal year', 8.6),\n",
       " ('paramount fiscal goals', 8.6),\n",
       " ('see complete list', 8.5),\n",
       " ('means many districts', 8.466666666666665),\n",
       " ('consolidating school districts —', 8.425),\n",
       " ('responsible new heights', 8.375),\n",
       " ('entirely new reality', 8.375),\n",
       " ('experienced sharp cuts', 8.25),\n",
       " ('every school district', 8.125),\n",
       " ('s2 aid cuts', 8.05),\n",
       " ('school funding amid', 8.025),\n",
       " ('health crisis head', 8.0),\n",
       " ('coronavirus outbreak continue', 7.833333333333334),\n",
       " ('tough fiscal decisions', 7.6),\n",
       " ('new jersey officials', 7.575),\n",
       " ('state aid cuts', 7.449999999999999)]"
      ]
     },
     "execution_count": 156,
     "metadata": {},
     "output_type": "execute_result"
    }
   ],
   "source": [
    "# keywords filtered by the score\n",
    "[x for x in keywords if x[1]>7]"
   ]
  },
  {
   "cell_type": "code",
   "execution_count": null,
   "metadata": {},
   "outputs": [],
   "source": []
  }
 ],
 "metadata": {
  "kernelspec": {
   "display_name": "Python 3",
   "language": "python",
   "name": "python3"
  },
  "language_info": {
   "codemirror_mode": {
    "name": "ipython",
    "version": 3
   },
   "file_extension": ".py",
   "mimetype": "text/x-python",
   "name": "python",
   "nbconvert_exporter": "python",
   "pygments_lexer": "ipython3",
   "version": "3.7.6"
  }
 },
 "nbformat": 4,
 "nbformat_minor": 2
}
