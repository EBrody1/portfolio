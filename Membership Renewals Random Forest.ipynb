{
 "cells": [
  {
   "cell_type": "markdown",
   "metadata": {},
   "source": [
    "### Notes\n",
    "much of the code was taken from https://machinelearningmastery.com/ \n",
    "some of the code including the upsampling and learning curves was taken form the machine learning with python github repo\n",
    "various other resources also provided parts of the code"
   ]
  },
  {
   "cell_type": "markdown",
   "metadata": {},
   "source": [
    "### Packages"
   ]
  },
  {
   "cell_type": "code",
   "execution_count": 1,
   "metadata": {},
   "outputs": [],
   "source": [
    "import pandas as pd\n",
    "import numpy as np\n",
    "import matplotlib.pyplot as plt\n",
    "import seaborn as sns\n",
    "%matplotlib inline\n",
    "from sklearn.metrics import confusion_matrix, classification_report\n",
    "from sklearn.compose import ColumnTransformer\n",
    "from sklearn.ensemble import RandomForestClassifier\n",
    "from sklearn.metrics import fbeta_score, make_scorer, f1_score, balanced_accuracy_score\n",
    "from sklearn.model_selection import GridSearchCV\n",
    "from sklearn.model_selection import learning_curve\n",
    "from sklearn.model_selection import train_test_split"
   ]
  },
  {
   "cell_type": "markdown",
   "metadata": {},
   "source": [
    "### Import Data"
   ]
  },
  {
   "cell_type": "code",
   "execution_count": null,
   "metadata": {},
   "outputs": [],
   "source": [
    "data = pd.read_csv(\"format_variables_output4.csv\")"
   ]
  },
  {
   "cell_type": "code",
   "execution_count": 3,
   "metadata": {
    "scrolled": false
   },
   "outputs": [],
   "source": [
    "# drop the entries for new members who joined leaving renewals and cancelations only\n",
    "data = data[data['Target']!=2]"
   ]
  },
  {
   "cell_type": "markdown",
   "metadata": {},
   "source": [
    "show the balance of the data set the renewal variable (1) has over 90% while cancelations are only 9.2%\n",
    "This imbalance in the data set will be a challenge of this predicitive model."
   ]
  },
  {
   "cell_type": "code",
   "execution_count": 5,
   "metadata": {
    "scrolled": true
   },
   "outputs": [
    {
     "data": {
      "text/plain": [
       "1    0.907453\n",
       "0    0.092547\n",
       "Name: Target, dtype: float64"
      ]
     },
     "execution_count": 5,
     "metadata": {},
     "output_type": "execute_result"
    }
   ],
   "source": [
    "data['Target'].value_counts(normalize=True)"
   ]
  },
  {
   "cell_type": "code",
   "execution_count": 6,
   "metadata": {},
   "outputs": [
    {
     "data": {
      "text/plain": [
       "Index(['Unnamed: 0', 'MemberName', 'NF_Year', 'ACS_Year', 'JoinDate',\n",
       "       'ExpireDate', 'MemberStatus', 'State', 'StateName', 'StateCode',\n",
       "       'Region', 'SummaryLevel', 'CombinedFips', 'Target', 'TotalPopulation',\n",
       "       'MedianHouseholdIncome', 'MedianAge', 'NonHispanicWhites',\n",
       "       'TotalWorkers', 'UseCar', 'PopOver25', 'Bachelors', 'Agriculture',\n",
       "       'Construction', 'Manufacturing', 'WholesaleTrade', 'Retail',\n",
       "       'Transportation', 'Information', 'Finance', 'Professional', 'Education',\n",
       "       'Arts', 'OtherServices', 'PublicAdministration', 'ArmedForces',\n",
       "       'Years as Member', '1', '10', '12', '13', '15', '16', '17', '18', '19',\n",
       "       '2', '20', '21', '22', '23', '24', '25', '26', '27', '28', '29', '30',\n",
       "       '31', '32', '33', '34', '35', '36', '37', '38', '39', '4', '40', '41',\n",
       "       '42', '44', '45', '46', '47', '48', '49', '5', '50', '51', '53', '54',\n",
       "       '55', '56', '6', '8', '9', 'Pop_Den', 'binned_pop_den',\n",
       "       'MedianIncomeAdjusted', '%NonHispanicWhites', '%DrivetoWork',\n",
       "       '%Bachelors', 'Industry', 'binned_pop_den_nums', 'Region_nums',\n",
       "       'municipality size', 'municipality size_nums'],\n",
       "      dtype='object')"
      ]
     },
     "execution_count": 6,
     "metadata": {},
     "output_type": "execute_result"
    }
   ],
   "source": [
    "data.columns"
   ]
  },
  {
   "cell_type": "markdown",
   "metadata": {},
   "source": [
    "### Lets run a random Forest Model with some new variables including: Population density, years as member"
   ]
  },
  {
   "cell_type": "code",
   "execution_count": 7,
   "metadata": {
    "scrolled": false
   },
   "outputs": [
    {
     "data": {
      "text/html": [
       "<div>\n",
       "<style scoped>\n",
       "    .dataframe tbody tr th:only-of-type {\n",
       "        vertical-align: middle;\n",
       "    }\n",
       "\n",
       "    .dataframe tbody tr th {\n",
       "        vertical-align: top;\n",
       "    }\n",
       "\n",
       "    .dataframe thead th {\n",
       "        text-align: right;\n",
       "    }\n",
       "</style>\n",
       "<table border=\"1\" class=\"dataframe\">\n",
       "  <thead>\n",
       "    <tr style=\"text-align: right;\">\n",
       "      <th></th>\n",
       "      <th>Target</th>\n",
       "      <th>TotalPopulation</th>\n",
       "      <th>MedianAge</th>\n",
       "      <th>MedianIncomeAdjusted</th>\n",
       "      <th>%NonHispanicWhites</th>\n",
       "      <th>%DrivetoWork</th>\n",
       "      <th>%Bachelors</th>\n",
       "      <th>Pop_Den</th>\n",
       "      <th>Years as Member</th>\n",
       "    </tr>\n",
       "  </thead>\n",
       "  <tbody>\n",
       "    <tr>\n",
       "      <td>0</td>\n",
       "      <td>1</td>\n",
       "      <td>30777.0</td>\n",
       "      <td>37.6</td>\n",
       "      <td>87259.0</td>\n",
       "      <td>0.697924</td>\n",
       "      <td>0.777589</td>\n",
       "      <td>0.236847</td>\n",
       "      <td>11.6</td>\n",
       "      <td>0.0</td>\n",
       "    </tr>\n",
       "    <tr>\n",
       "      <td>1</td>\n",
       "      <td>1</td>\n",
       "      <td>30975.0</td>\n",
       "      <td>38.6</td>\n",
       "      <td>84939.0</td>\n",
       "      <td>0.681162</td>\n",
       "      <td>0.771851</td>\n",
       "      <td>0.222308</td>\n",
       "      <td>11.6</td>\n",
       "      <td>1.0</td>\n",
       "    </tr>\n",
       "    <tr>\n",
       "      <td>2</td>\n",
       "      <td>1</td>\n",
       "      <td>31244.0</td>\n",
       "      <td>38.6</td>\n",
       "      <td>84623.0</td>\n",
       "      <td>0.677026</td>\n",
       "      <td>0.799173</td>\n",
       "      <td>0.227890</td>\n",
       "      <td>11.6</td>\n",
       "      <td>2.0</td>\n",
       "    </tr>\n",
       "    <tr>\n",
       "      <td>3</td>\n",
       "      <td>1</td>\n",
       "      <td>31636.0</td>\n",
       "      <td>37.8</td>\n",
       "      <td>84766.0</td>\n",
       "      <td>0.672715</td>\n",
       "      <td>0.815890</td>\n",
       "      <td>0.219309</td>\n",
       "      <td>11.6</td>\n",
       "      <td>3.0</td>\n",
       "    </tr>\n",
       "    <tr>\n",
       "      <td>4</td>\n",
       "      <td>0</td>\n",
       "      <td>31897.0</td>\n",
       "      <td>37.3</td>\n",
       "      <td>86202.0</td>\n",
       "      <td>0.667649</td>\n",
       "      <td>0.823887</td>\n",
       "      <td>0.224010</td>\n",
       "      <td>11.6</td>\n",
       "      <td>4.0</td>\n",
       "    </tr>\n",
       "  </tbody>\n",
       "</table>\n",
       "</div>"
      ],
      "text/plain": [
       "   Target  TotalPopulation  MedianAge  MedianIncomeAdjusted  \\\n",
       "0       1          30777.0       37.6               87259.0   \n",
       "1       1          30975.0       38.6               84939.0   \n",
       "2       1          31244.0       38.6               84623.0   \n",
       "3       1          31636.0       37.8               84766.0   \n",
       "4       0          31897.0       37.3               86202.0   \n",
       "\n",
       "   %NonHispanicWhites  %DrivetoWork  %Bachelors  Pop_Den  Years as Member  \n",
       "0            0.697924      0.777589    0.236847     11.6              0.0  \n",
       "1            0.681162      0.771851    0.222308     11.6              1.0  \n",
       "2            0.677026      0.799173    0.227890     11.6              2.0  \n",
       "3            0.672715      0.815890    0.219309     11.6              3.0  \n",
       "4            0.667649      0.823887    0.224010     11.6              4.0  "
      ]
     },
     "execution_count": 7,
     "metadata": {},
     "output_type": "execute_result"
    }
   ],
   "source": [
    "data1 = data[['Target','TotalPopulation', 'MedianAge', 'MedianIncomeAdjusted', '%NonHispanicWhites',\n",
    "            '%DrivetoWork','%Bachelors','Pop_Den','Years as Member']]\n",
    "\n",
    "data1.head()"
   ]
  },
  {
   "cell_type": "code",
   "execution_count": 8,
   "metadata": {},
   "outputs": [],
   "source": [
    "target = 'Target'\n",
    "X =  data1.drop(columns=['Target']).values\n",
    "y = data1['Target'].values"
   ]
  },
  {
   "cell_type": "code",
   "execution_count": 9,
   "metadata": {},
   "outputs": [],
   "source": [
    "X_train, X_test, y_train, y_test = train_test_split(X, y, test_size=0.33, random_state=101)"
   ]
  },
  {
   "cell_type": "code",
   "execution_count": 10,
   "metadata": {},
   "outputs": [
    {
     "data": {
      "text/plain": [
       "RandomForestClassifier(bootstrap=True, ccp_alpha=0.0, class_weight=None,\n",
       "                       criterion='gini', max_depth=None, max_features='auto',\n",
       "                       max_leaf_nodes=None, max_samples=None,\n",
       "                       min_impurity_decrease=0.0, min_impurity_split=None,\n",
       "                       min_samples_leaf=1, min_samples_split=2,\n",
       "                       min_weight_fraction_leaf=0.0, n_estimators=50,\n",
       "                       n_jobs=None, oob_score=False, random_state=None,\n",
       "                       verbose=0, warm_start=False)"
      ]
     },
     "execution_count": 10,
     "metadata": {},
     "output_type": "execute_result"
    }
   ],
   "source": [
    "rfc = RandomForestClassifier(n_estimators=50)\n",
    "rfc.fit(X_train, y_train)"
   ]
  },
  {
   "cell_type": "code",
   "execution_count": 11,
   "metadata": {},
   "outputs": [],
   "source": [
    "rfc_pred = rfc.predict(X_test)"
   ]
  },
  {
   "cell_type": "code",
   "execution_count": 12,
   "metadata": {},
   "outputs": [
    {
     "name": "stdout",
     "output_type": "stream",
     "text": [
      "[[   2  404]\n",
      " [   8 3873]]\n"
     ]
    }
   ],
   "source": [
    "print(confusion_matrix(y_test,rfc_pred))"
   ]
  },
  {
   "cell_type": "code",
   "execution_count": 13,
   "metadata": {},
   "outputs": [
    {
     "name": "stdout",
     "output_type": "stream",
     "text": [
      "              precision    recall  f1-score   support\n",
      "\n",
      "           0       0.20      0.00      0.01       406\n",
      "           1       0.91      1.00      0.95      3881\n",
      "\n",
      "    accuracy                           0.90      4287\n",
      "   macro avg       0.55      0.50      0.48      4287\n",
      "weighted avg       0.84      0.90      0.86      4287\n",
      "\n"
     ]
    }
   ],
   "source": [
    "print(classification_report(y_test,rfc_pred))"
   ]
  },
  {
   "cell_type": "markdown",
   "metadata": {},
   "source": [
    "Lets experiment with different values for N to see if we can improve the model.  "
   ]
  },
  {
   "cell_type": "code",
   "execution_count": 14,
   "metadata": {},
   "outputs": [
    {
     "name": "stdout",
     "output_type": "stream",
     "text": [
      "[[   3  403]\n",
      " [   7 3874]]\n",
      "              precision    recall  f1-score   support\n",
      "\n",
      "           0       0.30      0.01      0.01       406\n",
      "           1       0.91      1.00      0.95      3881\n",
      "\n",
      "    accuracy                           0.90      4287\n",
      "   macro avg       0.60      0.50      0.48      4287\n",
      "weighted avg       0.85      0.90      0.86      4287\n",
      "\n"
     ]
    }
   ],
   "source": [
    "rfc = RandomForestClassifier(n_estimators=100)\n",
    "rfc.fit(X_train, y_train)\n",
    "\n",
    "rfc_pred = rfc.predict(X_test)\n",
    "print(confusion_matrix(y_test,rfc_pred))\n",
    "print(classification_report(y_test,rfc_pred))"
   ]
  },
  {
   "cell_type": "code",
   "execution_count": 15,
   "metadata": {},
   "outputs": [
    {
     "name": "stdout",
     "output_type": "stream",
     "text": [
      "[[   9  397]\n",
      " [  15 3866]]\n",
      "              precision    recall  f1-score   support\n",
      "\n",
      "           0       0.38      0.02      0.04       406\n",
      "           1       0.91      1.00      0.95      3881\n",
      "\n",
      "    accuracy                           0.90      4287\n",
      "   macro avg       0.64      0.51      0.50      4287\n",
      "weighted avg       0.86      0.90      0.86      4287\n",
      "\n"
     ]
    }
   ],
   "source": [
    "rfc = RandomForestClassifier(n_estimators=30)\n",
    "rfc.fit(X_train, y_train)\n",
    "\n",
    "rfc_pred = rfc.predict(X_test)\n",
    "print(confusion_matrix(y_test,rfc_pred))\n",
    "print(classification_report(y_test,rfc_pred))"
   ]
  },
  {
   "cell_type": "code",
   "execution_count": 16,
   "metadata": {},
   "outputs": [
    {
     "name": "stdout",
     "output_type": "stream",
     "text": [
      "[[ 115  291]\n",
      " [ 606 3275]]\n",
      "              precision    recall  f1-score   support\n",
      "\n",
      "           0       0.16      0.28      0.20       406\n",
      "           1       0.92      0.84      0.88      3881\n",
      "\n",
      "    accuracy                           0.79      4287\n",
      "   macro avg       0.54      0.56      0.54      4287\n",
      "weighted avg       0.85      0.79      0.82      4287\n",
      "\n"
     ]
    }
   ],
   "source": [
    "rfc = RandomForestClassifier(n_estimators=2)\n",
    "rfc.fit(X_train, y_train)\n",
    "\n",
    "rfc_pred = rfc.predict(X_test)\n",
    "print(confusion_matrix(y_test,rfc_pred))\n",
    "print(classification_report(y_test,rfc_pred))"
   ]
  },
  {
   "cell_type": "markdown",
   "metadata": {},
   "source": [
    "The recall for cancellations was super low only 1-2%.  The last model with only 2 n estimators had better recall but much lower precision.  Lets try with only population density as a new variable. "
   ]
  },
  {
   "cell_type": "code",
   "execution_count": 4,
   "metadata": {},
   "outputs": [
    {
     "data": {
      "text/html": [
       "<div>\n",
       "<style scoped>\n",
       "    .dataframe tbody tr th:only-of-type {\n",
       "        vertical-align: middle;\n",
       "    }\n",
       "\n",
       "    .dataframe tbody tr th {\n",
       "        vertical-align: top;\n",
       "    }\n",
       "\n",
       "    .dataframe thead th {\n",
       "        text-align: right;\n",
       "    }\n",
       "</style>\n",
       "<table border=\"1\" class=\"dataframe\">\n",
       "  <thead>\n",
       "    <tr style=\"text-align: right;\">\n",
       "      <th></th>\n",
       "      <th>Target</th>\n",
       "      <th>TotalPopulation</th>\n",
       "      <th>MedianAge</th>\n",
       "      <th>MedianIncomeAdjusted</th>\n",
       "      <th>%NonHispanicWhites</th>\n",
       "      <th>%DrivetoWork</th>\n",
       "      <th>%Bachelors</th>\n",
       "      <th>Pop_Den</th>\n",
       "    </tr>\n",
       "  </thead>\n",
       "  <tbody>\n",
       "    <tr>\n",
       "      <td>0</td>\n",
       "      <td>1</td>\n",
       "      <td>30777.0</td>\n",
       "      <td>37.6</td>\n",
       "      <td>87259.0</td>\n",
       "      <td>0.697924</td>\n",
       "      <td>0.777589</td>\n",
       "      <td>0.236847</td>\n",
       "      <td>11.6</td>\n",
       "    </tr>\n",
       "    <tr>\n",
       "      <td>1</td>\n",
       "      <td>1</td>\n",
       "      <td>30975.0</td>\n",
       "      <td>38.6</td>\n",
       "      <td>84939.0</td>\n",
       "      <td>0.681162</td>\n",
       "      <td>0.771851</td>\n",
       "      <td>0.222308</td>\n",
       "      <td>11.6</td>\n",
       "    </tr>\n",
       "    <tr>\n",
       "      <td>2</td>\n",
       "      <td>1</td>\n",
       "      <td>31244.0</td>\n",
       "      <td>38.6</td>\n",
       "      <td>84623.0</td>\n",
       "      <td>0.677026</td>\n",
       "      <td>0.799173</td>\n",
       "      <td>0.227890</td>\n",
       "      <td>11.6</td>\n",
       "    </tr>\n",
       "    <tr>\n",
       "      <td>3</td>\n",
       "      <td>1</td>\n",
       "      <td>31636.0</td>\n",
       "      <td>37.8</td>\n",
       "      <td>84766.0</td>\n",
       "      <td>0.672715</td>\n",
       "      <td>0.815890</td>\n",
       "      <td>0.219309</td>\n",
       "      <td>11.6</td>\n",
       "    </tr>\n",
       "    <tr>\n",
       "      <td>4</td>\n",
       "      <td>0</td>\n",
       "      <td>31897.0</td>\n",
       "      <td>37.3</td>\n",
       "      <td>86202.0</td>\n",
       "      <td>0.667649</td>\n",
       "      <td>0.823887</td>\n",
       "      <td>0.224010</td>\n",
       "      <td>11.6</td>\n",
       "    </tr>\n",
       "  </tbody>\n",
       "</table>\n",
       "</div>"
      ],
      "text/plain": [
       "   Target  TotalPopulation  MedianAge  MedianIncomeAdjusted  \\\n",
       "0       1          30777.0       37.6               87259.0   \n",
       "1       1          30975.0       38.6               84939.0   \n",
       "2       1          31244.0       38.6               84623.0   \n",
       "3       1          31636.0       37.8               84766.0   \n",
       "4       0          31897.0       37.3               86202.0   \n",
       "\n",
       "   %NonHispanicWhites  %DrivetoWork  %Bachelors  Pop_Den  \n",
       "0            0.697924      0.777589    0.236847     11.6  \n",
       "1            0.681162      0.771851    0.222308     11.6  \n",
       "2            0.677026      0.799173    0.227890     11.6  \n",
       "3            0.672715      0.815890    0.219309     11.6  \n",
       "4            0.667649      0.823887    0.224010     11.6  "
      ]
     },
     "execution_count": 4,
     "metadata": {},
     "output_type": "execute_result"
    }
   ],
   "source": [
    "data1 = data[['Target','TotalPopulation', 'MedianAge', 'MedianIncomeAdjusted', '%NonHispanicWhites',\n",
    "            '%DrivetoWork','%Bachelors','Pop_Den']]\n",
    "data1.head()"
   ]
  },
  {
   "cell_type": "code",
   "execution_count": 5,
   "metadata": {},
   "outputs": [],
   "source": [
    "target = 'Target'\n",
    "X =  data1.drop(columns=['Target']).values\n",
    "y = data1['Target'].values\n",
    "X_train, X_test, y_train, y_test = train_test_split(X, y, test_size=0.33, random_state=101)\n",
    "\n",
    "rfc = RandomForestClassifier(n_estimators=50)\n",
    "rfc.fit(X_train, y_train)\n",
    "\n",
    "rfc_pred = rfc.predict(X_test)"
   ]
  },
  {
   "cell_type": "code",
   "execution_count": 19,
   "metadata": {},
   "outputs": [
    {
     "name": "stdout",
     "output_type": "stream",
     "text": [
      "[[  20  386]\n",
      " [  18 3863]]\n"
     ]
    }
   ],
   "source": [
    "# run only with new variable pop_density \n",
    "print(confusion_matrix(y_test,rfc_pred))"
   ]
  },
  {
   "cell_type": "code",
   "execution_count": 20,
   "metadata": {
    "scrolled": true
   },
   "outputs": [
    {
     "name": "stdout",
     "output_type": "stream",
     "text": [
      "              precision    recall  f1-score   support\n",
      "\n",
      "           0       0.53      0.05      0.09       406\n",
      "           1       0.91      1.00      0.95      3881\n",
      "\n",
      "    accuracy                           0.91      4287\n",
      "   macro avg       0.72      0.52      0.52      4287\n",
      "weighted avg       0.87      0.91      0.87      4287\n",
      "\n"
     ]
    }
   ],
   "source": [
    "print(classification_report(y_test,rfc_pred))"
   ]
  },
  {
   "cell_type": "markdown",
   "metadata": {},
   "source": [
    "Lets try with different values of N like above.  "
   ]
  },
  {
   "cell_type": "code",
   "execution_count": 6,
   "metadata": {},
   "outputs": [],
   "source": [
    "rfc = RandomForestClassifier(n_estimators=600)\n",
    "rfc.fit(X_train, y_train)\n",
    "\n",
    "rfc_pred = rfc.predict(X_test)"
   ]
  },
  {
   "cell_type": "code",
   "execution_count": 7,
   "metadata": {},
   "outputs": [
    {
     "name": "stdout",
     "output_type": "stream",
     "text": [
      "[[  17  389]\n",
      " [  15 3866]]\n"
     ]
    }
   ],
   "source": [
    "# run only with new variable pop_density \n",
    "print(confusion_matrix(y_test,rfc_pred))"
   ]
  },
  {
   "cell_type": "code",
   "execution_count": 8,
   "metadata": {},
   "outputs": [
    {
     "name": "stdout",
     "output_type": "stream",
     "text": [
      "              precision    recall  f1-score   support\n",
      "\n",
      "           0       0.53      0.04      0.08       406\n",
      "           1       0.91      1.00      0.95      3881\n",
      "\n",
      "    accuracy                           0.91      4287\n",
      "   macro avg       0.72      0.52      0.51      4287\n",
      "weighted avg       0.87      0.91      0.87      4287\n",
      "\n"
     ]
    }
   ],
   "source": [
    "print(classification_report(y_test,rfc_pred))"
   ]
  },
  {
   "cell_type": "code",
   "execution_count": 24,
   "metadata": {},
   "outputs": [
    {
     "name": "stdout",
     "output_type": "stream",
     "text": [
      "[[  19  387]\n",
      " [  15 3866]]\n",
      "              precision    recall  f1-score   support\n",
      "\n",
      "           0       0.56      0.05      0.09       406\n",
      "           1       0.91      1.00      0.95      3881\n",
      "\n",
      "    accuracy                           0.91      4287\n",
      "   macro avg       0.73      0.52      0.52      4287\n",
      "weighted avg       0.88      0.91      0.87      4287\n",
      "\n"
     ]
    }
   ],
   "source": [
    "rfc = RandomForestClassifier(n_estimators=200)\n",
    "rfc.fit(X_train, y_train)\n",
    "\n",
    "rfc_pred = rfc.predict(X_test)\n",
    "print(confusion_matrix(y_test,rfc_pred))\n",
    "print(classification_report(y_test,rfc_pred))"
   ]
  },
  {
   "cell_type": "code",
   "execution_count": 25,
   "metadata": {},
   "outputs": [
    {
     "name": "stdout",
     "output_type": "stream",
     "text": [
      "[[  95  311]\n",
      " [ 616 3265]]\n",
      "              precision    recall  f1-score   support\n",
      "\n",
      "           0       0.13      0.23      0.17       406\n",
      "           1       0.91      0.84      0.88      3881\n",
      "\n",
      "    accuracy                           0.78      4287\n",
      "   macro avg       0.52      0.54      0.52      4287\n",
      "weighted avg       0.84      0.78      0.81      4287\n",
      "\n"
     ]
    }
   ],
   "source": [
    "rfc = RandomForestClassifier(n_estimators=2)\n",
    "rfc.fit(X_train, y_train)\n",
    "\n",
    "rfc_pred = rfc.predict(X_test)\n",
    "print(confusion_matrix(y_test,rfc_pred))\n",
    "print(classification_report(y_test,rfc_pred))"
   ]
  },
  {
   "cell_type": "markdown",
   "metadata": {},
   "source": [
    "### Results with only 1 new variable were better than with years as member.  The f1 score for cancelations is improved from 1 or 2 to 9 with 50-100 values for N.   We will use population density as the only new variable.  "
   ]
  },
  {
   "cell_type": "markdown",
   "metadata": {},
   "source": [
    "## Grid Search\n",
    "\n",
    "The first grid search is run with scaled variables and balanced accuracy score as the scoring criteria.  The cross validation is 5 fold because these grid searches take over an hour.  "
   ]
  },
  {
   "cell_type": "code",
   "execution_count": 40,
   "metadata": {},
   "outputs": [],
   "source": [
    "from sklearn.preprocessing import StandardScaler\n",
    "ss = StandardScaler()\n",
    "X_train = ss.fit_transform(X_train)\n",
    "X_test = ss.transform(X_test)"
   ]
  },
  {
   "cell_type": "code",
   "execution_count": 8,
   "metadata": {},
   "outputs": [
    {
     "name": "stdout",
     "output_type": "stream",
     "text": [
      "Fitting 5 folds for each of 3510 candidates, totalling 17550 fits\n"
     ]
    },
    {
     "name": "stderr",
     "output_type": "stream",
     "text": [
      "[Parallel(n_jobs=-1)]: Using backend LokyBackend with 4 concurrent workers.\n",
      "[Parallel(n_jobs=-1)]: Done  42 tasks      | elapsed:    4.8s\n",
      "[Parallel(n_jobs=-1)]: Done 192 tasks      | elapsed:   16.2s\n",
      "[Parallel(n_jobs=-1)]: Done 442 tasks      | elapsed:   37.1s\n",
      "[Parallel(n_jobs=-1)]: Done 792 tasks      | elapsed:  1.2min\n",
      "[Parallel(n_jobs=-1)]: Done 1242 tasks      | elapsed:  2.1min\n",
      "[Parallel(n_jobs=-1)]: Done 1792 tasks      | elapsed:  3.6min\n",
      "[Parallel(n_jobs=-1)]: Done 2442 tasks      | elapsed:  5.9min\n",
      "[Parallel(n_jobs=-1)]: Done 3192 tasks      | elapsed:  9.0min\n",
      "[Parallel(n_jobs=-1)]: Done 4042 tasks      | elapsed: 12.6min\n",
      "[Parallel(n_jobs=-1)]: Done 4992 tasks      | elapsed: 16.5min\n",
      "[Parallel(n_jobs=-1)]: Done 6042 tasks      | elapsed: 21.2min\n",
      "[Parallel(n_jobs=-1)]: Done 7192 tasks      | elapsed: 26.2min\n",
      "[Parallel(n_jobs=-1)]: Done 8442 tasks      | elapsed: 31.9min\n",
      "[Parallel(n_jobs=-1)]: Done 9792 tasks      | elapsed: 35.3min\n",
      "[Parallel(n_jobs=-1)]: Done 11242 tasks      | elapsed: 41.6min\n",
      "[Parallel(n_jobs=-1)]: Done 12792 tasks      | elapsed: 51.6min\n",
      "[Parallel(n_jobs=-1)]: Done 14442 tasks      | elapsed: 62.6min\n",
      "[Parallel(n_jobs=-1)]: Done 16192 tasks      | elapsed: 75.0min\n",
      "[Parallel(n_jobs=-1)]: Done 17550 out of 17550 | elapsed: 85.1min finished\n"
     ]
    },
    {
     "name": "stdout",
     "output_type": "stream",
     "text": [
      "0.5489221053802158\n",
      "{'criterion': 'entropy', 'max_depth': 40, 'max_features': 'auto', 'min_samples_leaf': 1, 'min_samples_split': 2, 'n_estimators': 2}\n"
     ]
    }
   ],
   "source": [
    "rf =  RandomForestClassifier()\n",
    "\n",
    "param_grid = [{'n_estimators':  [2,50,100],\n",
    "               'min_samples_split': [2, 5, 10],\n",
    "               'min_samples_leaf': [1, 2, 4],\n",
    "              'max_features': ['auto', 'sqrt', 'log2'],\n",
    "    'max_depth' : [10, 20, 30, 40, 50, 60, 70, None],\n",
    "    'criterion' :['gini', 'entropy']}]\n",
    "\n",
    "balanced_accuracy_score = make_scorer(balanced_accuracy_score)\n",
    "\n",
    "gs = GridSearchCV(rf, param_grid=param_grid, scoring= balanced_accuracy_score, cv=5, n_jobs=-1, verbose = 1)\n",
    "\n",
    "gs = gs.fit(X_train, y_train)\n",
    "\n",
    "\n",
    "\n",
    "print(gs.best_score_)\n",
    "print(gs.best_params_)\n"
   ]
  },
  {
   "cell_type": "markdown",
   "metadata": {},
   "source": [
    "Lets use the hyperparameters that the grid search chose as optimal."
   ]
  },
  {
   "cell_type": "code",
   "execution_count": 41,
   "metadata": {},
   "outputs": [],
   "source": [
    "clf = RandomForestClassifier(n_estimators = 2, random_state = 0, min_samples_leaf=1, min_samples_split =2, criterion =  'entropy', max_depth= 40, max_features = 'auto', ).fit(X_train, y_train)"
   ]
  },
  {
   "cell_type": "code",
   "execution_count": 42,
   "metadata": {},
   "outputs": [
    {
     "name": "stdout",
     "output_type": "stream",
     "text": [
      "[[ 101  305]\n",
      " [ 608 3273]]\n"
     ]
    }
   ],
   "source": [
    "y_pred = clf.predict(X_test)\n",
    "\n",
    "cm = confusion_matrix(y_true=y_test, y_pred=y_pred)\n",
    "print(cm)"
   ]
  },
  {
   "cell_type": "code",
   "execution_count": 43,
   "metadata": {},
   "outputs": [
    {
     "name": "stdout",
     "output_type": "stream",
     "text": [
      "              precision    recall  f1-score   support\n",
      "\n",
      "           0       0.14      0.25      0.18       406\n",
      "           1       0.91      0.84      0.88      3881\n",
      "\n",
      "    accuracy                           0.79      4287\n",
      "   macro avg       0.53      0.55      0.53      4287\n",
      "weighted avg       0.84      0.79      0.81      4287\n",
      "\n"
     ]
    }
   ],
   "source": [
    "print(classification_report(y_test,y_pred))"
   ]
  },
  {
   "cell_type": "markdown",
   "metadata": {},
   "source": [
    "Results were simular to above when n = 2.  Lets try with 100 trees.  "
   ]
  },
  {
   "cell_type": "code",
   "execution_count": 44,
   "metadata": {},
   "outputs": [],
   "source": [
    "clf = RandomForestClassifier(n_estimators = 100, random_state = 0, min_samples_leaf=1, min_samples_split =2, criterion =  'entropy', max_depth= 40, max_features = 'auto', ).fit(X_train, y_train)"
   ]
  },
  {
   "cell_type": "code",
   "execution_count": 45,
   "metadata": {},
   "outputs": [
    {
     "name": "stdout",
     "output_type": "stream",
     "text": [
      "[[  19  387]\n",
      " [  10 3871]]\n",
      "              precision    recall  f1-score   support\n",
      "\n",
      "           0       0.66      0.05      0.09       406\n",
      "           1       0.91      1.00      0.95      3881\n",
      "\n",
      "    accuracy                           0.91      4287\n",
      "   macro avg       0.78      0.52      0.52      4287\n",
      "weighted avg       0.89      0.91      0.87      4287\n",
      "\n"
     ]
    }
   ],
   "source": [
    "y_pred = clf.predict(X_test)\n",
    "\n",
    "cm = confusion_matrix(y_true=y_test, y_pred=y_pred)\n",
    "print(cm)\n",
    "print(classification_report(y_test,y_pred))"
   ]
  },
  {
   "cell_type": "markdown",
   "metadata": {},
   "source": [
    "The results are simular to above.  More trees gives higher precision and less recall for cancelations.  I prefer more trees because with precison of 14% we are only slightly better than random (9%). For imbalanced data sets accuracy is a poor measure lets use area under roc curve as the scoring criteria.  "
   ]
  },
  {
   "cell_type": "code",
   "execution_count": 15,
   "metadata": {},
   "outputs": [
    {
     "name": "stdout",
     "output_type": "stream",
     "text": [
      "Fitting 5 folds for each of 1296 candidates, totalling 6480 fits\n"
     ]
    },
    {
     "name": "stderr",
     "output_type": "stream",
     "text": [
      "[Parallel(n_jobs=-1)]: Using backend LokyBackend with 4 concurrent workers.\n",
      "[Parallel(n_jobs=-1)]: Done  42 tasks      | elapsed:   11.2s\n",
      "[Parallel(n_jobs=-1)]: Done 192 tasks      | elapsed:   43.3s\n",
      "[Parallel(n_jobs=-1)]: Done 442 tasks      | elapsed:  1.7min\n",
      "[Parallel(n_jobs=-1)]: Done 792 tasks      | elapsed:  3.6min\n",
      "[Parallel(n_jobs=-1)]: Done 1242 tasks      | elapsed:  6.6min\n",
      "[Parallel(n_jobs=-1)]: Done 1792 tasks      | elapsed: 10.2min\n",
      "[Parallel(n_jobs=-1)]: Done 2442 tasks      | elapsed: 14.3min\n",
      "[Parallel(n_jobs=-1)]: Done 3192 tasks      | elapsed: 19.9min\n",
      "[Parallel(n_jobs=-1)]: Done 4042 tasks      | elapsed: 27.8min\n",
      "[Parallel(n_jobs=-1)]: Done 4992 tasks      | elapsed: 38.6min\n",
      "[Parallel(n_jobs=-1)]: Done 6042 tasks      | elapsed: 50.2min\n",
      "[Parallel(n_jobs=-1)]: Done 6480 out of 6480 | elapsed: 54.7min finished\n"
     ]
    },
    {
     "name": "stdout",
     "output_type": "stream",
     "text": [
      "0.6250568120525346\n",
      "{'criterion': 'entropy', 'max_depth': None, 'max_features': 'log2', 'min_samples_leaf': 2, 'min_samples_split': 2, 'n_estimators': 100}\n"
     ]
    }
   ],
   "source": [
    "rf =  RandomForestClassifier()\n",
    "\n",
    "param_grid = [{'n_estimators':  [2,50,100],\n",
    "               'min_samples_split': [2, 5, 10],\n",
    "               'min_samples_leaf': [1, 2, 4],\n",
    "              'max_features': ['auto', 'sqrt', 'log2'],\n",
    "    'max_depth' : [10, 20, 30, 40, 50, 60, 70, None],\n",
    "    'criterion' :['gini', 'entropy']}]\n",
    "\n",
    "gs = GridSearchCV(rf, param_grid=param_grid, scoring= 'roc_auc', cv=5, n_jobs=-1, verbose = 1)\n",
    "\n",
    "gs = gs.fit(X_train, y_train)\n",
    "\n",
    "\n",
    "\n",
    "print(gs.best_score_)\n",
    "print(gs.best_params_)\n"
   ]
  },
  {
   "cell_type": "markdown",
   "metadata": {},
   "source": [
    "Notice how the best score had gone up from almost 55 to almost 63. Lets run the model with the  hyperparameters from the grid search."
   ]
  },
  {
   "cell_type": "code",
   "execution_count": 46,
   "metadata": {},
   "outputs": [],
   "source": [
    "clf = RandomForestClassifier(n_estimators = 100, random_state = 0, min_samples_leaf=2, min_samples_split =2, criterion =  'entropy', \n",
    "                             max_depth= None, max_features = 'log2', ).fit(X_train, y_train)"
   ]
  },
  {
   "cell_type": "code",
   "execution_count": 47,
   "metadata": {},
   "outputs": [
    {
     "name": "stdout",
     "output_type": "stream",
     "text": [
      "[[  10  396]\n",
      " [   6 3875]]\n",
      "              precision    recall  f1-score   support\n",
      "\n",
      "           0       0.62      0.02      0.05       406\n",
      "           1       0.91      1.00      0.95      3881\n",
      "\n",
      "    accuracy                           0.91      4287\n",
      "   macro avg       0.77      0.51      0.50      4287\n",
      "weighted avg       0.88      0.91      0.87      4287\n",
      "\n"
     ]
    }
   ],
   "source": [
    "y_pred = clf.predict(X_test)\n",
    "\n",
    "cm = confusion_matrix(y_true=y_test, y_pred=y_pred)\n",
    "print(cm)\n",
    "print(classification_report(y_test,y_pred))"
   ]
  },
  {
   "cell_type": "markdown",
   "metadata": {},
   "source": [
    "#### The precision is pretty good but recall is even worse than earlier.  "
   ]
  },
  {
   "cell_type": "markdown",
   "metadata": {},
   "source": [
    "## learning curve\n",
    "\n",
    "The curve is graphed based on the above model which was chosen from the grid search.  "
   ]
  },
  {
   "cell_type": "code",
   "execution_count": 48,
   "metadata": {},
   "outputs": [
    {
     "data": {
      "image/png": "[encoded data removed]",
      "text/plain": [
       "<Figure size 432x288 with 1 Axes>"
      ]
     },
     "metadata": {
      "needs_background": "light"
     },
     "output_type": "display_data"
    }
   ],
   "source": [
    "from sklearn.model_selection import learning_curve\n",
    "    \n",
    "\n",
    "# Plot Learning Curve\n",
    "    # Create CV training and test scores for various training set sizes\n",
    "train_sizes, train_scores, test_scores = learning_curve(RandomForestClassifier(n_estimators = 100, random_state = 0, min_samples_leaf=2, min_samples_split =2, criterion =  'entropy', \n",
    "                             max_depth= None, max_features = 'log2', ), \n",
    "                                            X_train,  y_train, cv=10, scoring='accuracy', n_jobs=-1, \n",
    "                                              train_sizes=np.linspace(0.1, 1.0, 10))\n",
    "\n",
    "\n",
    "\n",
    "train_mean = np.mean(train_scores, axis=1)\n",
    "train_std = np.std(train_scores, axis=1)\n",
    "test_mean = np.mean(test_scores, axis=1)\n",
    "test_std = np.std(test_scores, axis=1)\n",
    "\n",
    "\n",
    "\n",
    "plt.plot(train_sizes, train_mean,\n",
    "         color='blue', marker='o',\n",
    "         markersize=5, label='training accuracy')\n",
    "\n",
    "plt.fill_between(train_sizes,\n",
    "                 train_mean + train_std,\n",
    "                 train_mean - train_std,\n",
    "                 alpha=0.15, color='blue')\n",
    "\n",
    "plt.plot(train_sizes, test_mean,\n",
    "         color='green', linestyle='--',\n",
    "         marker='s', markersize=5,\n",
    "         label='validation accuracy')\n",
    "\n",
    "plt.fill_between(train_sizes,\n",
    "                 test_mean + test_std,\n",
    "                 test_mean - test_std,\n",
    "                 alpha=0.15, color='green')\n",
    "\n",
    "plt.grid()\n",
    "plt.xlabel('Number of training samples')\n",
    "plt.ylabel('Accuracy')\n",
    "plt.legend(loc='lower right')\n",
    "plt.ylim([0.8, 1.0])\n",
    "plt.tight_layout()"
   ]
  },
  {
   "cell_type": "markdown",
   "metadata": {},
   "source": [
    "#### Results:\n",
    "The learning curved was graphed several times with different hyperparameters with and without scaled variables.  The results were all simular to what is seen above.  The acuracy does not exceed 91% and adding more data doesn't seem to help.  91% accuracy is poor for an imblanced data set with 91% of the entries belonging to the majority class.  "
   ]
  },
  {
   "cell_type": "markdown",
   "metadata": {},
   "source": [
    "### roc curve\n",
    "\n",
    "Lets graph an roc curve with the  model to see how much predictive power the model has."
   ]
  },
  {
   "cell_type": "code",
   "execution_count": 49,
   "metadata": {},
   "outputs": [
    {
     "data": {
      "text/plain": [
       "<matplotlib.legend.Legend at 0x19de8bb5ac8>"
      ]
     },
     "execution_count": 49,
     "metadata": {},
     "output_type": "execute_result"
    },
    {
     "data": {
      "image/png": "[encoded data removed]",
      "text/plain": [
       "<Figure size 432x288 with 1 Axes>"
      ]
     },
     "metadata": {
      "needs_background": "light"
     },
     "output_type": "display_data"
    }
   ],
   "source": [
    "from sklearn.metrics import roc_curve\n",
    "\n",
    "model = clf  # this is the model above from our grid search  \n",
    "model.fit(X_train, y_train)\n",
    "# predict probabilities\n",
    "yhat = model.predict_proba(X_test)\n",
    "# keep probabilities for the positive outcome only\n",
    "yhat = yhat[:, 1]\n",
    "# calculate roc curves\n",
    "fpr, tpr, thresholds = roc_curve(y_test, yhat)\n",
    "# plot the roc curve for the model\n",
    "plt.plot([0,1], [0,1], linestyle='--', label='No Skill')\n",
    "plt.plot(fpr, tpr, marker='.', label='Logistic') # this is the wrong label disregard\n",
    "# axis labels\n",
    "plt.xlabel('False Positive Rate')\n",
    "plt.ylabel('True Positive Rate')\n",
    "plt.legend()"
   ]
  },
  {
   "cell_type": "markdown",
   "metadata": {},
   "source": [
    "From the roc graph it looks like the model did better than the logistic regression model.  The best model from the grid search got .62 which is higher than the logisitc regression model. "
   ]
  },
  {
   "cell_type": "code",
   "execution_count": 52,
   "metadata": {},
   "outputs": [
    {
     "name": "stdout",
     "output_type": "stream",
     "text": [
      "RF: f1=0.951 auc=0.938\n"
     ]
    },
    {
     "data": {
      "text/plain": [
       "<matplotlib.legend.Legend at 0x19de8da0f88>"
      ]
     },
     "execution_count": 52,
     "metadata": {},
     "output_type": "execute_result"
    },
    {
     "data": {
      "image/png": "[encoded data removed]",
      "text/plain": [
       "<Figure size 432x288 with 1 Axes>"
      ]
     },
     "metadata": {
      "needs_background": "light"
     },
     "output_type": "display_data"
    }
   ],
   "source": [
    "from sklearn.metrics import precision_recall_curve\n",
    "from sklearn.metrics import f1_score\n",
    "from sklearn.metrics import auc\n",
    "\n",
    "# predict probabilities\n",
    "yhat = model.predict_proba(X_test)\n",
    "# keep probabilities for the positive outcome only\n",
    "yhat = yhat[:, 1]\n",
    "\n",
    "# predict class values\n",
    "y_pred = clf.predict(X_test)\n",
    "lr_precision, lr_recall, _ = precision_recall_curve(y_test, yhat)\n",
    "lr_f1, lr_auc = f1_score(y_test, y_pred), auc(lr_recall, lr_precision)\n",
    "# summarize scores\n",
    "print('RF: f1=%.3f auc=%.3f' % (lr_f1, lr_auc))\n",
    "# plot the precision-recall curves\n",
    "no_skill = len(y_test[y_test==1]) / len(y_test)\n",
    "plt.plot([0, 1], [no_skill, no_skill], linestyle='--', label='No Skill')\n",
    "plt.plot(lr_recall, lr_precision, marker='.', label='RF')\n",
    "# axis labels\n",
    "plt.xlabel('Recall')\n",
    "plt.ylabel('Precision')\n",
    "# show the legend\n",
    "plt.legend()"
   ]
  },
  {
   "cell_type": "markdown",
   "metadata": {},
   "source": [
    "We can see the precision recall tradeoff.  Note the recall here is well above 90% but this includes the positives.  It does not tell us about recall for the minority class which is what we are most interested in."
   ]
  },
  {
   "cell_type": "markdown",
   "metadata": {},
   "source": [
    "# Imbalanced Classification \n",
    "\n",
    "Getting useful results from an imbalanced data set like this one can be challenging.  Different methodologies can be applied to ty and overcome this issue.  Lets try some of them.  \n",
    "\n",
    "### try different classification thresholds\n",
    "We can change the threshold the model uses to decide whether the member is likely to cancel or renew.  The default threshold is 50%.  There are different ways to calculate what maybe a more appropriate threshold. This code is from  from https://machinelearningmastery.com/"
   ]
  },
  {
   "cell_type": "code",
   "execution_count": 53,
   "metadata": {},
   "outputs": [
    {
     "name": "stdout",
     "output_type": "stream",
     "text": [
      "Best Threshold=0.924667, G-Mean=0.593\n",
      "Best Threshold with Youden J=0.927714\n"
     ]
    }
   ],
   "source": [
    "# calculate roc curves\n",
    "fpr, tpr, thresholds = roc_curve(y_test, yhat)\n",
    "# calculate the g-mean for each threshold this takes into account the balance of specetivity and sensitivity \n",
    "gmeans = np.sqrt(tpr * (1-fpr))\n",
    "# locate the index of the largest g-mean\n",
    "ix = np.argmax(gmeans)\n",
    "print('Best Threshold=%f, G-Mean=%.3f' % (thresholds[ix], gmeans[ix]))\n",
    "J = tpr - fpr\n",
    "ix = np.argmax(J)\n",
    "best_thresh = thresholds[ix]\n",
    "print('Best Threshold with Youden J=%f' % (best_thresh))"
   ]
  },
  {
   "cell_type": "code",
   "execution_count": 54,
   "metadata": {},
   "outputs": [
    {
     "name": "stdout",
     "output_type": "stream",
     "text": [
      "Best Threshold=0.475333, F-Score=0.951\n"
     ]
    }
   ],
   "source": [
    "precision, recall, thresholds = precision_recall_curve(y_test, yhat)\n",
    "# convert to f score\n",
    "fscore = (2 * precision * recall) / (precision + recall)\n",
    "# locate the index of the largest f score\n",
    "ix = np.argmax(fscore)\n",
    "print('Best Threshold=%f, F-Score=%.3f' % (thresholds[ix], fscore[ix]))"
   ]
  },
  {
   "cell_type": "code",
   "execution_count": 57,
   "metadata": {},
   "outputs": [
    {
     "name": "stdout",
     "output_type": "stream",
     "text": [
      "[0.9509563511525257, 0.7052783571313973, 0.0]\n",
      "Threshold=0.475, F-Score=0.95096\n"
     ]
    }
   ],
   "source": [
    "# evaluate the 3 different thresholds to see which has the highest f1 score\n",
    "\n",
    "# keep probabilities for the positive outcome only\n",
    "probs = yhat\n",
    "# define thresholds\n",
    "thresholds = [.475,.924667,927714]\n",
    "# evaluate each threshold\n",
    "scores = [f1_score(y_test, to_labels(probs, t)) for t in thresholds]\n",
    "# get best threshold\n",
    "ix = np.argmax(scores)\n",
    "print(scores)\n",
    "print('Threshold=%.3f, F-Score=%.5f' % (thresholds[ix], scores[ix]))"
   ]
  },
  {
   "cell_type": "code",
   "execution_count": 66,
   "metadata": {},
   "outputs": [],
   "source": [
    "# Define a function which will apply threshold to positive probabilities to create labels of \n",
    "# of classified as 0 or 1 depending on if it is above or bleow the custom threshold\n",
    "def to_labels(pos_probs, threshold):\n",
    "    return (pos_probs >= threshold).astype('int') # true will return 1 false return 0"
   ]
  },
  {
   "cell_type": "markdown",
   "metadata": {},
   "source": [
    "Lets try different thresholds to see if we can create a better model."
   ]
  },
  {
   "cell_type": "code",
   "execution_count": 59,
   "metadata": {},
   "outputs": [
    {
     "name": "stdout",
     "output_type": "stream",
     "text": [
      "              precision    recall  f1-score   support\n",
      "\n",
      "           0       0.75      0.02      0.04       406\n",
      "           1       0.91      1.00      0.95      3881\n",
      "\n",
      "    accuracy                           0.91      4287\n",
      "   macro avg       0.83      0.51      0.50      4287\n",
      "weighted avg       0.89      0.91      0.86      4287\n",
      "\n"
     ]
    }
   ],
   "source": [
    "print(classification_report(y_test, to_labels(probs, .475))) "
   ]
  },
  {
   "cell_type": "code",
   "execution_count": 60,
   "metadata": {},
   "outputs": [
    {
     "name": "stdout",
     "output_type": "stream",
     "text": [
      "              precision    recall  f1-score   support\n",
      "\n",
      "           0       0.13      0.61      0.21       406\n",
      "           1       0.93      0.57      0.71      3881\n",
      "\n",
      "    accuracy                           0.57      4287\n",
      "   macro avg       0.53      0.59      0.46      4287\n",
      "weighted avg       0.86      0.57      0.66      4287\n",
      "\n"
     ]
    }
   ],
   "source": [
    "print(classification_report(y_test, to_labels(probs, .924))) "
   ]
  },
  {
   "cell_type": "markdown",
   "metadata": {},
   "source": [
    "Lower thresholds mean less negative labels which raises the precision on the cancelations and lowers the recall.  A higher threshold increases the recall as it is harder to get a positive label but of course the precision is lower.  The total f1 score for negatives is improved but the precision has droped too low. "
   ]
  },
  {
   "cell_type": "code",
   "execution_count": 63,
   "metadata": {},
   "outputs": [
    {
     "name": "stdout",
     "output_type": "stream",
     "text": [
      "              precision    recall  f1-score   support\n",
      "\n",
      "           0       0.15      0.30      0.20       406\n",
      "           1       0.92      0.83      0.87      3881\n",
      "\n",
      "    accuracy                           0.78      4287\n",
      "   macro avg       0.54      0.56      0.54      4287\n",
      "weighted avg       0.85      0.78      0.81      4287\n",
      "\n"
     ]
    }
   ],
   "source": [
    "print(classification_report(y_test, to_labels(probs, .85))) "
   ]
  },
  {
   "cell_type": "code",
   "execution_count": 65,
   "metadata": {},
   "outputs": [
    {
     "name": "stdout",
     "output_type": "stream",
     "text": [
      "              precision    recall  f1-score   support\n",
      "\n",
      "           0       0.17      0.19      0.18       406\n",
      "           1       0.91      0.90      0.91      3881\n",
      "\n",
      "    accuracy                           0.83      4287\n",
      "   macro avg       0.54      0.55      0.54      4287\n",
      "weighted avg       0.84      0.83      0.84      4287\n",
      "\n"
     ]
    }
   ],
   "source": [
    "print(classification_report(y_test, to_labels(probs, .8))) "
   ]
  },
  {
   "cell_type": "markdown",
   "metadata": {},
   "source": [
    "#### Conclusion:\n",
    "Changing the threshold didn't solve the problem and produce a useful model.  It may be something to come back to and combine with other methods and models if we can get a pretty good model this is a way to tweak the results,"
   ]
  },
  {
   "cell_type": "markdown",
   "metadata": {},
   "source": [
    "## Resample the data set to deal with class imbalance with upsampling"
   ]
  },
  {
   "cell_type": "code",
   "execution_count": 6,
   "metadata": {},
   "outputs": [
    {
     "data": {
      "text/plain": [
       "1    11786\n",
       "0     1202\n",
       "Name: Target, dtype: int64"
      ]
     },
     "execution_count": 6,
     "metadata": {},
     "output_type": "execute_result"
    }
   ],
   "source": [
    "data1['Target'].value_counts()"
   ]
  },
  {
   "cell_type": "code",
   "execution_count": 7,
   "metadata": {},
   "outputs": [],
   "source": [
    "X_imb =  data1.drop(columns=['Target']).values\n",
    "y_imb = data1['Target'].values"
   ]
  },
  {
   "cell_type": "code",
   "execution_count": 8,
   "metadata": {},
   "outputs": [],
   "source": [
    "X_train, X_test, y_train, y_test = train_test_split(X_imb, y_imb , test_size=0.33, random_state=42)"
   ]
  },
  {
   "cell_type": "markdown",
   "metadata": {},
   "source": [
    "The split was done before the upsample. The upsampling was done only on the training data not the testing data."
   ]
  },
  {
   "cell_type": "code",
   "execution_count": 9,
   "metadata": {},
   "outputs": [
    {
     "name": "stdout",
     "output_type": "stream",
     "text": [
      "Number of class 0 samples before: 802\n",
      "Number of class 0 samples after: 7899\n"
     ]
    }
   ],
   "source": [
    "from sklearn.utils import resample\n",
    "\n",
    "print('Number of class 0 samples before:', X_train[y_train == 0].shape[0])\n",
    "\n",
    "X_upsampled, y_upsampled = resample(X_train[y_train == 0],\n",
    "                                    y_train[y_train == 0],\n",
    "                                    replace=True,\n",
    "                                    n_samples=X_train[y_train == 1].shape[0],\n",
    "                                    random_state=123)\n",
    "\n",
    "print('Number of class 0 samples after:', X_upsampled.shape[0])"
   ]
  },
  {
   "cell_type": "code",
   "execution_count": 10,
   "metadata": {},
   "outputs": [],
   "source": [
    "# after increasing the number of cancelations the training data is merged with the renewals. \n",
    "X_train = np.vstack((X_train[y_train == 1], X_upsampled))\n",
    "y_train = np.hstack((y_train[y_train == 1], y_upsampled))"
   ]
  },
  {
   "cell_type": "code",
   "execution_count": 11,
   "metadata": {},
   "outputs": [
    {
     "name": "stdout",
     "output_type": "stream",
     "text": [
      "[[  38  362]\n",
      " [  92 3795]]\n",
      "              precision    recall  f1-score   support\n",
      "\n",
      "           0       0.29      0.10      0.14       400\n",
      "           1       0.91      0.98      0.94      3887\n",
      "\n",
      "    accuracy                           0.89      4287\n",
      "   macro avg       0.60      0.54      0.54      4287\n",
      "weighted avg       0.86      0.89      0.87      4287\n",
      "\n"
     ]
    }
   ],
   "source": [
    "rfc = RandomForestClassifier(n_estimators=100)\n",
    "rfc.fit(X_train, y_train)\n",
    "rfc_pred = rfc.predict(X_test)\n",
    "print(confusion_matrix(y_test,rfc_pred))\n",
    "print(classification_report(y_test,rfc_pred))"
   ]
  },
  {
   "cell_type": "markdown",
   "metadata": {},
   "source": [
    "This gives us more balance between recall and precision but not a great model.  Lets try to tweak it.  "
   ]
  },
  {
   "cell_type": "markdown",
   "metadata": {},
   "source": [
    "### Run a grid search combining upsampling with tuning \n",
    "\n",
    "The grid search was run with scalled data using area under roc curve as the scoring criteria.  5 fold cross validation was used becasue the searches are very slow.  "
   ]
  },
  {
   "cell_type": "code",
   "execution_count": 12,
   "metadata": {},
   "outputs": [],
   "source": [
    "from sklearn.preprocessing import StandardScaler\n",
    "ss = StandardScaler()\n",
    "X_train = ss.fit_transform(X_train)\n",
    "X_test = ss.transform(X_test)"
   ]
  },
  {
   "cell_type": "code",
   "execution_count": 17,
   "metadata": {},
   "outputs": [
    {
     "name": "stdout",
     "output_type": "stream",
     "text": [
      "Fitting 5 folds for each of 1296 candidates, totalling 6480 fits\n"
     ]
    },
    {
     "name": "stderr",
     "output_type": "stream",
     "text": [
      "[Parallel(n_jobs=-1)]: Using backend LokyBackend with 4 concurrent workers.\n",
      "[Parallel(n_jobs=-1)]: Done  42 tasks      | elapsed:   17.0s\n",
      "[Parallel(n_jobs=-1)]: Done 192 tasks      | elapsed:  1.2min\n",
      "[Parallel(n_jobs=-1)]: Done 442 tasks      | elapsed:  2.7min\n",
      "[Parallel(n_jobs=-1)]: Done 792 tasks      | elapsed:  5.5min\n",
      "[Parallel(n_jobs=-1)]: Done 1242 tasks      | elapsed:  9.3min\n",
      "[Parallel(n_jobs=-1)]: Done 1792 tasks      | elapsed: 14.0min\n",
      "[Parallel(n_jobs=-1)]: Done 2442 tasks      | elapsed: 20.0min\n",
      "[Parallel(n_jobs=-1)]: Done 3192 tasks      | elapsed: 26.6min\n",
      "[Parallel(n_jobs=-1)]: Done 4042 tasks      | elapsed: 35.8min\n",
      "[Parallel(n_jobs=-1)]: Done 4992 tasks      | elapsed: 48.5min\n",
      "[Parallel(n_jobs=-1)]: Done 6042 tasks      | elapsed: 62.1min\n",
      "[Parallel(n_jobs=-1)]: Done 6480 out of 6480 | elapsed: 67.4min finished\n"
     ]
    },
    {
     "name": "stdout",
     "output_type": "stream",
     "text": [
      "0.9996003605024567\n",
      "{'criterion': 'entropy', 'max_depth': 60, 'max_features': 'log2', 'min_samples_leaf': 1, 'min_samples_split': 2, 'n_estimators': 50}\n"
     ]
    }
   ],
   "source": [
    "rf =  RandomForestClassifier()\n",
    "\n",
    "param_grid = [{'n_estimators':  [2,50,100],\n",
    "               'min_samples_split': [2, 5, 10],\n",
    "               'min_samples_leaf': [1, 2, 4],\n",
    "              'max_features': ['auto', 'sqrt', 'log2'],\n",
    "    'max_depth' : [10, 20, 30, 40, 50, 60, 70, None],\n",
    "    'criterion' :['gini', 'entropy']}]\n",
    "\n",
    "gs = GridSearchCV(rf, param_grid=param_grid, scoring= 'roc_auc', cv=5, n_jobs=-1, verbose = 1)\n",
    "\n",
    "gs = gs.fit(X_train, y_train)\n",
    "\n",
    "print(gs.best_score_)\n",
    "print(gs.best_params_)\n"
   ]
  },
  {
   "cell_type": "code",
   "execution_count": 19,
   "metadata": {},
   "outputs": [
    {
     "name": "stdout",
     "output_type": "stream",
     "text": [
      "[[  37  318]\n",
      " [ 105 3437]]\n",
      "              precision    recall  f1-score   support\n",
      "\n",
      "           0       0.26      0.10      0.15       355\n",
      "           1       0.92      0.97      0.94      3542\n",
      "\n",
      "    accuracy                           0.89      3897\n",
      "   macro avg       0.59      0.54      0.55      3897\n",
      "weighted avg       0.86      0.89      0.87      3897\n",
      "\n"
     ]
    }
   ],
   "source": [
    "gs.best_estimator_\n",
    "grid_predictions = gs.predict(X_test)\n",
    "print(confusion_matrix(y_test,grid_predictions))\n",
    "print(classification_report(y_test,grid_predictions))"
   ]
  },
  {
   "cell_type": "markdown",
   "metadata": {},
   "source": [
    "Results are basically the same as the first model run with upsampling.  Note the best score from the grid search was really high.\n",
    "\n",
    "## Learning Curve for upsampled data set"
   ]
  },
  {
   "cell_type": "code",
   "execution_count": 14,
   "metadata": {},
   "outputs": [
    {
     "data": {
      "image/png": "[encoded data removed]",
      "text/plain": [
       "<Figure size 720x720 with 1 Axes>"
      ]
     },
     "metadata": {
      "needs_background": "light"
     },
     "output_type": "display_data"
    }
   ],
   "source": [
    "# Plot Learning Curve\n",
    "    # Create CV training and test scores for various training set sizes\n",
    "train_sizes, train_scores, test_scores = learning_curve(RandomForestClassifier(n_estimators = 50, random_state = 0,\n",
    "                                min_samples_leaf=1, min_samples_split =2, criterion =  'entropy', \n",
    "                             max_depth= 60, max_features = 'log2', ), \n",
    "                                            X_train,  y_train, cv=10, scoring='accuracy', n_jobs=-1, \n",
    "                                              train_sizes=np.linspace(0.1, 1.0, 10))\n",
    "\n",
    "train_mean = np.mean(train_scores, axis=1)\n",
    "train_std = np.std(train_scores, axis=1)\n",
    "test_mean = np.mean(test_scores, axis=1)\n",
    "test_std = np.std(test_scores, axis=1)\n",
    "\n",
    "\n",
    "\n",
    " # Draw lines\n",
    "plt.subplots(1, figsize=(10,10))\n",
    "plt.plot(train_sizes, train_mean, '--', color=\"#111111\",  label=\"Training score\")\n",
    "plt.plot(train_sizes, test_mean, color=\"#111111\", label=\"Cross-validation score\")\n",
    "    \n",
    "    # Draw bands\n",
    "plt.fill_between(train_sizes, train_mean - train_std, train_mean + train_std, color=\"#DDDDDD\")\n",
    "plt.fill_between(train_sizes, test_mean - test_std, test_mean + test_std, color=\"#DDDDDD\")\n",
    "    \n",
    "    # Create plot \n",
    "plt.title(\"Learning Curve\")\n",
    "plt.xlabel(\"Training Set Size\"), plt.ylabel(\"Accuracy Score\"), plt.legend(loc=\"best\")\n",
    "plt.tight_layout()"
   ]
  },
  {
   "cell_type": "markdown",
   "metadata": {},
   "source": [
    "### Results:\n",
    "We can see that at 7000 entries the accuracy increase dramatically and then levels off after 11,000.  lets try to increase the training size to increase accuracy.  "
   ]
  },
  {
   "cell_type": "code",
   "execution_count": 15,
   "metadata": {},
   "outputs": [
    {
     "name": "stdout",
     "output_type": "stream",
     "text": [
      "Number of class 0 samples before: 1026\n",
      "Number of class 0 samples after: 10013\n"
     ]
    }
   ],
   "source": [
    "X_train, X_test, y_train, y_test = train_test_split(X_imb, y_imb , test_size=0.15, random_state=42)\n",
    "\n",
    "\n",
    "print('Number of class 0 samples before:', X_train[y_train == 0].shape[0])\n",
    "\n",
    "X_upsampled, y_upsampled = resample(X_train[y_train == 0],\n",
    "                                    y_train[y_train == 0],\n",
    "                                    replace=True,\n",
    "                                    n_samples=X_train[y_train == 1].shape[0],\n",
    "                                    random_state=123)\n",
    "\n",
    "print('Number of class 0 samples after:', X_upsampled.shape[0])\n",
    "\n",
    "X_train = np.vstack((X_train[y_train == 1], X_upsampled))\n",
    "y_train = np.hstack((y_train[y_train == 1], y_upsampled))\n",
    "\n",
    "\n",
    "ss = StandardScaler()\n",
    "X_train = ss.fit_transform(X_train)\n",
    "X_test = ss.transform(X_test)"
   ]
  },
  {
   "cell_type": "markdown",
   "metadata": {},
   "source": [
    "Note the trying size previoulsy was only 7000 now we are over 10k. We will use the same model that was used for the learning curve."
   ]
  },
  {
   "cell_type": "code",
   "execution_count": 16,
   "metadata": {},
   "outputs": [],
   "source": [
    "clf = RandomForestClassifier(n_estimators = 50, random_state = 0, min_samples_leaf=1, min_samples_split =2, criterion =  'entropy', \n",
    "                             max_depth= 60, max_features = 'log2', ).fit(X_train, y_train)"
   ]
  },
  {
   "cell_type": "code",
   "execution_count": 17,
   "metadata": {},
   "outputs": [
    {
     "name": "stdout",
     "output_type": "stream",
     "text": [
      "[[  20  156]\n",
      " [  55 1718]]\n",
      "              precision    recall  f1-score   support\n",
      "\n",
      "           0       0.27      0.11      0.16       176\n",
      "           1       0.92      0.97      0.94      1773\n",
      "\n",
      "    accuracy                           0.89      1949\n",
      "   macro avg       0.59      0.54      0.55      1949\n",
      "weighted avg       0.86      0.89      0.87      1949\n",
      "\n"
     ]
    }
   ],
   "source": [
    "y_pred = clf.predict(X_test)\n",
    "\n",
    "cm = confusion_matrix(y_true=y_test, y_pred=y_pred)\n",
    "print(cm)\n",
    "print(classification_report(y_test,y_pred))"
   ]
  },
  {
   "cell_type": "markdown",
   "metadata": {},
   "source": [
    "#### lets make a learning curve with different criteria of scoring now we will use f1 score."
   ]
  },
  {
   "cell_type": "code",
   "execution_count": 18,
   "metadata": {},
   "outputs": [
    {
     "data": {
      "image/png": "[encoded data removed]",
      "text/plain": [
       "<Figure size 720x720 with 1 Axes>"
      ]
     },
     "metadata": {
      "needs_background": "light"
     },
     "output_type": "display_data"
    }
   ],
   "source": [
    "train_sizes, train_scores, test_scores = learning_curve(RandomForestClassifier(n_estimators = 50, random_state = 0,\n",
    "                                min_samples_leaf=1, min_samples_split =2, criterion =  'entropy', \n",
    "                             max_depth= 60, max_features = 'log2', ), \n",
    "                                            X_train,  y_train, cv=10, scoring='f1', n_jobs=-1, \n",
    "                                              train_sizes=np.linspace(0.1, 1.0, 10))\n",
    "\n",
    "\n",
    "train_mean = np.mean(train_scores, axis=1)\n",
    "train_std = np.std(train_scores, axis=1)\n",
    "test_mean = np.mean(test_scores, axis=1)\n",
    "test_std = np.std(test_scores, axis=1)\n",
    "\n",
    "\n",
    "\n",
    "# Draw lines\n",
    "plt.subplots(1, figsize=(10,10))\n",
    "plt.plot(train_sizes, train_mean, '--', color=\"#111111\",  label=\"Training score\")\n",
    "plt.plot(train_sizes, test_mean, color=\"#111111\", label=\"Cross-validation score\")\n",
    "    \n",
    "    # Draw bands\n",
    "plt.fill_between(train_sizes, train_mean - train_std, train_mean + train_std, color=\"#DDDDDD\")\n",
    "plt.fill_between(train_sizes, test_mean - test_std, test_mean + test_std, color=\"#DDDDDD\")\n",
    "    \n",
    "    # Create plot \n",
    "plt.title(\"Learning Curve\")\n",
    "plt.xlabel(\"Training Set Size\"), plt.ylabel(\"F1\"), plt.legend(loc=\"best\")\n",
    "plt.tight_layout()\n"
   ]
  },
  {
   "cell_type": "markdown",
   "metadata": {},
   "source": [
    "  We can see from the scale at the bottom the f1 score increase only once the training size gets to 9000 and doesn't level off until around 13k.  Lets see if we can generate an even bigger training set."
   ]
  },
  {
   "cell_type": "code",
   "execution_count": 19,
   "metadata": {},
   "outputs": [
    {
     "name": "stdout",
     "output_type": "stream",
     "text": [
      "Number of class 0 samples before: 1094\n",
      "Number of class 0 samples after: 10595\n",
      "[[  15   93]\n",
      " [  30 1161]]\n",
      "              precision    recall  f1-score   support\n",
      "\n",
      "           0       0.33      0.14      0.20       108\n",
      "           1       0.93      0.97      0.95      1191\n",
      "\n",
      "    accuracy                           0.91      1299\n",
      "   macro avg       0.63      0.56      0.57      1299\n",
      "weighted avg       0.88      0.91      0.89      1299\n",
      "\n"
     ]
    }
   ],
   "source": [
    "# test size is very small to leave a bigger training set\n",
    "X_train, X_test, y_train, y_test = train_test_split(X_imb, y_imb , test_size=0.10, random_state=42)\n",
    "\n",
    "\n",
    "print('Number of class 0 samples before:', X_train[y_train == 0].shape[0])\n",
    "\n",
    "X_upsampled, y_upsampled = resample(X_train[y_train == 0],\n",
    "                                    y_train[y_train == 0],\n",
    "                                    replace=True,\n",
    "                                    n_samples=X_train[y_train == 1].shape[0],\n",
    "                                    random_state=123)\n",
    "\n",
    "print('Number of class 0 samples after:', X_upsampled.shape[0])\n",
    "\n",
    "X_train = np.vstack((X_train[y_train == 1], X_upsampled))\n",
    "y_train = np.hstack((y_train[y_train == 1], y_upsampled))\n",
    "\n",
    "\n",
    "\n",
    "from sklearn.preprocessing import StandardScaler\n",
    "ss = StandardScaler()\n",
    "X_train = ss.fit_transform(X_train)\n",
    "X_test = ss.transform(X_test)\n",
    "\n",
    "clf = RandomForestClassifier(n_estimators = 50, random_state = 0, min_samples_leaf=1, min_samples_split =2, criterion =  'entropy', \n",
    "                             max_depth= 60, max_features = 'log2', ).fit(X_train, y_train)\n",
    "\n",
    "y_pred = clf.predict(X_test)\n",
    "\n",
    "cm = confusion_matrix(y_true=y_test, y_pred=y_pred)\n",
    "print(cm)\n",
    "print(classification_report(y_test,y_pred))"
   ]
  },
  {
   "cell_type": "markdown",
   "metadata": {},
   "source": [
    "Things are improving.  The f1 score for the cancellations is rising and so is the recall.  \n",
    "#### We only used a sample size of 10k cancellations including upsampled entries.  Maybe more data would help us.\n",
    "\n",
    "Lets run a grid search using recall as criteria to optimize the recall."
   ]
  },
  {
   "cell_type": "code",
   "execution_count": 7,
   "metadata": {},
   "outputs": [
    {
     "name": "stdout",
     "output_type": "stream",
     "text": [
      "Fitting 5 folds for each of 1296 candidates, totalling 6480 fits\n"
     ]
    },
    {
     "name": "stderr",
     "output_type": "stream",
     "text": [
      "[Parallel(n_jobs=-1)]: Using backend LokyBackend with 4 concurrent workers.\n",
      "[Parallel(n_jobs=-1)]: Done  42 tasks      | elapsed:   19.0s\n",
      "[Parallel(n_jobs=-1)]: Done 192 tasks      | elapsed:  1.2min\n",
      "[Parallel(n_jobs=-1)]: Done 442 tasks      | elapsed:  2.7min\n",
      "[Parallel(n_jobs=-1)]: Done 792 tasks      | elapsed:  5.4min\n",
      "[Parallel(n_jobs=-1)]: Done 1242 tasks      | elapsed:  9.0min\n",
      "[Parallel(n_jobs=-1)]: Done 1792 tasks      | elapsed: 13.5min\n",
      "[Parallel(n_jobs=-1)]: Done 2442 tasks      | elapsed: 18.8min\n",
      "[Parallel(n_jobs=-1)]: Done 3192 tasks      | elapsed: 24.9min\n",
      "[Parallel(n_jobs=-1)]: Done 4042 tasks      | elapsed: 33.2min\n",
      "[Parallel(n_jobs=-1)]: Done 4992 tasks      | elapsed: 45.2min\n",
      "[Parallel(n_jobs=-1)]: Done 6042 tasks      | elapsed: 58.8min\n",
      "[Parallel(n_jobs=-1)]: Done 6480 out of 6480 | elapsed: 64.7min finished\n"
     ]
    },
    {
     "name": "stdout",
     "output_type": "stream",
     "text": [
      "0.9631235023285664\n",
      "{'criterion': 'gini', 'max_depth': 50, 'max_features': 'log2', 'min_samples_leaf': 1, 'min_samples_split': 5, 'n_estimators': 100}\n"
     ]
    }
   ],
   "source": [
    "rf =  RandomForestClassifier()\n",
    "\n",
    "param_grid = [{'n_estimators':  [2,50,100],\n",
    "               'min_samples_split': [2, 5, 10],\n",
    "               'min_samples_leaf': [1, 2, 4],\n",
    "              'max_features': ['auto', 'sqrt', 'log2'],\n",
    "    'max_depth' : [10, 20, 30, 40, 50, 60, 70, None],\n",
    "    'criterion' :['gini', 'entropy']}]\n",
    "\n",
    "gs = GridSearchCV(rf, param_grid=param_grid, scoring= 'recall', cv=5, n_jobs=-1, verbose = 1)\n",
    "\n",
    "gs = gs.fit(X_train, y_train)\n",
    "\n",
    "\n",
    "\n",
    "print(gs.best_score_)\n",
    "print(gs.best_params_)\n"
   ]
  },
  {
   "cell_type": "code",
   "execution_count": 8,
   "metadata": {},
   "outputs": [
    {
     "name": "stdout",
     "output_type": "stream",
     "text": [
      "[[  40  315]\n",
      " [  88 3454]]\n",
      "              precision    recall  f1-score   support\n",
      "\n",
      "           0       0.31      0.11      0.17       355\n",
      "           1       0.92      0.98      0.94      3542\n",
      "\n",
      "    accuracy                           0.90      3897\n",
      "   macro avg       0.61      0.54      0.56      3897\n",
      "weighted avg       0.86      0.90      0.87      3897\n",
      "\n"
     ]
    }
   ],
   "source": [
    "gs.best_estimator_\n",
    "grid_predictions = gs.predict(X_test)\n",
    "print(confusion_matrix(y_test,grid_predictions))\n",
    "print(classification_report(y_test,grid_predictions))"
   ]
  },
  {
   "cell_type": "markdown",
   "metadata": {},
   "source": [
    "The recall is very high but that is mainly because of the renwals.  For cancellations our recall has not improved at all.  Below is a learning curve with recall as the scoring criteria."
   ]
  },
  {
   "cell_type": "code",
   "execution_count": 24,
   "metadata": {},
   "outputs": [
    {
     "data": {
      "image/png": "[encoded data removed]",
      "text/plain": [
       "<Figure size 432x288 with 1 Axes>"
      ]
     },
     "metadata": {
      "needs_background": "light"
     },
     "output_type": "display_data"
    }
   ],
   "source": [
    "train_sizes, train_scores, test_scores = learning_curve(RandomForestClassifier(n_estimators = 100, random_state = 0,\n",
    "                                min_samples_leaf=1, min_samples_split =5, criterion =  'gini', \n",
    "                             max_depth= 50, max_features = 'log2', ), \n",
    "                                            X_train,  y_train, cv=10, scoring='recall', n_jobs=-1, \n",
    "                                              train_sizes=np.linspace(0.1, 1.0, 10))\n",
    "\n",
    "\n",
    "train_mean = np.mean(train_scores, axis=1)\n",
    "train_std = np.std(train_scores, axis=1)\n",
    "test_mean = np.mean(test_scores, axis=1)\n",
    "test_std = np.std(test_scores, axis=1)\n",
    "\n",
    "\n",
    "\n",
    "plt.plot(train_sizes, train_mean,\n",
    "         color='blue', marker='o',\n",
    "         markersize=5, label='training recall')\n",
    "\n",
    "plt.fill_between(train_sizes,\n",
    "                 train_mean + train_std,\n",
    "                 train_mean - train_std,\n",
    "                 alpha=0.15, color='blue')\n",
    "\n",
    "plt.plot(train_sizes, test_mean,\n",
    "         color='green', linestyle='--',\n",
    "         marker='s', markersize=5,\n",
    "         label='validation recall ')\n",
    "\n",
    "plt.fill_between(train_sizes,\n",
    "                 test_mean + test_std,\n",
    "                 test_mean - test_std,\n",
    "                 alpha=0.15, color='green')\n",
    "\n",
    "plt.grid()\n",
    "plt.xlabel('Number of training samples')\n",
    "plt.ylabel('recall')\n",
    "plt.legend(loc='lower right')\n",
    "plt.ylim([0.8, 1.0])\n",
    "plt.tight_layout()"
   ]
  },
  {
   "cell_type": "markdown",
   "metadata": {},
   "source": [
    "the max n estimators tested in the grid search was 100 maybe more than that will help."
   ]
  },
  {
   "cell_type": "code",
   "execution_count": 22,
   "metadata": {},
   "outputs": [],
   "source": [
    "clf = RandomForestClassifier(n_estimators = 200, random_state = 0, min_samples_leaf=1, min_samples_split =2, criterion =  'entropy', \n",
    "                             max_depth= 60, max_features = 'log2', ).fit(X_train, y_train)"
   ]
  },
  {
   "cell_type": "code",
   "execution_count": 23,
   "metadata": {},
   "outputs": [
    {
     "name": "stdout",
     "output_type": "stream",
     "text": [
      "[[  15   93]\n",
      " [  24 1167]]\n",
      "              precision    recall  f1-score   support\n",
      "\n",
      "           0       0.38      0.14      0.20       108\n",
      "           1       0.93      0.98      0.95      1191\n",
      "\n",
      "    accuracy                           0.91      1299\n",
      "   macro avg       0.66      0.56      0.58      1299\n",
      "weighted avg       0.88      0.91      0.89      1299\n",
      "\n"
     ]
    }
   ],
   "source": [
    "y_pred = clf.predict(X_test)\n",
    "\n",
    "cm = confusion_matrix(y_true=y_test, y_pred=y_pred)\n",
    "print(cm)\n",
    "print(classification_report(y_test,y_pred))"
   ]
  },
  {
   "cell_type": "code",
   "execution_count": 20,
   "metadata": {},
   "outputs": [],
   "source": [
    "clf = RandomForestClassifier(n_estimators = 500, random_state = 0,\n",
    "                                min_samples_leaf=1, min_samples_split =5, criterion =  'gini', \n",
    "                             max_depth= 50, max_features = 'log2', ).fit(X_train, y_train)\n",
    "\n"
   ]
  },
  {
   "cell_type": "code",
   "execution_count": 21,
   "metadata": {},
   "outputs": [
    {
     "name": "stdout",
     "output_type": "stream",
     "text": [
      "[[  16   92]\n",
      " [  20 1171]]\n",
      "              precision    recall  f1-score   support\n",
      "\n",
      "           0       0.44      0.15      0.22       108\n",
      "           1       0.93      0.98      0.95      1191\n",
      "\n",
      "    accuracy                           0.91      1299\n",
      "   macro avg       0.69      0.57      0.59      1299\n",
      "weighted avg       0.89      0.91      0.89      1299\n",
      "\n"
     ]
    }
   ],
   "source": [
    "y_pred = clf.predict(X_test)\n",
    "\n",
    "cm = confusion_matrix(y_true=y_test, y_pred=y_pred)\n",
    "print(cm)\n",
    "print(classification_report(y_test,y_pred))"
   ]
  },
  {
   "cell_type": "markdown",
   "metadata": {},
   "source": [
    "### Note for Later\n",
    "This was the highest f1 score we were able to get so far for cancellations.  It is a random Forest model with n =500, upsampled with very large training set and scaled.  \n",
    "\n",
    "#### roc curve\n",
    "Lets graph an roc curve with the model to see how much predictive power the model has.\n",
    "\n"
   ]
  },
  {
   "cell_type": "code",
   "execution_count": 27,
   "metadata": {},
   "outputs": [
    {
     "data": {
      "text/plain": [
       "<matplotlib.legend.Legend at 0x1e5ef658a88>"
      ]
     },
     "execution_count": 27,
     "metadata": {},
     "output_type": "execute_result"
    },
    {
     "data": {
      "image/png": "[encoded data removed]",
      "text/plain": [
       "<Figure size 432x288 with 1 Axes>"
      ]
     },
     "metadata": {
      "needs_background": "light"
     },
     "output_type": "display_data"
    }
   ],
   "source": [
    "from sklearn.metrics import roc_curve\n",
    "model = clf  # this is the model above where n = 500 \n",
    "model.fit(X_train, y_train)\n",
    "# predict probabilities\n",
    "yhat = model.predict_proba(X_test)\n",
    "# keep probabilities for the positive outcome only\n",
    "yhat = yhat[:, 1]\n",
    "# calculate roc curves\n",
    "fpr, tpr, thresholds = roc_curve(y_test, yhat) # can label pos_label=1\n",
    "# plot the roc curve for the model\n",
    "plt.plot([0,1], [0,1], linestyle='--', label='No Skill')\n",
    "plt.plot(fpr, tpr, marker='.', label='RF') \n",
    "# axis labels\n",
    "plt.xlabel('False Positive Rate')\n",
    "plt.ylabel('True Positive Rate')\n",
    "plt.legend()\n"
   ]
  },
  {
   "cell_type": "code",
   "execution_count": 28,
   "metadata": {},
   "outputs": [
    {
     "name": "stdout",
     "output_type": "stream",
     "text": [
      "0.5568499860061573\n"
     ]
    },
    {
     "data": {
      "image/png": "[encoded data removed]",
      "text/plain": [
       "<Figure size 432x288 with 1 Axes>"
      ]
     },
     "metadata": {
      "needs_background": "light"
     },
     "output_type": "display_data"
    }
   ],
   "source": [
    "# roc curve with best model from grid search remember we are dealing with a very large training set and upsampled\n",
    "model = RandomForestClassifier(n_estimators = 50, random_state = 0, min_samples_leaf=1, min_samples_split =2, criterion =  'entropy', \n",
    "                             max_depth= 60, max_features = 'log2', )\n",
    "model.fit(X_train, y_train)\n",
    "# predict probabilities\n",
    "yhat = model.predict_proba(X_test)\n",
    "# keep probabilities for the positive outcome only\n",
    "yhat = yhat[:, 1]\n",
    "# calculate roc curves\n",
    "fpr, tpr, thresholds = roc_curve(y_test, yhat)\n",
    "# plot the roc curve for the model\n",
    "plt.plot([0,1], [0,1], linestyle='--', label='No Skill')\n",
    "plt.plot(fpr, tpr, marker='.', label='RF') \n",
    "# axis labels\n",
    "plt.xlabel('False Positive Rate')\n",
    "plt.ylabel('True Positive Rate')\n",
    "plt.legend()\n"
   ]
  },
  {
   "cell_type": "markdown",
   "metadata": {},
   "source": [
    "### Down Sampling\n",
    "Lets try other techniques for imbalanced classification."
   ]
  },
  {
   "cell_type": "code",
   "execution_count": 29,
   "metadata": {},
   "outputs": [],
   "source": [
    "target = 'Target'\n",
    "X =  data1.drop(columns=['Target']).values\n",
    "y = data1['Target'].values\n",
    "X_train, X_test, y_train, y_test = train_test_split(X, y, test_size=0.33, random_state=101)"
   ]
  },
  {
   "cell_type": "code",
   "execution_count": 30,
   "metadata": {},
   "outputs": [
    {
     "name": "stdout",
     "output_type": "stream",
     "text": [
      "Number of class 1 samples before: 7905\n",
      "Number of class 0 samples after: 796\n"
     ]
    }
   ],
   "source": [
    "from sklearn.utils import resample\n",
    "\n",
    "print('Number of class 1 samples before:', X_train[y_train == 1].shape[0])\n",
    "\n",
    "X_downsampled, y_downsampled = resample(X_train[y_train == 1],\n",
    "                                    y_train[y_train == 1],\n",
    "                                    replace=False,\n",
    "                                    n_samples=X_train[y_train == 0].shape[0],\n",
    "                                    random_state=123)\n",
    "\n",
    "print('Number of class 0 samples after:', X_downsampled.shape[0])"
   ]
  },
  {
   "cell_type": "code",
   "execution_count": 31,
   "metadata": {},
   "outputs": [],
   "source": [
    "X_train = np.vstack((X_train[y_train == 0], X_downsampled))\n",
    "y_train = np.hstack((y_train[y_train == 0], y_downsampled))"
   ]
  },
  {
   "cell_type": "code",
   "execution_count": 32,
   "metadata": {},
   "outputs": [
    {
     "name": "stdout",
     "output_type": "stream",
     "text": [
      "[[ 241  165]\n",
      " [1790 2091]]\n",
      "              precision    recall  f1-score   support\n",
      "\n",
      "           0       0.12      0.59      0.20       406\n",
      "           1       0.93      0.54      0.68      3881\n",
      "\n",
      "    accuracy                           0.54      4287\n",
      "   macro avg       0.52      0.57      0.44      4287\n",
      "weighted avg       0.85      0.54      0.64      4287\n",
      "\n"
     ]
    }
   ],
   "source": [
    "rfc = RandomForestClassifier(n_estimators=50)\n",
    "rfc.fit(X_train, y_train)\n",
    "rfc_pred = rfc.predict(X_test)\n",
    "print(confusion_matrix(y_test,rfc_pred))\n",
    "print(classification_report(y_test,rfc_pred))"
   ]
  },
  {
   "cell_type": "markdown",
   "metadata": {},
   "source": [
    "#### Conclusion:\n",
    "We  didn't get great precision with the minority class and we have worse performance with the majority class.  The overall f1 is 54.  The dataset is too small to downsample.  "
   ]
  },
  {
   "cell_type": "markdown",
   "metadata": {},
   "source": [
    "## Smote (synthetic production of samples)"
   ]
  },
  {
   "cell_type": "code",
   "execution_count": 33,
   "metadata": {},
   "outputs": [],
   "source": [
    "from sklearn.model_selection import cross_val_score\n",
    "from sklearn.model_selection import RepeatedStratifiedKFold\n",
    "from imblearn.pipeline import Pipeline\n",
    "from imblearn.over_sampling import SMOTE"
   ]
  },
  {
   "cell_type": "code",
   "execution_count": 34,
   "metadata": {},
   "outputs": [
    {
     "name": "stdout",
     "output_type": "stream",
     "text": [
      "Mean ROC AUC: 0.642\n"
     ]
    }
   ],
   "source": [
    "X =  data1.drop(columns=['Target']).values\n",
    "y = data1['Target'].values\n",
    "model = RandomForestClassifier()\n",
    "# evaluate pipeline without smote using the auc roc as criteria for scoring\n",
    "cv = RepeatedStratifiedKFold(n_splits=10, n_repeats=3, random_state=1)\n",
    "scores = cross_val_score(model, X, y, scoring='roc_auc', cv=cv, n_jobs=-1)\n",
    "print('Mean ROC AUC: %.3f' % np.mean(scores))"
   ]
  },
  {
   "cell_type": "code",
   "execution_count": 35,
   "metadata": {},
   "outputs": [
    {
     "name": "stdout",
     "output_type": "stream",
     "text": [
      "Mean ROC AUC: 0.665\n"
     ]
    }
   ],
   "source": [
    "steps = [('over', SMOTE()), ('model', RandomForestClassifier())]\n",
    "pipeline = Pipeline(steps=steps)\n",
    "# evaluate pipeline with smote \n",
    "cv = RepeatedStratifiedKFold(n_splits=10, n_repeats=3, random_state=1)\n",
    "scores = cross_val_score(pipeline, X, y, scoring='roc_auc', cv=cv, n_jobs=-1)\n",
    "print('Mean ROC AUC: %.3f' % np.mean(scores))"
   ]
  },
  {
   "cell_type": "markdown",
   "metadata": {},
   "source": [
    "smote did help but not by much lets run it on a model."
   ]
  },
  {
   "cell_type": "code",
   "execution_count": 36,
   "metadata": {},
   "outputs": [],
   "source": [
    "X_train, X_test, y_train, y_test = train_test_split(X, y, test_size=0.33, random_state=4)"
   ]
  },
  {
   "cell_type": "code",
   "execution_count": 37,
   "metadata": {},
   "outputs": [],
   "source": [
    "# fit smote on the training data not the testing data\n",
    "sm = SMOTE(random_state = 2) \n",
    "X_train_res, y_train_res = sm.fit_sample(X_train, y_train.ravel()) "
   ]
  },
  {
   "cell_type": "code",
   "execution_count": 38,
   "metadata": {},
   "outputs": [
    {
     "name": "stdout",
     "output_type": "stream",
     "text": [
      "After OverSampling, the shape of train_X: (15770, 7)\n",
      "After OverSampling, the shape of train_y: (15770,) \n",
      "\n",
      "After OverSampling, counts of label '1': 7885\n",
      "After OverSampling, counts of label '0': 7885\n"
     ]
    }
   ],
   "source": [
    "print('After OverSampling, the shape of train_X: {}'.format(X_train_res.shape)) \n",
    "print('After OverSampling, the shape of train_y: {} \\n'.format(y_train_res.shape)) \n",
    "  \n",
    "print(\"After OverSampling, counts of label '1': {}\".format(sum(y_train_res == 1))) \n",
    "print(\"After OverSampling, counts of label '0': {}\".format(sum(y_train_res == 0))) \n"
   ]
  },
  {
   "cell_type": "code",
   "execution_count": 39,
   "metadata": {},
   "outputs": [],
   "source": [
    "rfc = RandomForestClassifier(n_estimators=50)\n",
    "rfc.fit(X_train_res, y_train_res)\n",
    "rfc_pred = rfc.predict(X_test)"
   ]
  },
  {
   "cell_type": "code",
   "execution_count": 40,
   "metadata": {},
   "outputs": [
    {
     "name": "stdout",
     "output_type": "stream",
     "text": [
      "[[ 100  286]\n",
      " [ 460 3441]]\n"
     ]
    }
   ],
   "source": [
    "print(confusion_matrix(y_test,rfc_pred))"
   ]
  },
  {
   "cell_type": "code",
   "execution_count": 41,
   "metadata": {},
   "outputs": [
    {
     "name": "stdout",
     "output_type": "stream",
     "text": [
      "              precision    recall  f1-score   support\n",
      "\n",
      "           0       0.18      0.26      0.21       386\n",
      "           1       0.92      0.88      0.90      3901\n",
      "\n",
      "    accuracy                           0.83      4287\n",
      "   macro avg       0.55      0.57      0.56      4287\n",
      "weighted avg       0.86      0.83      0.84      4287\n",
      "\n"
     ]
    }
   ],
   "source": [
    "print(classification_report(y_test,rfc_pred))"
   ]
  },
  {
   "cell_type": "markdown",
   "metadata": {},
   "source": [
    "the results aren't improved enough to be helpful but the official research recomends combining smote with downsampling."
   ]
  },
  {
   "cell_type": "code",
   "execution_count": 48,
   "metadata": {},
   "outputs": [
    {
     "name": "stdout",
     "output_type": "stream",
     "text": [
      "Number of class 1 samples before: 7885\n",
      "Number of class 1 samples after: 6000\n"
     ]
    }
   ],
   "source": [
    "from sklearn.utils import resample\n",
    "\n",
    "print('Number of class 1 samples before:', X_train[y_train == 1].shape[0])\n",
    "\n",
    "X_downsampled, y_downsampled = resample(X_train[y_train == 1],\n",
    "                                    y_train[y_train == 1],\n",
    "                                    replace=False,\n",
    "                                    n_samples= 6000,\n",
    "                                    random_state=123)\n",
    "\n",
    "print('Number of class 1 samples after:', X_downsampled.shape[0])"
   ]
  },
  {
   "cell_type": "code",
   "execution_count": 49,
   "metadata": {},
   "outputs": [],
   "source": [
    "X_train = np.vstack((X_train[y_train == 0], X_downsampled))\n",
    "y_train = np.hstack((y_train[y_train == 0], y_downsampled))"
   ]
  },
  {
   "cell_type": "code",
   "execution_count": 51,
   "metadata": {},
   "outputs": [],
   "source": [
    "sm = SMOTE(random_state = 2) \n",
    "X_train_res, y_train_res = sm.fit_sample(X_train, y_train)   "
   ]
  },
  {
   "cell_type": "code",
   "execution_count": 52,
   "metadata": {},
   "outputs": [
    {
     "name": "stdout",
     "output_type": "stream",
     "text": [
      "After OverSampling, the shape of train_X: (12000, 7)\n",
      "After OverSampling, the shape of train_y: (12000,) \n",
      "\n",
      "After OverSampling, counts of label '1': 6000\n",
      "After OverSampling, counts of label '0': 6000\n"
     ]
    }
   ],
   "source": [
    "print('After OverSampling, the shape of train_X: {}'.format(X_train_res.shape)) \n",
    "print('After OverSampling, the shape of train_y: {} \\n'.format(y_train_res.shape)) \n",
    "  \n",
    "print(\"After OverSampling, counts of label '1': {}\".format(sum(y_train_res == 1))) \n",
    "print(\"After OverSampling, counts of label '0': {}\".format(sum(y_train_res == 0))) \n"
   ]
  },
  {
   "cell_type": "code",
   "execution_count": 53,
   "metadata": {},
   "outputs": [
    {
     "name": "stdout",
     "output_type": "stream",
     "text": [
      "[[ 101  285]\n",
      " [ 604 3297]]\n",
      "              precision    recall  f1-score   support\n",
      "\n",
      "           0       0.14      0.26      0.19       386\n",
      "           1       0.92      0.85      0.88      3901\n",
      "\n",
      "    accuracy                           0.79      4287\n",
      "   macro avg       0.53      0.55      0.53      4287\n",
      "weighted avg       0.85      0.79      0.82      4287\n",
      "\n"
     ]
    }
   ],
   "source": [
    "rfc = RandomForestClassifier(n_estimators=50)\n",
    "rfc.fit(X_train_res, y_train_res)\n",
    "rfc_pred = rfc.predict(X_test)\n",
    "print(confusion_matrix(y_test,rfc_pred))\n",
    "print(classification_report(y_test,rfc_pred))"
   ]
  },
  {
   "cell_type": "code",
   "execution_count": 54,
   "metadata": {},
   "outputs": [
    {
     "name": "stdout",
     "output_type": "stream",
     "text": [
      "[[  94  292]\n",
      " [ 556 3345]]\n",
      "              precision    recall  f1-score   support\n",
      "\n",
      "           0       0.14      0.24      0.18       386\n",
      "           1       0.92      0.86      0.89      3901\n",
      "\n",
      "    accuracy                           0.80      4287\n",
      "   macro avg       0.53      0.55      0.53      4287\n",
      "weighted avg       0.85      0.80      0.82      4287\n",
      "\n"
     ]
    }
   ],
   "source": [
    "rfc = RandomForestClassifier(n_estimators=500)\n",
    "rfc.fit(X_train_res, y_train_res)\n",
    "rfc_pred = rfc.predict(X_test)\n",
    "print(confusion_matrix(y_test,rfc_pred))\n",
    "print(classification_report(y_test,rfc_pred))"
   ]
  },
  {
   "cell_type": "markdown",
   "metadata": {},
   "source": [
    "### Conclusion:\n",
    "\n",
    "Smote isn't a quick fix to the challenge.  If there was more time the data after smote and partial downsampling could be optimized with a grid search and evaluated with a learning curve.  The results were slightly better than with the upsampling.  There are still plenty of ways to try improving the model.  "
   ]
  },
  {
   "cell_type": "markdown",
   "metadata": {},
   "source": [
    "###   imblearn automatic balance\n",
    "\n",
    "This is a mehtod of imbalanced classification where weights are balanced to penalize wrong predictions of the minority class."
   ]
  },
  {
   "cell_type": "code",
   "execution_count": 55,
   "metadata": {},
   "outputs": [],
   "source": [
    "X =  data1.drop(columns=['Target']).values\n",
    "y = data1['Target'].values\n",
    "\n",
    "X_train, X_test, y_train, y_test = train_test_split(X, y, test_size=0.33, random_state=101)"
   ]
  },
  {
   "cell_type": "code",
   "execution_count": 56,
   "metadata": {},
   "outputs": [
    {
     "name": "stdout",
     "output_type": "stream",
     "text": [
      "[0.31839366 0.04858149 0.14584345 0.14208609 0.08401095 0.10735835\n",
      " 0.15372601]\n",
      "[[ 202  204]\n",
      " [1383 2498]]\n",
      "              precision    recall  f1-score   support\n",
      "\n",
      "           0       0.13      0.50      0.20       406\n",
      "           1       0.92      0.64      0.76      3881\n",
      "\n",
      "    accuracy                           0.63      4287\n",
      "   macro avg       0.53      0.57      0.48      4287\n",
      "weighted avg       0.85      0.63      0.71      4287\n",
      "\n"
     ]
    }
   ],
   "source": [
    "from imblearn.ensemble import BalancedRandomForestClassifier\n",
    "\n",
    "\n",
    "                           \n",
    "clf = BalancedRandomForestClassifier(max_depth=2, random_state=0)\n",
    "clf.fit(X_train, y_train) \n",
    "\n",
    "print(clf.feature_importances_)  \n",
    "\n",
    "rfc_pred = clf.predict(X_test)\n",
    "print(confusion_matrix(y_test,rfc_pred))\n",
    "print(classification_report(y_test,rfc_pred))"
   ]
  },
  {
   "cell_type": "code",
   "execution_count": 59,
   "metadata": {},
   "outputs": [
    {
     "name": "stdout",
     "output_type": "stream",
     "text": [
      "Mean ROC AUC: 0.617\n"
     ]
    }
   ],
   "source": [
    "# class balanced random forest for imbalanced classification\n",
    "from sklearn.model_selection import cross_val_score\n",
    "from sklearn.model_selection import RepeatedStratifiedKFold\n",
    "from sklearn.ensemble import RandomForestClassifier\n",
    "# define model\n",
    "model = RandomForestClassifier(n_estimators=100, class_weight='balanced')\n",
    "# define evaluation procedure\n",
    "cv = RepeatedStratifiedKFold(n_splits=10, n_repeats=3, random_state=1)\n",
    "# evaluate model\n",
    "scores = cross_val_score(model, X_train, y_train, scoring='roc_auc', cv=cv, n_jobs=-1)\n",
    "# summarize performance\n",
    "print('Mean ROC AUC: %.3f' % np.mean(scores))"
   ]
  },
  {
   "cell_type": "code",
   "execution_count": 60,
   "metadata": {},
   "outputs": [
    {
     "name": "stdout",
     "output_type": "stream",
     "text": [
      "[[  21  385]\n",
      " [   9 3872]]\n",
      "              precision    recall  f1-score   support\n",
      "\n",
      "           0       0.70      0.05      0.10       406\n",
      "           1       0.91      1.00      0.95      3881\n",
      "\n",
      "    accuracy                           0.91      4287\n",
      "   macro avg       0.80      0.52      0.52      4287\n",
      "weighted avg       0.89      0.91      0.87      4287\n",
      "\n"
     ]
    }
   ],
   "source": [
    "model.fit(X_train, y_train) \n",
    "\n",
    "\n",
    "rfc_pred = model.predict(X_test)\n",
    "print(confusion_matrix(y_test,rfc_pred))\n",
    "print(classification_report(y_test,rfc_pred))"
   ]
  },
  {
   "cell_type": "markdown",
   "metadata": {},
   "source": [
    "### Result\n",
    "The Roc score of .617 was lower than what was achieved above with smote and the default random Forest model.  However the precison was much better than with the unweighted models run earlier.  The recall is still pretty low with upsampling we were able to get it to 15%.  "
   ]
  },
  {
   "cell_type": "markdown",
   "metadata": {},
   "source": [
    "## Isolation forest  and one class classification\n",
    "to deal with the weight imbalance of our dataset we can try anamoly detection to train a model on only the majority class and let the model attempt to detect any entries which are very different from the majority class.  This is another techniques used for imbalanced classification.  Several are tried here and one class SVM is in notebook 10."
   ]
  },
  {
   "cell_type": "code",
   "execution_count": 61,
   "metadata": {},
   "outputs": [],
   "source": [
    "from sklearn.ensemble import IsolationForest"
   ]
  },
  {
   "cell_type": "code",
   "execution_count": 62,
   "metadata": {},
   "outputs": [],
   "source": [
    "data = pd.read_csv(\"format_variables_output4.csv\")\n",
    "data = data[data['Target']!=2]\n",
    "data1 = data[['Target','TotalPopulation', 'MedianAge', 'MedianIncomeAdjusted', '%NonHispanicWhites',\n",
    "            '%DrivetoWork','%Bachelors','Pop_Den']]\n"
   ]
  },
  {
   "cell_type": "code",
   "execution_count": 63,
   "metadata": {},
   "outputs": [],
   "source": [
    "X_train = data1[data1['Target'] == 1]\n",
    "X_outliers = data1[data1['Target'] == 0]\n",
    "X_train =  X_train .drop(columns=['Target']).values\n",
    "X_outliers = X_outliers.drop(columns=['Target']).values"
   ]
  },
  {
   "cell_type": "code",
   "execution_count": 64,
   "metadata": {},
   "outputs": [
    {
     "data": {
      "text/plain": [
       "array([[3.18970000e+04, 3.73000000e+01, 8.62020000e+04, ...,\n",
       "        8.23887118e-01, 2.24009615e-01, 1.16000000e+01],\n",
       "       [5.22900000e+03, 3.98000000e+01, 5.75100000e+04, ...,\n",
       "        7.51542575e-01, 1.89542484e-01, 3.61800000e+02],\n",
       "       [7.64000000e+02, 4.16000000e+01, 5.77040000e+04, ...,\n",
       "        4.50363196e-01, 1.39534884e-01, 1.26500000e+02],\n",
       "       ...,\n",
       "       [3.21330000e+04, 4.25000000e+01, 5.46940000e+04, ...,\n",
       "        9.29135338e-01, 1.71725677e-01, 5.70880000e+03],\n",
       "       [1.04290000e+04, 4.04000000e+01, 7.79340000e+04, ...,\n",
       "        9.34215168e-01, 1.79156745e-01, 2.01500000e+02],\n",
       "       [3.17400000e+03, 4.37000000e+01, 5.69320000e+04, ...,\n",
       "        8.65715983e-01, 1.33936262e-01, 6.93000000e+01]])"
      ]
     },
     "execution_count": 64,
     "metadata": {},
     "output_type": "execute_result"
    }
   ],
   "source": [
    "X_outliers"
   ]
  },
  {
   "cell_type": "code",
   "execution_count": 65,
   "metadata": {},
   "outputs": [
    {
     "name": "stderr",
     "output_type": "stream",
     "text": [
      "C:\\Users\\brody\\AppData\\Local\\Continuum\\anaconda3\\lib\\site-packages\\sklearn\\ensemble\\_iforest.py:248: FutureWarning: 'behaviour' is deprecated in 0.22 and will be removed in 0.24. You should not pass or set this parameter.\n",
      "  FutureWarning\n"
     ]
    }
   ],
   "source": [
    "# training the model\n",
    "\n",
    "# contamination paramater is set to the proportion of outliers \n",
    "clf = IsolationForest(contamination=0.091, behaviour='new')\n",
    "clf.fit(X_train)\n",
    "\n",
    "# predictions\n",
    "y_pred_train = clf.predict(X_train)\n",
    "y_pred_test = clf.predict(X_test)\n",
    "y_pred_outliers = clf.predict(X_outliers)"
   ]
  },
  {
   "cell_type": "code",
   "execution_count": 66,
   "metadata": {},
   "outputs": [
    {
     "name": "stdout",
     "output_type": "stream",
     "text": [
      "Accuracy: 0.9099603452297644\n"
     ]
    }
   ],
   "source": [
    "# new, 'normal' observations ----\n",
    "print(\"Accuracy:\", list(y_pred_test).count(1)/y_pred_test.shape[0])\n"
   ]
  },
  {
   "cell_type": "code",
   "execution_count": 67,
   "metadata": {},
   "outputs": [
    {
     "name": "stdout",
     "output_type": "stream",
     "text": [
      "Accuracy: 0.09068219633943428\n"
     ]
    }
   ],
   "source": [
    "# outliers ----\n",
    "print(\"Accuracy:\", list(y_pred_outliers).count(-1)/y_pred_outliers.shape[0])\n"
   ]
  },
  {
   "cell_type": "code",
   "execution_count": 68,
   "metadata": {},
   "outputs": [
    {
     "name": "stderr",
     "output_type": "stream",
     "text": [
      "C:\\Users\\brody\\AppData\\Local\\Continuum\\anaconda3\\lib\\site-packages\\sklearn\\ensemble\\_iforest.py:248: FutureWarning: 'behaviour' is deprecated in 0.22 and will be removed in 0.24. You should not pass or set this parameter.\n",
      "  FutureWarning\n"
     ]
    },
    {
     "name": "stdout",
     "output_type": "stream",
     "text": [
      "F1 Score: 0.099\n"
     ]
    }
   ],
   "source": [
    "trainX, testX, trainy, testy = train_test_split(X, y, test_size=0.33, random_state=2, stratify=y)\n",
    "# define outlier detection model\n",
    "model = IsolationForest(contamination=0.091, behaviour='new')\n",
    "# fit on majority class\n",
    "trainX = trainX[trainy==1]\n",
    "model.fit(trainX)\n",
    "# detect outliers in the test set\n",
    "yhat = model.predict(testX)\n",
    "# mark inliers 1, outliers -1\n",
    "testy[testy == 1] = 1\n",
    "testy[testy == 0] = -1\n",
    "# calculate score\n",
    "score = f1_score(testy, yhat, pos_label=-1)\n",
    "print('F1 Score: %.3f' % score)"
   ]
  },
  {
   "cell_type": "markdown",
   "metadata": {},
   "source": [
    "isolation forest did not predict many outliers we can detect 9% by guessing randomly."
   ]
  },
  {
   "cell_type": "markdown",
   "metadata": {},
   "source": [
    "### Local Outlier Factor to predict outliers"
   ]
  },
  {
   "cell_type": "code",
   "execution_count": 69,
   "metadata": {},
   "outputs": [],
   "source": [
    "data = pd.read_csv(\"format_variables_output4.csv\")\n",
    "data = data[data['Target']!=2]\n",
    "data1 = data[['Target','TotalPopulation', 'MedianAge', 'MedianIncomeAdjusted', '%NonHispanicWhites',\n",
    "            '%DrivetoWork','%Bachelors','Pop_Den']]\n",
    "X =  data1.drop(columns=['Target']).values\n",
    "y = data1['Target'].values"
   ]
  },
  {
   "cell_type": "code",
   "execution_count": 70,
   "metadata": {},
   "outputs": [
    {
     "name": "stdout",
     "output_type": "stream",
     "text": [
      "F1 Score: 0.095\n"
     ]
    }
   ],
   "source": [
    "from numpy import vstack\n",
    "from sklearn.metrics import f1_score\n",
    "from sklearn.neighbors import LocalOutlierFactor\n",
    " \n",
    "# make a prediction with a lof model\n",
    "def lof_predict(model, trainX, testX):\n",
    "\t# create one large dataset\n",
    "\tcomposite = vstack((trainX, testX))\n",
    "\t# make prediction on composite dataset\n",
    "\tyhat = model.fit_predict(composite)\n",
    "\t# return just the predictions on the test set\n",
    "\treturn yhat[len(trainX):]\n",
    " \n",
    "# split into train/test sets\n",
    "trainX, testX, trainy, testy = train_test_split(X, y, test_size=0.33, random_state=2, stratify=y)\n",
    "# define outlier detection model \n",
    "model = LocalOutlierFactor(contamination=0.091)  # contamination is the proportion of outliers\n",
    "# get examples for just the majority class\n",
    "trainX = trainX[trainy==0]\n",
    "# detect outliers in the test set\n",
    "yhat = lof_predict(model, trainX, testX)\n",
    "# mark inliers 1, outliers -1\n",
    "testy[testy == 1] = 1\n",
    "testy[testy == 0] = -1\n",
    "# calculate score\n",
    "score = f1_score(testy, yhat, pos_label=-1)\n",
    "print('F1 Score: %.3f' % score)"
   ]
  },
  {
   "cell_type": "markdown",
   "metadata": {},
   "source": [
    "The f1 score was even lower than with isolation forest."
   ]
  },
  {
   "cell_type": "markdown",
   "metadata": {},
   "source": [
    "# Adaboost\n",
    "\n",
    "Sometimes different algorithms will help for an imbalanced data set.  Lets try boosting with adaboost which is simular to the Random Forest model.  "
   ]
  },
  {
   "cell_type": "code",
   "execution_count": 71,
   "metadata": {},
   "outputs": [],
   "source": [
    "from sklearn.ensemble import AdaBoostClassifier"
   ]
  },
  {
   "cell_type": "code",
   "execution_count": 72,
   "metadata": {},
   "outputs": [],
   "source": [
    "data = pd.read_csv(\"format_variables_output4.csv\")\n",
    "data = data[data['Target']!=2]"
   ]
  },
  {
   "cell_type": "code",
   "execution_count": 73,
   "metadata": {},
   "outputs": [],
   "source": [
    "data1 = data[['Target','TotalPopulation', 'MedianAge', 'MedianIncomeAdjusted', '%NonHispanicWhites',\n",
    "            '%DrivetoWork','%Bachelors','Pop_Den']]"
   ]
  },
  {
   "cell_type": "code",
   "execution_count": 75,
   "metadata": {},
   "outputs": [],
   "source": [
    "target = 'Target'\n",
    "X =  data1.drop(columns=['Target']).values\n",
    "y = data1['Target'].values"
   ]
  },
  {
   "cell_type": "code",
   "execution_count": 76,
   "metadata": {},
   "outputs": [],
   "source": [
    "train_X, test_X, train_y, test_y = train_test_split(X, y, test_size=0.33, random_state=4)\n"
   ]
  },
  {
   "cell_type": "code",
   "execution_count": 77,
   "metadata": {},
   "outputs": [
    {
     "data": {
      "text/plain": [
       "AdaBoostClassifier(algorithm='SAMME.R',\n",
       "                   base_estimator=DecisionTreeClassifier(ccp_alpha=0.0,\n",
       "                                                         class_weight=None,\n",
       "                                                         criterion='gini',\n",
       "                                                         max_depth=1,\n",
       "                                                         max_features=None,\n",
       "                                                         max_leaf_nodes=None,\n",
       "                                                         min_impurity_decrease=0.0,\n",
       "                                                         min_impurity_split=None,\n",
       "                                                         min_samples_leaf=1,\n",
       "                                                         min_samples_split=2,\n",
       "                                                         min_weight_fraction_leaf=0.0,\n",
       "                                                         presort='deprecated',\n",
       "                                                         random_state=None,\n",
       "                                                         splitter='best'),\n",
       "                   learning_rate=1.0, n_estimators=200, random_state=None)"
      ]
     },
     "execution_count": 77,
     "metadata": {},
     "output_type": "execute_result"
    }
   ],
   "source": [
    "classifier = AdaBoostClassifier(\n",
    "    DecisionTreeClassifier(max_depth=1),\n",
    "    n_estimators=200\n",
    ")\n",
    "classifier.fit(train_X, train_y)"
   ]
  },
  {
   "cell_type": "code",
   "execution_count": 78,
   "metadata": {},
   "outputs": [],
   "source": [
    "predictions = classifier.predict(test_X)"
   ]
  },
  {
   "cell_type": "code",
   "execution_count": 79,
   "metadata": {},
   "outputs": [
    {
     "data": {
      "text/plain": [
       "array([[   5,  381],\n",
       "       [   9, 3892]], dtype=int64)"
      ]
     },
     "execution_count": 79,
     "metadata": {},
     "output_type": "execute_result"
    }
   ],
   "source": [
    "confusion_matrix(test_y, predictions)"
   ]
  },
  {
   "cell_type": "code",
   "execution_count": 80,
   "metadata": {},
   "outputs": [
    {
     "name": "stdout",
     "output_type": "stream",
     "text": [
      "              precision    recall  f1-score   support\n",
      "\n",
      "           0       0.07      0.00      0.00       406\n",
      "           1       0.91      1.00      0.95      3881\n",
      "\n",
      "    accuracy                           0.90      4287\n",
      "   macro avg       0.49      0.50      0.48      4287\n",
      "weighted avg       0.83      0.90      0.86      4287\n",
      "\n"
     ]
    }
   ],
   "source": [
    "print(classification_report(y_test, predictions)) "
   ]
  },
  {
   "cell_type": "code",
   "execution_count": 81,
   "metadata": {},
   "outputs": [
    {
     "data": {
      "text/plain": [
       "AdaBoostClassifier(algorithm='SAMME.R',\n",
       "                   base_estimator=DecisionTreeClassifier(ccp_alpha=0.0,\n",
       "                                                         class_weight=None,\n",
       "                                                         criterion='gini',\n",
       "                                                         max_depth=1,\n",
       "                                                         max_features=None,\n",
       "                                                         max_leaf_nodes=None,\n",
       "                                                         min_impurity_decrease=0.0,\n",
       "                                                         min_impurity_split=None,\n",
       "                                                         min_samples_leaf=1,\n",
       "                                                         min_samples_split=2,\n",
       "                                                         min_weight_fraction_leaf=0.0,\n",
       "                                                         presort='deprecated',\n",
       "                                                         random_state=None,\n",
       "                                                         splitter='best'),\n",
       "                   learning_rate=1.0, n_estimators=100, random_state=None)"
      ]
     },
     "execution_count": 81,
     "metadata": {},
     "output_type": "execute_result"
    }
   ],
   "source": [
    "#try with less estimators\n",
    "classifier = AdaBoostClassifier(\n",
    "    DecisionTreeClassifier(max_depth=1),\n",
    "    n_estimators=100\n",
    ")\n",
    "classifier.fit(train_X, train_y)"
   ]
  },
  {
   "cell_type": "code",
   "execution_count": 82,
   "metadata": {},
   "outputs": [
    {
     "data": {
      "text/plain": [
       "array([[   5,  381],\n",
       "       [   9, 3892]], dtype=int64)"
      ]
     },
     "execution_count": 82,
     "metadata": {},
     "output_type": "execute_result"
    }
   ],
   "source": [
    "confusion_matrix(test_y, predictions)"
   ]
  },
  {
   "cell_type": "markdown",
   "metadata": {},
   "source": [
    "Lets try adaboos with upsampling"
   ]
  },
  {
   "cell_type": "code",
   "execution_count": 83,
   "metadata": {},
   "outputs": [],
   "source": [
    "X_imb =  data1.drop(columns=['Target']).values\n",
    "y_imb = data1['Target'].values"
   ]
  },
  {
   "cell_type": "code",
   "execution_count": 84,
   "metadata": {},
   "outputs": [],
   "source": [
    "from sklearn.model_selection import train_test_split\n",
    "\n",
    "X_train, test_X, y_train, test_y = train_test_split(X_imb, y_imb , test_size=0.33, random_state=42)"
   ]
  },
  {
   "cell_type": "code",
   "execution_count": 85,
   "metadata": {},
   "outputs": [
    {
     "name": "stdout",
     "output_type": "stream",
     "text": [
      "Number of class 0 samples before: 802\n",
      "Number of class 0 samples after: 7899\n"
     ]
    }
   ],
   "source": [
    "from sklearn.utils import resample\n",
    "\n",
    "print('Number of class 0 samples before:', X_train[y_train == 0].shape[0])\n",
    "\n",
    "X_upsampled, y_upsampled = resample(X_train[y_train == 0],\n",
    "                                    y_train[y_train == 0],\n",
    "                                    replace=True,\n",
    "                                    n_samples=X_train[y_train == 1].shape[0],\n",
    "                                    random_state=123)\n",
    "\n",
    "print('Number of class 0 samples after:', X_upsampled.shape[0])"
   ]
  },
  {
   "cell_type": "code",
   "execution_count": 86,
   "metadata": {},
   "outputs": [],
   "source": [
    "train_X = np.vstack((X_train[y_train == 1], X_upsampled))\n",
    "train_y = np.hstack((y_train[y_train == 1], y_upsampled))"
   ]
  },
  {
   "cell_type": "code",
   "execution_count": 87,
   "metadata": {},
   "outputs": [],
   "source": [
    "classifier = AdaBoostClassifier(\n",
    "    DecisionTreeClassifier(max_depth=1),\n",
    "    n_estimators=200\n",
    ")\n",
    "classifier.fit(train_X, train_y)\n",
    "predictions = classifier.predict(test_X)"
   ]
  },
  {
   "cell_type": "code",
   "execution_count": 88,
   "metadata": {},
   "outputs": [
    {
     "name": "stdout",
     "output_type": "stream",
     "text": [
      "              precision    recall  f1-score   support\n",
      "\n",
      "           0       0.10      0.38      0.16       406\n",
      "           1       0.91      0.64      0.75      3881\n",
      "\n",
      "    accuracy                           0.61      4287\n",
      "   macro avg       0.50      0.51      0.45      4287\n",
      "weighted avg       0.83      0.61      0.69      4287\n",
      "\n"
     ]
    },
    {
     "data": {
      "text/plain": [
       "array([[ 183,  217],\n",
       "       [1387, 2500]], dtype=int64)"
      ]
     },
     "execution_count": 88,
     "metadata": {},
     "output_type": "execute_result"
    }
   ],
   "source": [
    "# print classification report \n",
    "print(classification_report(y_test, predictions)) \n",
    "confusion_matrix(test_y, predictions)"
   ]
  },
  {
   "cell_type": "markdown",
   "metadata": {},
   "source": [
    "terrible precision lets try it with smote"
   ]
  },
  {
   "cell_type": "code",
   "execution_count": 92,
   "metadata": {},
   "outputs": [],
   "source": [
    "target = 'Target'\n",
    "X =  data1.drop(columns=['Target']).values\n",
    "y = data1['Target'].values\n",
    "\n",
    "train_X, test_X, train_y, test_y = train_test_split(X, y, test_size=0.33, random_state=4)"
   ]
  },
  {
   "cell_type": "code",
   "execution_count": 93,
   "metadata": {},
   "outputs": [],
   "source": [
    "sm = SMOTE(random_state = 2) \n",
    "X_train_res, y_train_res = sm.fit_sample(train_X, train_y.ravel())"
   ]
  },
  {
   "cell_type": "code",
   "execution_count": 94,
   "metadata": {},
   "outputs": [],
   "source": [
    "classifier = AdaBoostClassifier(\n",
    "    DecisionTreeClassifier(max_depth=1),\n",
    "    n_estimators=200\n",
    ")\n",
    "classifier.fit(X_train_res, y_train_res)\n",
    "predictions = classifier.predict(test_X)"
   ]
  },
  {
   "cell_type": "code",
   "execution_count": 95,
   "metadata": {},
   "outputs": [
    {
     "name": "stdout",
     "output_type": "stream",
     "text": [
      "              precision    recall  f1-score   support\n",
      "\n",
      "           0       0.09      0.38      0.15       406\n",
      "           1       0.90      0.62      0.73      3881\n",
      "\n",
      "    accuracy                           0.59      4287\n",
      "   macro avg       0.50      0.50      0.44      4287\n",
      "weighted avg       0.83      0.59      0.68      4287\n",
      "\n"
     ]
    },
    {
     "data": {
      "text/plain": [
       "array([[ 177,  209],\n",
       "       [1466, 2435]], dtype=int64)"
      ]
     },
     "execution_count": 95,
     "metadata": {},
     "output_type": "execute_result"
    }
   ],
   "source": [
    "# print classification report \n",
    "print(classification_report(y_test, predictions)) \n",
    "confusion_matrix(test_y, predictions)"
   ]
  },
  {
   "cell_type": "markdown",
   "metadata": {},
   "source": [
    "still terrible with the precision for the minority class."
   ]
  },
  {
   "cell_type": "markdown",
   "metadata": {},
   "source": [
    "### easy ensemble \n",
    "which creates different data sets by selecting random samples of the majority class and balancing with the minority class and using adaboost.  "
   ]
  },
  {
   "cell_type": "code",
   "execution_count": 96,
   "metadata": {},
   "outputs": [],
   "source": [
    "X =  data1.drop(columns=['Target']).values\n",
    "y = data1['Target'].values"
   ]
  },
  {
   "cell_type": "code",
   "execution_count": 97,
   "metadata": {},
   "outputs": [
    {
     "name": "stdout",
     "output_type": "stream",
     "text": [
      "Mean ROC AUC: 0.591\n"
     ]
    }
   ],
   "source": [
    "from sklearn.model_selection import cross_val_score\n",
    "from sklearn.model_selection import RepeatedStratifiedKFold\n",
    "from imblearn.ensemble import EasyEnsembleClassifier\n",
    "\n",
    "\n",
    "# define model\n",
    "model = EasyEnsembleClassifier(n_estimators=10)\n",
    "# define evaluation procedure\n",
    "cv = RepeatedStratifiedKFold(n_splits=10, n_repeats=3, random_state=1)\n",
    "# evaluate model\n",
    "scores = cross_val_score(model, X, y, scoring='roc_auc', cv=cv, n_jobs=-1)\n",
    "# summarize performance\n",
    "print('Mean ROC AUC: %.3f' % np.mean(scores))\n"
   ]
  },
  {
   "cell_type": "code",
   "execution_count": 98,
   "metadata": {},
   "outputs": [
    {
     "name": "stdout",
     "output_type": "stream",
     "text": [
      "[[ 218  188]\n",
      " [1698 2183]]\n",
      "              precision    recall  f1-score   support\n",
      "\n",
      "           0       0.11      0.54      0.19       406\n",
      "           1       0.92      0.56      0.70      3881\n",
      "\n",
      "    accuracy                           0.56      4287\n",
      "   macro avg       0.52      0.55      0.44      4287\n",
      "weighted avg       0.84      0.56      0.65      4287\n",
      "\n"
     ]
    }
   ],
   "source": [
    "X_train, X_test, y_train, y_test = train_test_split(X, y, test_size=0.33, random_state=101)\n",
    "model.fit(X_train, y_train) \n",
    "\n",
    "rfc_pred = model.predict(X_test)\n",
    "print(confusion_matrix(y_test,rfc_pred))\n",
    "print(classification_report(y_test,rfc_pred))"
   ]
  },
  {
   "cell_type": "markdown",
   "metadata": {},
   "source": [
    "This model did not perform as well as others tested above.  "
   ]
  }
 ],
 "metadata": {
  "kernelspec": {
   "display_name": "Python 3",
   "language": "python",
   "name": "python3"
  },
  "language_info": {
   "codemirror_mode": {
    "name": "ipython",
    "version": 3
   },
   "file_extension": ".py",
   "mimetype": "text/x-python",
   "name": "python",
   "nbconvert_exporter": "python",
   "pygments_lexer": "ipython3",
   "version": "3.7.6"
  }
 },
 "nbformat": 4,
 "nbformat_minor": 2
}
