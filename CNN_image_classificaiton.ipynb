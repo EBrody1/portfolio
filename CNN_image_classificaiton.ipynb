{
 "cells": [
  {
   "cell_type": "markdown",
   "metadata": {},
   "source": [
    "# Image Classification using CNN\n",
    "\n",
    "The code for this notebook up to and including the first model was taken from UMGC DATA 640 class. Other elements of the code including the classification matrix, image views, accuracy plots and predictions were adapted from this tutorial: https://www.datacamp.com/community/tutorials/convolutional-neural-networks-python\n",
    "\n",
    "Here's the data.\n",
    "\n"
   ]
  },
  {
   "cell_type": "code",
   "execution_count": 11,
   "metadata": {
    "id": "NmL2Ux_gOlt2"
   },
   "outputs": [],
   "source": [
    "import numpy as np\n",
    "import pandas as pd\n",
    "import os\n",
    "import tarfile\n",
    "import tensorflow.keras \n",
    "from tensorflow.keras.datasets import fashion_mnist"
   ]
  },
  {
   "cell_type": "code",
   "execution_count": 12,
   "metadata": {
    "id": "JZIX9zyW_ue2"
   },
   "outputs": [],
   "source": [
    "import seaborn as sns\n",
    "import matplotlib.pyplot as plt\n",
    "from tensorflow.keras.models import Sequential\n",
    "from tensorflow.keras.layers import Conv1D, MaxPooling1D, Dropout, BatchNormalization, Flatten, Dense\n",
    "from keras.layers.advanced_activations import LeakyReLU\n",
    "from sklearn.metrics import classification_report"
   ]
  },
  {
   "cell_type": "code",
   "execution_count": 13,
   "metadata": {
    "id": "ZjFtMaMoPPEK"
   },
   "outputs": [],
   "source": [
    "(train_x, train_y), (test_x, test_y) = fashion_mnist.load_data()\n",
    "train_y = tensorflow.keras.utils.to_categorical(train_y, 10)\n",
    "test_y = tensorflow.keras.utils.to_categorical(test_y, 10)"
   ]
  },
  {
   "cell_type": "code",
   "execution_count": 14,
   "metadata": {
    "colab": {
     "base_uri": "https://localhost:8080/"
    },
    "id": "d_g8UaTiPXUs",
    "outputId": "c07f1d7e-db65-49fb-e367-a8a55b30b649"
   },
   "outputs": [
    {
     "data": {
      "text/plain": [
       "(60000, 28, 28)"
      ]
     },
     "execution_count": 14,
     "metadata": {
      "tags": []
     },
     "output_type": "execute_result"
    }
   ],
   "source": [
    "train_x.shape"
   ]
  },
  {
   "cell_type": "code",
   "execution_count": null,
   "metadata": {
    "id": "5j4SV8bCuYqo"
   },
   "outputs": [],
   "source": [
    "def show(image):\n",
    "    \"\"\"\n",
    "    Render a given numpy.uint8 2D array of pixel data.\n",
    "    \"\"\"\n",
    "    from matplotlib import pyplot\n",
    "    import matplotlib as mpl\n",
    "    fig = pyplot.figure()\n",
    "    ax = fig.add_subplot(1,1,1)\n",
    "    imgplot = ax.imshow(image, cmap=mpl.cm.Greys)\n",
    "    imgplot.set_interpolation('nearest')\n",
    "    ax.xaxis.set_ticks_position('top')\n",
    "    ax.yaxis.set_ticks_position('left')\n",
    "    pyplot.show()"
   ]
  },
  {
   "cell_type": "code",
   "execution_count": null,
   "metadata": {
    "colab": {
     "base_uri": "https://localhost:8080/",
     "height": 265
    },
    "id": "O__OhbOEud7Y",
    "outputId": "5e5d0ffc-937f-4e5d-9998-532c331a3ca7"
   },
   "outputs": [
    {
     "data": {
      "image/png": "[encoded data removed]",
      "text/plain": [
       "<Figure size 432x288 with 1 Axes>"
      ]
     },
     "metadata": {
      "needs_background": "light",
      "tags": []
     },
     "output_type": "display_data"
    }
   ],
   "source": [
    "# Show the image using the function above. \n",
    "show(train_x[9])"
   ]
  },
  {
   "cell_type": "code",
   "execution_count": null,
   "metadata": {
    "colab": {
     "base_uri": "https://localhost:8080/",
     "height": 233
    },
    "id": "DHgGzyYG5ppA",
    "outputId": "c0eefdd5-1013-4e27-d059-b644996db549"
   },
   "outputs": [
    {
     "data": {
      "text/plain": [
       "Text(0.5, 1.0, 'Ground Truth : [0. 0. 0. 0. 0. 0. 0. 0. 0. 1.]')"
      ]
     },
     "execution_count": 7,
     "metadata": {
      "tags": []
     },
     "output_type": "execute_result"
    },
    {
     "data": {
      "image/png": "[encoded data removed]",
      "text/plain": [
       "<Figure size 432x288 with 2 Axes>"
      ]
     },
     "metadata": {
      "needs_background": "light",
      "tags": []
     },
     "output_type": "display_data"
    }
   ],
   "source": [
    "# Display the first image in training data\n",
    "plt.subplot(121)\n",
    "plt.imshow(train_x[0,:,:], cmap='gray')\n",
    "plt.title(\"Ground Truth : {}\".format(train_y[0]))\n",
    "\n",
    "# Display the first image in testing data\n",
    "plt.subplot(122)\n",
    "plt.imshow(test_x[0,:,:], cmap='gray')\n",
    "plt.title(\"Ground Truth : {}\".format(test_y[0]))"
   ]
  },
  {
   "cell_type": "markdown",
   "metadata": {
    "id": "ZI7EkNJlP77k"
   },
   "source": [
    "<p>Now that we've imported the data, we'll need to start importing what we need from Keras to build our network. Below is a basic network. Note that the images are greyscale, so there is no color channel like there is in some of the other datasets.</p>\n",
    "\n",
    "<p>Also, since there's no color channel, we'll use \"1D\" layers not \"2D\" layers as are used when we have channels for colors.</p>"
   ]
  },
  {
   "cell_type": "markdown",
   "metadata": {
    "id": "tfExr5Z7Pdmv"
   },
   "source": [
    "<p>Now it's time for us to start building the network. Build below is a sample network you can play with as a starting point for your assignment. Feel free to expand on this, or start your own from scratch!</p>"
   ]
  },
  {
   "cell_type": "code",
   "execution_count": null,
   "metadata": {
    "id": "N5QXWQjlQxiT"
   },
   "outputs": [],
   "source": [
    "model = Sequential()\n",
    "model.add(Conv1D(filters = 236, kernel_size = 2,  input_shape = (28, 28)))\n",
    "model.add(MaxPooling1D(pool_size = 2))\n",
    "model.add(Dropout(0.2))\n",
    "model.add(BatchNormalization())\n",
    "model.add(Conv1D(filters = 128, kernel_size = 2))\n",
    "model.add(MaxPooling1D(pool_size = 2))\n",
    "model.add(Dropout(0.2))\n",
    "model.add(BatchNormalization())\n",
    "\n",
    "model.add(Flatten())\n",
    "model.add(Dense(units = 10, activation = 'softmax'))"
   ]
  },
  {
   "cell_type": "code",
   "execution_count": null,
   "metadata": {
    "id": "7-v7wv-CPhu9"
   },
   "outputs": [],
   "source": [
    "model.compile(loss = 'categorical_crossentropy', \n",
    "              optimizer = tensorflow.keras.optimizers.Adadelta(), \n",
    "              metrics = ['accuracy'])"
   ]
  },
  {
   "cell_type": "code",
   "execution_count": null,
   "metadata": {
    "colab": {
     "base_uri": "https://localhost:8080/"
    },
    "id": "QR4-mhC2Rq9N",
    "outputId": "553fdb78-2304-4bb8-b5c6-d7bdedaddcfc"
   },
   "outputs": [
    {
     "name": "stdout",
     "output_type": "stream",
     "text": [
      "Epoch 1/10\n",
      "469/469 [==============================] - 2s 5ms/step - loss: 1.0315 - accuracy: 0.6426\n",
      "Epoch 2/10\n",
      "469/469 [==============================] - 2s 5ms/step - loss: 0.9974 - accuracy: 0.6532\n",
      "Epoch 3/10\n",
      "469/469 [==============================] - 2s 5ms/step - loss: 0.9724 - accuracy: 0.6619\n",
      "Epoch 4/10\n",
      "469/469 [==============================] - 2s 5ms/step - loss: 0.9503 - accuracy: 0.6712\n",
      "Epoch 5/10\n",
      "469/469 [==============================] - 2s 5ms/step - loss: 0.9281 - accuracy: 0.6776\n",
      "Epoch 6/10\n",
      "469/469 [==============================] - 2s 4ms/step - loss: 0.9079 - accuracy: 0.6861\n",
      "Epoch 7/10\n",
      "469/469 [==============================] - 2s 5ms/step - loss: 0.8891 - accuracy: 0.6916\n",
      "Epoch 8/10\n",
      "469/469 [==============================] - 2s 5ms/step - loss: 0.8773 - accuracy: 0.6958\n",
      "Epoch 9/10\n",
      "469/469 [==============================] - 2s 5ms/step - loss: 0.8658 - accuracy: 0.6983\n",
      "Epoch 10/10\n",
      "469/469 [==============================] - 2s 4ms/step - loss: 0.8519 - accuracy: 0.7038\n"
     ]
    },
    {
     "data": {
      "text/plain": [
       "<tensorflow.python.keras.callbacks.History at 0x7f9e12195630>"
      ]
     },
     "execution_count": 14,
     "metadata": {
      "tags": []
     },
     "output_type": "execute_result"
    }
   ],
   "source": [
    "model.fit(train_x, train_y, epochs = 10, batch_size = 128)"
   ]
  },
  {
   "cell_type": "markdown",
   "metadata": {
    "id": "6TIDeyw0PgWc"
   },
   "source": [
    "<p>Now that we've trained the network, lets see how well it works on some unseen data!</p> "
   ]
  },
  {
   "cell_type": "code",
   "execution_count": null,
   "metadata": {
    "colab": {
     "base_uri": "https://localhost:8080/"
    },
    "id": "D1H5a0DQReUd",
    "outputId": "1c855656-e1ad-450c-a86c-16aee283ff8f"
   },
   "outputs": [
    {
     "name": "stdout",
     "output_type": "stream",
     "text": [
      "313/313 [==============================] - 1s 3ms/step - loss: 0.7272 - accuracy: 0.7439\n",
      "\n",
      "loss is: 0.7271836996078491\n",
      "accuracy is: 0.7439000010490417\n"
     ]
    }
   ],
   "source": [
    "score = model.evaluate(test_x, test_y)\n",
    "print('\\nloss is: ' + str(score[0]))\n",
    "print('accuracy is: ' + str(score[1]))"
   ]
  },
  {
   "cell_type": "markdown",
   "metadata": {
    "id": "EcRrZIz9whNh"
   },
   "source": [
    "Here are my models to improve on the above:"
   ]
  },
  {
   "cell_type": "code",
   "execution_count": 16,
   "metadata": {
    "id": "VnWEYUaFbwzE"
   },
   "outputs": [],
   "source": [
    "model2 = Sequential()"
   ]
  },
  {
   "cell_type": "code",
   "execution_count": 17,
   "metadata": {
    "id": "48hE3DnQwlZi"
   },
   "outputs": [],
   "source": [
    "# 1 layers, relu \n",
    "# First set of layers\n",
    "model2.add(Conv1D(filters = 236, kernel_size = 2,  input_shape = (28, 28), activation = 'relu'))\n",
    "model2.add(MaxPooling1D(pool_size = 2))\n",
    "model2.add(Dropout(0.2))\n",
    "model2.add(BatchNormalization())\n",
    "\n",
    "# Second set of layers\n",
    "model2.add(Conv1D(filters = 128, kernel_size = 2, activation = 'relu'))\n",
    "model2.add(MaxPooling1D(pool_size = 2))\n",
    "model2.add(Dropout(0.2))\n",
    "model2.add(BatchNormalization())\n",
    "\n",
    "# Third set of layers\n",
    "model2.add(Conv1D(filters = 64, kernel_size = 2, activation = 'relu') )\n",
    "model2.add(MaxPooling1D(pool_size = 2))\n",
    "model2.add(Dropout(0.2))\n",
    "model2.add(BatchNormalization())\n",
    "\n",
    "model2.add(Flatten())\n",
    "model2.add(Dense(units = 10, activation = 'softmax'))"
   ]
  },
  {
   "cell_type": "code",
   "execution_count": 18,
   "metadata": {
    "id": "KeU6yD4hzOFL"
   },
   "outputs": [],
   "source": [
    "# Comile the model and set the loss functions, and targets, etc. \n",
    "model2.compile(loss = 'categorical_crossentropy', \n",
    "              optimizer = tensorflow.keras.optimizers.Adadelta(), \n",
    "              metrics = ['accuracy'])"
   ]
  },
  {
   "cell_type": "code",
   "execution_count": 19,
   "metadata": {
    "colab": {
     "base_uri": "https://localhost:8080/"
    },
    "id": "B9-ciC3EzRyy",
    "outputId": "1839ec63-e487-47cd-abf2-819828fee980"
   },
   "outputs": [
    {
     "name": "stdout",
     "output_type": "stream",
     "text": [
      "Epoch 1/10\n",
      "300/300 [==============================] - 2s 5ms/step - loss: 2.9838 - accuracy: 0.1086\n",
      "Epoch 2/10\n",
      "300/300 [==============================] - 2s 5ms/step - loss: 2.7479 - accuracy: 0.1411\n",
      "Epoch 3/10\n",
      "300/300 [==============================] - 2s 5ms/step - loss: 2.5347 - accuracy: 0.1784\n",
      "Epoch 4/10\n",
      "300/300 [==============================] - 1s 5ms/step - loss: 2.3579 - accuracy: 0.2159\n",
      "Epoch 5/10\n",
      "300/300 [==============================] - 2s 5ms/step - loss: 2.2066 - accuracy: 0.2551\n",
      "Epoch 6/10\n",
      "300/300 [==============================] - 2s 5ms/step - loss: 2.0724 - accuracy: 0.2957\n",
      "Epoch 7/10\n",
      "300/300 [==============================] - 2s 5ms/step - loss: 1.9581 - accuracy: 0.3258\n",
      "Epoch 8/10\n",
      "300/300 [==============================] - 1s 5ms/step - loss: 1.8638 - accuracy: 0.3532\n",
      "Epoch 9/10\n",
      "300/300 [==============================] - 2s 5ms/step - loss: 1.7823 - accuracy: 0.3788\n",
      "Epoch 10/10\n",
      "300/300 [==============================] - 2s 5ms/step - loss: 1.7065 - accuracy: 0.4065\n"
     ]
    },
    {
     "data": {
      "text/plain": [
       "<tensorflow.python.keras.callbacks.History at 0x7f148012eba8>"
      ]
     },
     "execution_count": 19,
     "metadata": {
      "tags": []
     },
     "output_type": "execute_result"
    }
   ],
   "source": [
    "model2.fit(train_x, train_y, epochs = 10, batch_size = 200)"
   ]
  },
  {
   "cell_type": "code",
   "execution_count": 31,
   "metadata": {
    "colab": {
     "base_uri": "https://localhost:8080/"
    },
    "id": "9FLqN7XQzd-l",
    "outputId": "56b37adb-584c-4bad-abd5-da0002bb08ed"
   },
   "outputs": [
    {
     "name": "stdout",
     "output_type": "stream",
     "text": [
      "313/313 [==============================] - 1s 3ms/step - loss: 1.4105 - accuracy: 0.5389\n",
      "\n",
      "loss is: 1.410541296005249\n",
      "accuracy is: 0.5389000177383423\n"
     ]
    }
   ],
   "source": [
    "score = model2.evaluate(test_x, test_y)\n",
    "print('\\nloss is: ' + str(score[0]))\n",
    "print('accuracy is: ' + str(score[1]))"
   ]
  },
  {
   "cell_type": "code",
   "execution_count": 22,
   "metadata": {
    "colab": {
     "base_uri": "https://localhost:8080/"
    },
    "id": "w90rFcSQYOvk",
    "outputId": "555eed6b-e8c6-4a56-d07a-cb94285c54b2"
   },
   "outputs": [
    {
     "name": "stdout",
     "output_type": "stream",
     "text": [
      "Correctly identified 2754 images\n"
     ]
    }
   ],
   "source": [
    "# make predictions\n",
    "predicted_classes = model2.predict(test_x)\n",
    "# find the class with highest probability \n",
    "predicted_classes1 = np.argmax(np.round(predicted_classes), axis = 1)\n",
    "actual = np.argmax(np.round(test_y), axis = 1)\n",
    "correct = np.where(predicted_classes1==actual)[0]\n",
    "\n",
    "print(\"Correctly identified %d images\" % len(correct))"
   ]
  },
  {
   "cell_type": "markdown",
   "metadata": {
    "id": "-C7Enx5Ne9UI"
   },
   "source": [
    "There is a discrepency between the metrics from the evaluate and predict functions.  Others have had this issue and it is explained here:https://stackoverflow.com/questions/44476706/what-is-the-difference-between-keras-model-evaluate-and-model-predict Seems like the predict function is a better way to go.  The evaluate function is just taking the means of the metrics from each batch."
   ]
  },
  {
   "cell_type": "code",
   "execution_count": 23,
   "metadata": {
    "colab": {
     "base_uri": "https://localhost:8080/"
    },
    "id": "4IupaynfYX5q",
    "outputId": "a5535be3-c624-4aca-b8b6-56ef296465b7"
   },
   "outputs": [
    {
     "name": "stdout",
     "output_type": "stream",
     "text": [
      "              precision    recall  f1-score   support\n",
      "\n",
      "     Class 0       0.12      0.99      0.22      1000\n",
      "     Class 1       1.00      0.33      0.50      1000\n",
      "     Class 2       0.50      0.06      0.10      1000\n",
      "     Class 3       0.67      0.00      0.00      1000\n",
      "     Class 4       0.00      0.00      0.00      1000\n",
      "     Class 5       0.92      0.29      0.44      1000\n",
      "     Class 6       0.00      0.00      0.00      1000\n",
      "     Class 7       0.80      0.43      0.56      1000\n",
      "     Class 8       0.80      0.08      0.15      1000\n",
      "     Class 9       0.95      0.57      0.71      1000\n",
      "\n",
      "    accuracy                           0.28     10000\n",
      "   macro avg       0.58      0.28      0.27     10000\n",
      "weighted avg       0.58      0.28      0.27     10000\n",
      "\n"
     ]
    }
   ],
   "source": [
    "target_names = [\"Class {}\".format(i) for i in range(10)]\n",
    "print(classification_report(actual, predicted_classes1, target_names=target_names))"
   ]
  },
  {
   "cell_type": "markdown",
   "metadata": {
    "id": "esv7zIEf938F"
   },
   "source": [
    "model 3 has more filters and bigger kernel size.  Layer two has extra filters."
   ]
  },
  {
   "cell_type": "code",
   "execution_count": 25,
   "metadata": {
    "id": "7mfVAR2_0NZP"
   },
   "outputs": [],
   "source": [
    "model3 = Sequential()\n",
    "model3.add(Conv1D(filters = 254, kernel_size = 3,  input_shape = (28, 28), activation = 'relu'))\n",
    "model3.add(MaxPooling1D(pool_size = 2))\n",
    "model3.add(Dropout(0.2))\n",
    "model3.add(BatchNormalization())\n",
    "\n",
    "# Second set of layers\n",
    "model3.add(Conv1D(filters = 1175, kernel_size = 3, activation = 'relu'))\n",
    "model3.add(MaxPooling1D(pool_size = 2))\n",
    "model3.add(Dropout(0.2))\n",
    "model3.add(BatchNormalization())\n",
    "\n",
    "# Third set of layers\n",
    "model3.add(Conv1D(filters = 84, kernel_size = 3, activation = 'relu') )\n",
    "model3.add(MaxPooling1D(pool_size = 2))\n",
    "model3.add(Dropout(0.2))\n",
    "model3.add(BatchNormalization())\n",
    "\n",
    "model3.add(Flatten())\n",
    "model3.add(Dense(units = 10, activation = 'softmax'))"
   ]
  },
  {
   "cell_type": "code",
   "execution_count": 26,
   "metadata": {
    "id": "xSfcGGDO9LIp"
   },
   "outputs": [],
   "source": [
    "# Comile the model and set the loss functions, and targets, etc. \n",
    "model3.compile(loss = 'categorical_crossentropy', \n",
    "              optimizer = tensorflow.keras.optimizers.Adadelta(), \n",
    "              metrics = ['accuracy'])"
   ]
  },
  {
   "cell_type": "code",
   "execution_count": 27,
   "metadata": {
    "colab": {
     "base_uri": "https://localhost:8080/"
    },
    "id": "u1Z5YRa39Q-c",
    "outputId": "016854b4-7dca-4de6-820d-b89208c21338"
   },
   "outputs": [
    {
     "name": "stdout",
     "output_type": "stream",
     "text": [
      "Epoch 1/50\n",
      "334/334 [==============================] - 4s 12ms/step - loss: 2.1239 - accuracy: 0.2897\n",
      "Epoch 2/50\n",
      "334/334 [==============================] - 4s 11ms/step - loss: 1.4975 - accuracy: 0.4874\n",
      "Epoch 3/50\n",
      "334/334 [==============================] - 4s 11ms/step - loss: 1.2392 - accuracy: 0.5763\n",
      "Epoch 4/50\n",
      "334/334 [==============================] - 4s 11ms/step - loss: 1.0944 - accuracy: 0.6252\n",
      "Epoch 5/50\n",
      "334/334 [==============================] - 4s 12ms/step - loss: 1.0172 - accuracy: 0.6517\n",
      "Epoch 6/50\n",
      "334/334 [==============================] - 4s 12ms/step - loss: 0.9580 - accuracy: 0.6697\n",
      "Epoch 7/50\n",
      "334/334 [==============================] - 4s 11ms/step - loss: 0.9121 - accuracy: 0.6849\n",
      "Epoch 8/50\n",
      "334/334 [==============================] - 4s 11ms/step - loss: 0.8758 - accuracy: 0.6973\n",
      "Epoch 9/50\n",
      "334/334 [==============================] - 4s 12ms/step - loss: 0.8521 - accuracy: 0.7043\n",
      "Epoch 10/50\n",
      "334/334 [==============================] - 4s 12ms/step - loss: 0.8290 - accuracy: 0.7118\n",
      "Epoch 11/50\n",
      "334/334 [==============================] - 4s 12ms/step - loss: 0.8035 - accuracy: 0.7207\n",
      "Epoch 12/50\n",
      "334/334 [==============================] - 4s 12ms/step - loss: 0.7917 - accuracy: 0.7230\n",
      "Epoch 13/50\n",
      "334/334 [==============================] - 4s 12ms/step - loss: 0.7728 - accuracy: 0.7261\n",
      "Epoch 14/50\n",
      "334/334 [==============================] - 4s 12ms/step - loss: 0.7617 - accuracy: 0.7326\n",
      "Epoch 15/50\n",
      "334/334 [==============================] - 4s 12ms/step - loss: 0.7498 - accuracy: 0.7356\n",
      "Epoch 16/50\n",
      "334/334 [==============================] - 4s 12ms/step - loss: 0.7351 - accuracy: 0.7415\n",
      "Epoch 17/50\n",
      "334/334 [==============================] - 4s 12ms/step - loss: 0.7252 - accuracy: 0.7415\n",
      "Epoch 18/50\n",
      "334/334 [==============================] - 4s 12ms/step - loss: 0.7184 - accuracy: 0.7484\n",
      "Epoch 19/50\n",
      "334/334 [==============================] - 4s 12ms/step - loss: 0.7087 - accuracy: 0.7499\n",
      "Epoch 20/50\n",
      "334/334 [==============================] - 4s 12ms/step - loss: 0.7000 - accuracy: 0.7537\n",
      "Epoch 21/50\n",
      "334/334 [==============================] - 4s 12ms/step - loss: 0.6927 - accuracy: 0.7548\n",
      "Epoch 22/50\n",
      "334/334 [==============================] - 4s 12ms/step - loss: 0.6887 - accuracy: 0.7557\n",
      "Epoch 23/50\n",
      "334/334 [==============================] - 4s 12ms/step - loss: 0.6801 - accuracy: 0.7610\n",
      "Epoch 24/50\n",
      "334/334 [==============================] - 4s 12ms/step - loss: 0.6757 - accuracy: 0.7599\n",
      "Epoch 25/50\n",
      "334/334 [==============================] - 4s 12ms/step - loss: 0.6682 - accuracy: 0.7631\n",
      "Epoch 26/50\n",
      "334/334 [==============================] - 4s 12ms/step - loss: 0.6618 - accuracy: 0.7655\n",
      "Epoch 27/50\n",
      "334/334 [==============================] - 4s 12ms/step - loss: 0.6575 - accuracy: 0.7670\n",
      "Epoch 28/50\n",
      "334/334 [==============================] - 4s 12ms/step - loss: 0.6532 - accuracy: 0.7688\n",
      "Epoch 29/50\n",
      "334/334 [==============================] - 4s 12ms/step - loss: 0.6489 - accuracy: 0.7689\n",
      "Epoch 30/50\n",
      "334/334 [==============================] - 4s 12ms/step - loss: 0.6457 - accuracy: 0.7713\n",
      "Epoch 31/50\n",
      "334/334 [==============================] - 4s 12ms/step - loss: 0.6401 - accuracy: 0.7719\n",
      "Epoch 32/50\n",
      "334/334 [==============================] - 4s 12ms/step - loss: 0.6334 - accuracy: 0.7746\n",
      "Epoch 33/50\n",
      "334/334 [==============================] - 4s 12ms/step - loss: 0.6281 - accuracy: 0.7778\n",
      "Epoch 34/50\n",
      "334/334 [==============================] - 4s 12ms/step - loss: 0.6247 - accuracy: 0.7777\n",
      "Epoch 35/50\n",
      "334/334 [==============================] - 4s 12ms/step - loss: 0.6259 - accuracy: 0.7792\n",
      "Epoch 36/50\n",
      "334/334 [==============================] - 4s 12ms/step - loss: 0.6182 - accuracy: 0.7809\n",
      "Epoch 37/50\n",
      "334/334 [==============================] - 4s 12ms/step - loss: 0.6145 - accuracy: 0.7806\n",
      "Epoch 38/50\n",
      "334/334 [==============================] - 4s 12ms/step - loss: 0.6137 - accuracy: 0.7820\n",
      "Epoch 39/50\n",
      "334/334 [==============================] - 4s 12ms/step - loss: 0.6096 - accuracy: 0.7856\n",
      "Epoch 40/50\n",
      "334/334 [==============================] - 4s 12ms/step - loss: 0.6075 - accuracy: 0.7842\n",
      "Epoch 41/50\n",
      "334/334 [==============================] - 4s 12ms/step - loss: 0.6018 - accuracy: 0.7869\n",
      "Epoch 42/50\n",
      "334/334 [==============================] - 4s 12ms/step - loss: 0.5999 - accuracy: 0.7891\n",
      "Epoch 43/50\n",
      "334/334 [==============================] - 4s 12ms/step - loss: 0.5973 - accuracy: 0.7880\n",
      "Epoch 44/50\n",
      "334/334 [==============================] - 4s 12ms/step - loss: 0.5947 - accuracy: 0.7892\n",
      "Epoch 45/50\n",
      "334/334 [==============================] - 4s 12ms/step - loss: 0.5932 - accuracy: 0.7890\n",
      "Epoch 46/50\n",
      "334/334 [==============================] - 4s 12ms/step - loss: 0.5905 - accuracy: 0.7910\n",
      "Epoch 47/50\n",
      "334/334 [==============================] - 4s 12ms/step - loss: 0.5844 - accuracy: 0.7919\n",
      "Epoch 48/50\n",
      "334/334 [==============================] - 4s 12ms/step - loss: 0.5852 - accuracy: 0.7915\n",
      "Epoch 49/50\n",
      "334/334 [==============================] - 4s 12ms/step - loss: 0.5821 - accuracy: 0.7942\n",
      "Epoch 50/50\n",
      "334/334 [==============================] - 4s 12ms/step - loss: 0.5799 - accuracy: 0.7933\n"
     ]
    },
    {
     "data": {
      "text/plain": [
       "<tensorflow.python.keras.callbacks.History at 0x7f142e58be10>"
      ]
     },
     "execution_count": 27,
     "metadata": {
      "tags": []
     },
     "output_type": "execute_result"
    }
   ],
   "source": [
    "model3.fit(train_x, train_y, epochs = 50, batch_size = 180)"
   ]
  },
  {
   "cell_type": "code",
   "execution_count": 28,
   "metadata": {
    "colab": {
     "base_uri": "https://localhost:8080/"
    },
    "id": "fyCpxc2c9fEN",
    "outputId": "cd3e4842-2dfe-47ed-dc0d-a554d26db6e8"
   },
   "outputs": [
    {
     "name": "stdout",
     "output_type": "stream",
     "text": [
      "313/313 [==============================] - 1s 3ms/step - loss: 0.5200 - accuracy: 0.8156\n",
      "\n",
      "loss is: 0.5200356841087341\n",
      "accuracy is: 0.8155999779701233\n"
     ]
    }
   ],
   "source": [
    "score = model3.evaluate(test_x, test_y)\n",
    "print('\\nloss is: ' + str(score[0]))\n",
    "print('accuracy is: ' + str(score[1]))"
   ]
  },
  {
   "cell_type": "code",
   "execution_count": 29,
   "metadata": {
    "colab": {
     "base_uri": "https://localhost:8080/"
    },
    "id": "450kNuE_aPMa",
    "outputId": "0dcc568e-d92f-4b1a-ec4f-446e6b022845"
   },
   "outputs": [
    {
     "name": "stdout",
     "output_type": "stream",
     "text": [
      "Correctly identified 7673 images\n"
     ]
    }
   ],
   "source": [
    "# make predictions\n",
    "predicted_classes = model3.predict(test_x)\n",
    "# find the class with highest probability \n",
    "predicted_classes1 = np.argmax(np.round(predicted_classes), axis = 1)\n",
    "actual = np.argmax(np.round(test_y), axis = 1)\n",
    "correct = np.where(predicted_classes1==actual)[0]\n",
    "\n",
    "print(\"Correctly identified %d images\" % len(correct))"
   ]
  },
  {
   "cell_type": "code",
   "execution_count": 30,
   "metadata": {
    "colab": {
     "base_uri": "https://localhost:8080/"
    },
    "id": "hmxWrtTgaR8w",
    "outputId": "1bdc76e1-c2fa-4f08-f691-7049078c6034"
   },
   "outputs": [
    {
     "name": "stdout",
     "output_type": "stream",
     "text": [
      "              precision    recall  f1-score   support\n",
      "\n",
      "     Class 0       0.38      0.89      0.53      1000\n",
      "     Class 1       0.99      0.91      0.95      1000\n",
      "     Class 2       0.73      0.57      0.64      1000\n",
      "     Class 3       0.92      0.75      0.82      1000\n",
      "     Class 4       0.71      0.57      0.64      1000\n",
      "     Class 5       0.97      0.91      0.94      1000\n",
      "     Class 6       0.68      0.31      0.42      1000\n",
      "     Class 7       0.93      0.90      0.91      1000\n",
      "     Class 8       0.97      0.92      0.94      1000\n",
      "     Class 9       0.91      0.95      0.93      1000\n",
      "\n",
      "    accuracy                           0.77     10000\n",
      "   macro avg       0.82      0.77      0.77     10000\n",
      "weighted avg       0.82      0.77      0.77     10000\n",
      "\n"
     ]
    }
   ],
   "source": [
    "target_names = [\"Class {}\".format(i) for i in range(10)]\n",
    "print(classification_report(actual, predicted_classes1, target_names=target_names))"
   ]
  },
  {
   "cell_type": "markdown",
   "metadata": {
    "id": "7u5jjRm3A2kL"
   },
   "source": [
    "model 4 continue to increase kernels and filters.  Trying a different optimizer."
   ]
  },
  {
   "cell_type": "code",
   "execution_count": 34,
   "metadata": {
    "id": "LMQOjN66_xVr"
   },
   "outputs": [],
   "source": [
    "model4 = Sequential()\n",
    "model4.add(Conv1D(filters = 354, kernel_size = 4,  input_shape = (28, 28), activation = 'relu'))\n",
    "model4.add(MaxPooling1D(pool_size = 2))\n",
    "model4.add(Dropout(0.2))\n",
    "model4.add(BatchNormalization())\n",
    "\n",
    "# Second set of layers\n",
    "model4.add(Conv1D(filters = 250, kernel_size = 3, activation = 'relu'))\n",
    "model4.add(MaxPooling1D(pool_size = 2))\n",
    "model4.add(Dropout(0.2))\n",
    "model4.add(BatchNormalization())\n",
    "\n",
    "# Third set of layers\n",
    "model4.add(Conv1D(filters = 125, kernel_size = 3, activation = 'relu') )\n",
    "model4.add(MaxPooling1D(pool_size = 2))\n",
    "model4.add(Dropout(0.2))\n",
    "model4.add(BatchNormalization())\n",
    "\n",
    "model4.add(Flatten())\n",
    "model4.add(Dense(units = 10, activation = 'softmax'))"
   ]
  },
  {
   "cell_type": "code",
   "execution_count": 35,
   "metadata": {
    "id": "729b5dMKAg1z"
   },
   "outputs": [],
   "source": [
    "# Comile the model and set the loss functions, and targets, etc. \n",
    "model4.compile(loss = 'categorical_crossentropy', \n",
    "              optimizer='adam', \n",
    "              metrics = ['accuracy'])"
   ]
  },
  {
   "cell_type": "code",
   "execution_count": 36,
   "metadata": {
    "colab": {
     "base_uri": "https://localhost:8080/"
    },
    "id": "5VLo8Ss2CiR6",
    "outputId": "1b611609-5ff2-4985-b657-2f28f3531a61"
   },
   "outputs": [
    {
     "name": "stdout",
     "output_type": "stream",
     "text": [
      "Epoch 1/50\n",
      "300/300 [==============================] - 2s 8ms/step - loss: 0.5603 - accuracy: 0.7937 - val_loss: 0.4566 - val_accuracy: 0.8351\n",
      "Epoch 2/50\n",
      "300/300 [==============================] - 2s 7ms/step - loss: 0.4146 - accuracy: 0.8467 - val_loss: 0.4083 - val_accuracy: 0.8455\n",
      "Epoch 3/50\n",
      "300/300 [==============================] - 2s 7ms/step - loss: 0.3751 - accuracy: 0.8603 - val_loss: 0.3887 - val_accuracy: 0.8570\n",
      "Epoch 4/50\n",
      "300/300 [==============================] - 2s 7ms/step - loss: 0.3524 - accuracy: 0.8682 - val_loss: 0.3684 - val_accuracy: 0.8614\n",
      "Epoch 5/50\n",
      "300/300 [==============================] - 2s 7ms/step - loss: 0.3304 - accuracy: 0.8765 - val_loss: 0.3522 - val_accuracy: 0.8705\n",
      "Epoch 6/50\n",
      "300/300 [==============================] - 2s 7ms/step - loss: 0.3193 - accuracy: 0.8821 - val_loss: 0.3453 - val_accuracy: 0.8657\n",
      "Epoch 7/50\n",
      "300/300 [==============================] - 2s 7ms/step - loss: 0.3036 - accuracy: 0.8868 - val_loss: 0.3374 - val_accuracy: 0.8769\n",
      "Epoch 8/50\n",
      "300/300 [==============================] - 2s 7ms/step - loss: 0.2946 - accuracy: 0.8887 - val_loss: 0.3453 - val_accuracy: 0.8676\n",
      "Epoch 9/50\n",
      "300/300 [==============================] - 2s 7ms/step - loss: 0.2868 - accuracy: 0.8920 - val_loss: 0.3220 - val_accuracy: 0.8831\n",
      "Epoch 10/50\n",
      "300/300 [==============================] - 2s 7ms/step - loss: 0.2759 - accuracy: 0.8962 - val_loss: 0.3383 - val_accuracy: 0.8798\n",
      "Epoch 11/50\n",
      "300/300 [==============================] - 2s 7ms/step - loss: 0.2698 - accuracy: 0.8990 - val_loss: 0.3274 - val_accuracy: 0.8783\n",
      "Epoch 12/50\n",
      "300/300 [==============================] - 2s 7ms/step - loss: 0.2604 - accuracy: 0.9009 - val_loss: 0.3362 - val_accuracy: 0.8777\n",
      "Epoch 13/50\n",
      "300/300 [==============================] - 2s 7ms/step - loss: 0.2577 - accuracy: 0.9028 - val_loss: 0.3365 - val_accuracy: 0.8754\n",
      "Epoch 14/50\n",
      "300/300 [==============================] - 2s 7ms/step - loss: 0.2507 - accuracy: 0.9054 - val_loss: 0.3022 - val_accuracy: 0.8909\n",
      "Epoch 15/50\n",
      "300/300 [==============================] - 2s 7ms/step - loss: 0.2430 - accuracy: 0.9076 - val_loss: 0.3177 - val_accuracy: 0.8849\n",
      "Epoch 16/50\n",
      "300/300 [==============================] - 2s 7ms/step - loss: 0.2379 - accuracy: 0.9101 - val_loss: 0.3235 - val_accuracy: 0.8806\n",
      "Epoch 17/50\n",
      "300/300 [==============================] - 2s 7ms/step - loss: 0.2321 - accuracy: 0.9116 - val_loss: 0.3181 - val_accuracy: 0.8874\n",
      "Epoch 18/50\n",
      "300/300 [==============================] - 2s 7ms/step - loss: 0.2304 - accuracy: 0.9125 - val_loss: 0.3314 - val_accuracy: 0.8796\n",
      "Epoch 19/50\n",
      "300/300 [==============================] - 2s 7ms/step - loss: 0.2226 - accuracy: 0.9165 - val_loss: 0.3177 - val_accuracy: 0.8849\n",
      "Epoch 20/50\n",
      "300/300 [==============================] - 2s 7ms/step - loss: 0.2214 - accuracy: 0.9155 - val_loss: 0.3217 - val_accuracy: 0.8875\n",
      "Epoch 21/50\n",
      "300/300 [==============================] - 2s 7ms/step - loss: 0.2157 - accuracy: 0.9177 - val_loss: 0.3050 - val_accuracy: 0.8934\n",
      "Epoch 22/50\n",
      "300/300 [==============================] - 2s 7ms/step - loss: 0.2106 - accuracy: 0.9203 - val_loss: 0.3077 - val_accuracy: 0.8913\n",
      "Epoch 23/50\n",
      "300/300 [==============================] - 2s 7ms/step - loss: 0.2080 - accuracy: 0.9197 - val_loss: 0.3192 - val_accuracy: 0.8891\n",
      "Epoch 24/50\n",
      "300/300 [==============================] - 2s 7ms/step - loss: 0.2064 - accuracy: 0.9208 - val_loss: 0.3099 - val_accuracy: 0.8972\n",
      "Epoch 25/50\n",
      "300/300 [==============================] - 2s 7ms/step - loss: 0.2003 - accuracy: 0.9239 - val_loss: 0.3083 - val_accuracy: 0.8954\n",
      "Epoch 26/50\n",
      "300/300 [==============================] - 2s 7ms/step - loss: 0.1958 - accuracy: 0.9246 - val_loss: 0.3209 - val_accuracy: 0.8940\n",
      "Epoch 27/50\n",
      "300/300 [==============================] - 2s 7ms/step - loss: 0.1944 - accuracy: 0.9249 - val_loss: 0.3058 - val_accuracy: 0.8976\n",
      "Epoch 28/50\n",
      "300/300 [==============================] - 2s 7ms/step - loss: 0.1913 - accuracy: 0.9263 - val_loss: 0.3154 - val_accuracy: 0.8927\n",
      "Epoch 29/50\n",
      "300/300 [==============================] - 2s 7ms/step - loss: 0.1881 - accuracy: 0.9284 - val_loss: 0.3146 - val_accuracy: 0.8944\n",
      "Epoch 30/50\n",
      "300/300 [==============================] - 2s 7ms/step - loss: 0.1825 - accuracy: 0.9302 - val_loss: 0.3212 - val_accuracy: 0.8917\n",
      "Epoch 31/50\n",
      "300/300 [==============================] - 2s 7ms/step - loss: 0.1828 - accuracy: 0.9301 - val_loss: 0.3180 - val_accuracy: 0.8925\n",
      "Epoch 32/50\n",
      "300/300 [==============================] - 2s 7ms/step - loss: 0.1790 - accuracy: 0.9311 - val_loss: 0.3156 - val_accuracy: 0.8950\n",
      "Epoch 33/50\n",
      "300/300 [==============================] - 2s 7ms/step - loss: 0.1780 - accuracy: 0.9312 - val_loss: 0.3143 - val_accuracy: 0.8940\n",
      "Epoch 34/50\n",
      "300/300 [==============================] - 2s 7ms/step - loss: 0.1728 - accuracy: 0.9348 - val_loss: 0.3116 - val_accuracy: 0.8954\n",
      "Epoch 35/50\n",
      "300/300 [==============================] - 2s 7ms/step - loss: 0.1700 - accuracy: 0.9344 - val_loss: 0.3310 - val_accuracy: 0.8908\n",
      "Epoch 36/50\n",
      "300/300 [==============================] - 2s 7ms/step - loss: 0.1689 - accuracy: 0.9362 - val_loss: 0.3211 - val_accuracy: 0.8969\n",
      "Epoch 37/50\n",
      "300/300 [==============================] - 2s 7ms/step - loss: 0.1658 - accuracy: 0.9360 - val_loss: 0.3311 - val_accuracy: 0.8921\n",
      "Epoch 38/50\n",
      "300/300 [==============================] - 2s 7ms/step - loss: 0.1640 - accuracy: 0.9376 - val_loss: 0.3294 - val_accuracy: 0.8977\n",
      "Epoch 39/50\n",
      "300/300 [==============================] - 2s 7ms/step - loss: 0.1619 - accuracy: 0.9378 - val_loss: 0.3472 - val_accuracy: 0.8910\n",
      "Epoch 40/50\n",
      "300/300 [==============================] - 2s 7ms/step - loss: 0.1600 - accuracy: 0.9388 - val_loss: 0.3217 - val_accuracy: 0.8975\n",
      "Epoch 41/50\n",
      "300/300 [==============================] - 2s 7ms/step - loss: 0.1569 - accuracy: 0.9398 - val_loss: 0.3364 - val_accuracy: 0.9006\n",
      "Epoch 42/50\n",
      "300/300 [==============================] - 2s 7ms/step - loss: 0.1578 - accuracy: 0.9398 - val_loss: 0.3470 - val_accuracy: 0.8883\n",
      "Epoch 43/50\n",
      "300/300 [==============================] - 2s 7ms/step - loss: 0.1541 - accuracy: 0.9403 - val_loss: 0.3363 - val_accuracy: 0.8939\n",
      "Epoch 44/50\n",
      "300/300 [==============================] - 2s 7ms/step - loss: 0.1505 - accuracy: 0.9417 - val_loss: 0.3269 - val_accuracy: 0.8999\n",
      "Epoch 45/50\n",
      "300/300 [==============================] - 2s 7ms/step - loss: 0.1478 - accuracy: 0.9434 - val_loss: 0.3426 - val_accuracy: 0.8963\n",
      "Epoch 46/50\n",
      "300/300 [==============================] - 2s 7ms/step - loss: 0.1476 - accuracy: 0.9437 - val_loss: 0.3250 - val_accuracy: 0.8962\n",
      "Epoch 47/50\n",
      "300/300 [==============================] - 2s 7ms/step - loss: 0.1444 - accuracy: 0.9446 - val_loss: 0.3454 - val_accuracy: 0.8937\n",
      "Epoch 48/50\n",
      "300/300 [==============================] - 2s 7ms/step - loss: 0.1438 - accuracy: 0.9449 - val_loss: 0.3428 - val_accuracy: 0.8972\n",
      "Epoch 49/50\n",
      "300/300 [==============================] - 2s 7ms/step - loss: 0.1420 - accuracy: 0.9457 - val_loss: 0.3315 - val_accuracy: 0.9033\n",
      "Epoch 50/50\n",
      "300/300 [==============================] - 2s 7ms/step - loss: 0.1403 - accuracy: 0.9466 - val_loss: 0.3316 - val_accuracy: 0.9015\n"
     ]
    }
   ],
   "source": [
    "model4_train = model4.fit(train_x, train_y, epochs = 50, batch_size = 200, validation_data=(test_x, test_y))"
   ]
  },
  {
   "cell_type": "code",
   "execution_count": 37,
   "metadata": {
    "colab": {
     "base_uri": "https://localhost:8080/"
    },
    "id": "Xn23uzVUCcOK",
    "outputId": "36a28687-5b9a-4ec3-d42f-5db8f14cbf12"
   },
   "outputs": [
    {
     "name": "stdout",
     "output_type": "stream",
     "text": [
      "313/313 [==============================] - 1s 3ms/step - loss: 0.3316 - accuracy: 0.9015\n",
      "\n",
      "loss is: 0.3316212296485901\n",
      "accuracy is: 0.9014999866485596\n"
     ]
    }
   ],
   "source": [
    "score = model4.evaluate(test_x, test_y)\n",
    "print('\\nloss is: ' + str(score[0]))\n",
    "print('accuracy is: ' + str(score[1]))"
   ]
  },
  {
   "cell_type": "code",
   "execution_count": 38,
   "metadata": {
    "colab": {
     "base_uri": "https://localhost:8080/"
    },
    "id": "iYfsfXfrayyu",
    "outputId": "af5a83cb-6283-4ce4-8b8d-e2397b1acfb0"
   },
   "outputs": [
    {
     "name": "stdout",
     "output_type": "stream",
     "text": [
      "Correctly identified 8944 images\n"
     ]
    }
   ],
   "source": [
    "# make predictions\n",
    "predicted_classes = model4.predict(test_x)\n",
    "# find the class with highest probability \n",
    "predicted_classes1 = np.argmax(np.round(predicted_classes), axis = 1)\n",
    "actual = np.argmax(np.round(test_y), axis = 1)\n",
    "correct = np.where(predicted_classes1==actual)[0]\n",
    "\n",
    "print(\"Correctly identified %d images\" % len(correct))"
   ]
  },
  {
   "cell_type": "code",
   "execution_count": 39,
   "metadata": {
    "colab": {
     "base_uri": "https://localhost:8080/"
    },
    "id": "Txr1QkruaxOU",
    "outputId": "68b4b670-f0ae-41cf-dd68-73715b0c29ff"
   },
   "outputs": [
    {
     "name": "stdout",
     "output_type": "stream",
     "text": [
      "              precision    recall  f1-score   support\n",
      "\n",
      "     Class 0       0.77      0.81      0.79      1000\n",
      "     Class 1       0.99      0.97      0.98      1000\n",
      "     Class 2       0.88      0.78      0.83      1000\n",
      "     Class 3       0.92      0.89      0.90      1000\n",
      "     Class 4       0.80      0.86      0.83      1000\n",
      "     Class 5       0.98      0.99      0.99      1000\n",
      "     Class 6       0.71      0.73      0.72      1000\n",
      "     Class 7       0.97      0.97      0.97      1000\n",
      "     Class 8       0.98      0.98      0.98      1000\n",
      "     Class 9       0.97      0.97      0.97      1000\n",
      "\n",
      "    accuracy                           0.89     10000\n",
      "   macro avg       0.90      0.89      0.90     10000\n",
      "weighted avg       0.90      0.89      0.90     10000\n",
      "\n"
     ]
    }
   ],
   "source": [
    "target_names = [\"Class {}\".format(i) for i in range(10)]\n",
    "print(classification_report(actual, predicted_classes1, target_names=target_names))"
   ]
  },
  {
   "cell_type": "code",
   "execution_count": 40,
   "metadata": {
    "colab": {
     "base_uri": "https://localhost:8080/",
     "height": 545
    },
    "id": "QvmWJFn0Blvw",
    "outputId": "884c4cfe-b4bf-4f77-9ec3-88190f51de35"
   },
   "outputs": [
    {
     "data": {
      "image/png": "[encoded data removed]",
      "text/plain": [
       "<Figure size 432x288 with 1 Axes>"
      ]
     },
     "metadata": {
      "needs_background": "light",
      "tags": []
     },
     "output_type": "display_data"
    },
    {
     "data": {
      "image/png": "[encoded data removed]",
      "text/plain": [
       "<Figure size 432x288 with 1 Axes>"
      ]
     },
     "metadata": {
      "needs_background": "light",
      "tags": []
     },
     "output_type": "display_data"
    }
   ],
   "source": [
    "accuracy = model4_train.history['accuracy']\n",
    "val_accuracy =  model4_train.history['val_accuracy']\n",
    "loss =  model4_train.history['loss']\n",
    "val_loss =  model4_train.history['val_loss']\n",
    "epochs = range(len(accuracy))\n",
    "plt.plot(epochs, accuracy, 'bo', label='Training accuracy')\n",
    "plt.plot(epochs, val_accuracy, 'b', label='Validation accuracy')\n",
    "plt.title('Training and validation accuracy')\n",
    "plt.legend()\n",
    "plt.figure()\n",
    "plt.plot(epochs, loss, 'bo', label='Training loss')\n",
    "plt.plot(epochs, val_loss, 'b', label='Validation loss')\n",
    "plt.title('Training and validation loss')\n",
    "plt.legend()\n",
    "plt.show()"
   ]
  },
  {
   "cell_type": "markdown",
   "metadata": {
    "id": "izKEQBp9TvKE"
   },
   "source": [
    "Seems to have overfit.  Lets reduce the batch size and number of epochs."
   ]
  },
  {
   "cell_type": "code",
   "execution_count": 42,
   "metadata": {
    "id": "c-4H80Q6DHFB"
   },
   "outputs": [],
   "source": [
    "model5 = Sequential()\n",
    "model5.add(Conv1D(filters = 354, kernel_size = 4,  input_shape = (28, 28), activation = 'relu'))\n",
    "model5.add(MaxPooling1D(pool_size = 2))\n",
    "model5.add(Dropout(0.2))\n",
    "model5.add(BatchNormalization())\n",
    "\n",
    "# Second set of layers\n",
    "model5.add(Conv1D(filters = 250, kernel_size = 3, activation = 'relu'))\n",
    "model5.add(MaxPooling1D(pool_size = 2))\n",
    "model5.add(Dropout(0.2))\n",
    "model5.add(BatchNormalization())\n",
    "\n",
    "# Third set of layers\n",
    "model5.add(Conv1D(filters = 125, kernel_size = 3, activation = 'relu') )\n",
    "model5.add(MaxPooling1D(pool_size = 2))\n",
    "model5.add(Dropout(0.2))\n",
    "model5.add(BatchNormalization())\n",
    "\n",
    "model5.add(Flatten())\n",
    "model5.add(Dense(units = 10, activation = 'softmax'))\n",
    "# Comile the model and set the loss functions, and targets, etc. \n",
    "model5.compile(loss = 'categorical_crossentropy', \n",
    "              optimizer='adam', \n",
    "              metrics = ['accuracy'])"
   ]
  },
  {
   "cell_type": "code",
   "execution_count": 43,
   "metadata": {
    "colab": {
     "base_uri": "https://localhost:8080/"
    },
    "id": "8O2y0I_WEte4",
    "outputId": "dbabdaa9-5cd9-43f7-ef27-a057cce06637"
   },
   "outputs": [
    {
     "name": "stdout",
     "output_type": "stream",
     "text": [
      "Epoch 1/40\n",
      "334/334 [==============================] - 2s 7ms/step - loss: 0.5475 - accuracy: 0.7988\n",
      "Epoch 2/40\n",
      "334/334 [==============================] - 2s 7ms/step - loss: 0.4130 - accuracy: 0.8485\n",
      "Epoch 3/40\n",
      "334/334 [==============================] - 2s 7ms/step - loss: 0.3776 - accuracy: 0.8595\n",
      "Epoch 4/40\n",
      "334/334 [==============================] - 2s 7ms/step - loss: 0.3502 - accuracy: 0.8699\n",
      "Epoch 5/40\n",
      "334/334 [==============================] - 2s 7ms/step - loss: 0.3345 - accuracy: 0.8747\n",
      "Epoch 6/40\n",
      "334/334 [==============================] - 2s 7ms/step - loss: 0.3200 - accuracy: 0.8797\n",
      "Epoch 7/40\n",
      "334/334 [==============================] - 2s 7ms/step - loss: 0.3063 - accuracy: 0.8846\n",
      "Epoch 8/40\n",
      "334/334 [==============================] - 2s 7ms/step - loss: 0.2938 - accuracy: 0.8892\n",
      "Epoch 9/40\n",
      "334/334 [==============================] - 2s 7ms/step - loss: 0.2875 - accuracy: 0.8904\n",
      "Epoch 10/40\n",
      "334/334 [==============================] - 2s 7ms/step - loss: 0.2774 - accuracy: 0.8964\n",
      "Epoch 11/40\n",
      "334/334 [==============================] - 2s 7ms/step - loss: 0.2688 - accuracy: 0.8967\n",
      "Epoch 12/40\n",
      "334/334 [==============================] - 2s 7ms/step - loss: 0.2638 - accuracy: 0.9013\n",
      "Epoch 13/40\n",
      "334/334 [==============================] - 2s 7ms/step - loss: 0.2575 - accuracy: 0.9015\n",
      "Epoch 14/40\n",
      "334/334 [==============================] - 2s 7ms/step - loss: 0.2501 - accuracy: 0.9053\n",
      "Epoch 15/40\n",
      "334/334 [==============================] - 2s 7ms/step - loss: 0.2403 - accuracy: 0.9086\n",
      "Epoch 16/40\n",
      "334/334 [==============================] - 2s 7ms/step - loss: 0.2398 - accuracy: 0.9090\n",
      "Epoch 17/40\n",
      "334/334 [==============================] - 2s 7ms/step - loss: 0.2333 - accuracy: 0.9112\n",
      "Epoch 18/40\n",
      "334/334 [==============================] - 2s 7ms/step - loss: 0.2299 - accuracy: 0.9130\n",
      "Epoch 19/40\n",
      "334/334 [==============================] - 2s 7ms/step - loss: 0.2232 - accuracy: 0.9144\n",
      "Epoch 20/40\n",
      "334/334 [==============================] - 2s 7ms/step - loss: 0.2218 - accuracy: 0.9164\n",
      "Epoch 21/40\n",
      "334/334 [==============================] - 2s 7ms/step - loss: 0.2138 - accuracy: 0.9176\n",
      "Epoch 22/40\n",
      "334/334 [==============================] - 2s 7ms/step - loss: 0.2112 - accuracy: 0.9199\n",
      "Epoch 23/40\n",
      "334/334 [==============================] - 2s 7ms/step - loss: 0.2083 - accuracy: 0.9207\n",
      "Epoch 24/40\n",
      "334/334 [==============================] - 2s 7ms/step - loss: 0.2043 - accuracy: 0.9215\n",
      "Epoch 25/40\n",
      "334/334 [==============================] - 2s 7ms/step - loss: 0.2006 - accuracy: 0.9245\n",
      "Epoch 26/40\n",
      "334/334 [==============================] - 2s 7ms/step - loss: 0.1982 - accuracy: 0.9240\n",
      "Epoch 27/40\n",
      "334/334 [==============================] - 2s 7ms/step - loss: 0.1935 - accuracy: 0.9251\n",
      "Epoch 28/40\n",
      "334/334 [==============================] - 2s 7ms/step - loss: 0.1921 - accuracy: 0.9268\n",
      "Epoch 29/40\n",
      "334/334 [==============================] - 2s 7ms/step - loss: 0.1876 - accuracy: 0.9281\n",
      "Epoch 30/40\n",
      "334/334 [==============================] - 2s 7ms/step - loss: 0.1842 - accuracy: 0.9293\n",
      "Epoch 31/40\n",
      "334/334 [==============================] - 2s 7ms/step - loss: 0.1830 - accuracy: 0.9304\n",
      "Epoch 32/40\n",
      "334/334 [==============================] - 2s 7ms/step - loss: 0.1812 - accuracy: 0.9308\n",
      "Epoch 33/40\n",
      "334/334 [==============================] - 2s 7ms/step - loss: 0.1776 - accuracy: 0.9313\n",
      "Epoch 34/40\n",
      "334/334 [==============================] - 2s 7ms/step - loss: 0.1749 - accuracy: 0.9323\n",
      "Epoch 35/40\n",
      "334/334 [==============================] - 2s 7ms/step - loss: 0.1716 - accuracy: 0.9344\n",
      "Epoch 36/40\n",
      "334/334 [==============================] - 2s 7ms/step - loss: 0.1739 - accuracy: 0.9333\n",
      "Epoch 37/40\n",
      "334/334 [==============================] - 2s 7ms/step - loss: 0.1719 - accuracy: 0.9341\n",
      "Epoch 38/40\n",
      "334/334 [==============================] - 2s 7ms/step - loss: 0.1674 - accuracy: 0.9357\n",
      "Epoch 39/40\n",
      "334/334 [==============================] - 2s 7ms/step - loss: 0.1638 - accuracy: 0.9376\n",
      "Epoch 40/40\n",
      "334/334 [==============================] - 2s 7ms/step - loss: 0.1620 - accuracy: 0.9383\n"
     ]
    },
    {
     "data": {
      "text/plain": [
       "<tensorflow.python.keras.callbacks.History at 0x7f1321d73f28>"
      ]
     },
     "execution_count": 43,
     "metadata": {
      "tags": []
     },
     "output_type": "execute_result"
    }
   ],
   "source": [
    "model5.fit(train_x, train_y, epochs = 40, batch_size = 180)"
   ]
  },
  {
   "cell_type": "code",
   "execution_count": 44,
   "metadata": {
    "colab": {
     "base_uri": "https://localhost:8080/"
    },
    "id": "GBRI1TEIE3RW",
    "outputId": "62a0e7fd-583b-4248-c8f3-bf867c6fe7d5"
   },
   "outputs": [
    {
     "name": "stdout",
     "output_type": "stream",
     "text": [
      "313/313 [==============================] - 1s 3ms/step - loss: 0.3294 - accuracy: 0.8950\n",
      "\n",
      "loss is: 0.3293610215187073\n",
      "accuracy is: 0.8949999809265137\n"
     ]
    }
   ],
   "source": [
    "score = model5.evaluate(test_x, test_y)\n",
    "print('\\nloss is: ' + str(score[0]))\n",
    "print('accuracy is: ' + str(score[1]))"
   ]
  },
  {
   "cell_type": "code",
   "execution_count": 45,
   "metadata": {
    "colab": {
     "base_uri": "https://localhost:8080/"
    },
    "id": "EDbPniy_f0w3",
    "outputId": "e4d575a7-d8b1-4502-e61f-96e90517e69f"
   },
   "outputs": [
    {
     "name": "stdout",
     "output_type": "stream",
     "text": [
      "Correctly identified 8888 images\n",
      "              precision    recall  f1-score   support\n",
      "\n",
      "     Class 0       0.73      0.87      0.79      1000\n",
      "     Class 1       0.99      0.97      0.98      1000\n",
      "     Class 2       0.77      0.89      0.82      1000\n",
      "     Class 3       0.91      0.90      0.90      1000\n",
      "     Class 4       0.89      0.69      0.78      1000\n",
      "     Class 5       0.99      0.98      0.98      1000\n",
      "     Class 6       0.74      0.69      0.71      1000\n",
      "     Class 7       0.97      0.96      0.96      1000\n",
      "     Class 8       0.99      0.97      0.98      1000\n",
      "     Class 9       0.96      0.98      0.97      1000\n",
      "\n",
      "    accuracy                           0.89     10000\n",
      "   macro avg       0.89      0.89      0.89     10000\n",
      "weighted avg       0.89      0.89      0.89     10000\n",
      "\n"
     ]
    }
   ],
   "source": [
    "# make predictions\n",
    "predicted_classes = model5.predict(test_x)\n",
    "# find the class with highest probability \n",
    "predicted_classes1 = np.argmax(np.round(predicted_classes), axis = 1)\n",
    "actual = np.argmax(np.round(test_y), axis = 1)\n",
    "correct = np.where(predicted_classes1==actual)[0]\n",
    "\n",
    "print(\"Correctly identified %d images\" % len(correct))\n",
    "target_names = [\"Class {}\".format(i) for i in range(10)]\n",
    "print(classification_report(actual, predicted_classes1, target_names=target_names))"
   ]
  },
  {
   "cell_type": "markdown",
   "metadata": {
    "id": "831LspU4G5bH"
   },
   "source": [
    "model 6 has more filters and larger kernel.  The adam optimizer has overfit slightly so dropout is increased."
   ]
  },
  {
   "cell_type": "code",
   "execution_count": 46,
   "metadata": {
    "id": "pT1NgzWHFRld"
   },
   "outputs": [],
   "source": [
    "model6 = Sequential()\n",
    "model6.add(Conv1D(filters = 454, kernel_size = 4,  input_shape = (28, 28), activation = 'relu'))\n",
    "model6.add(MaxPooling1D(pool_size = 2))\n",
    "model6.add(Dropout(0.4))\n",
    "model6.add(BatchNormalization())\n",
    "\n",
    "# Second set of layers\n",
    "model6.add(Conv1D(filters = 350, kernel_size = 4, activation = 'relu'))\n",
    "model6.add(MaxPooling1D(pool_size = 2))\n",
    "model6.add(Dropout(0.4))\n",
    "model6.add(BatchNormalization())\n",
    "\n",
    "# Third set of layers\n",
    "model6.add(Conv1D(filters = 125, kernel_size = 3, activation = 'relu') )\n",
    "model6.add(MaxPooling1D(pool_size = 2))\n",
    "model6.add(Dropout(0.4))\n",
    "model6.add(BatchNormalization())\n",
    "\n",
    "model6.add(Flatten())\n",
    "model6.add(Dense(units = 10, activation = 'softmax'))\n",
    "# Comile the model and set the loss functions, and targets, etc. \n",
    "model6.compile(loss = 'categorical_crossentropy', \n",
    "              optimizer= tensorflow.keras.optimizers.Adam(learning_rate=0.001),\n",
    "              metrics = ['accuracy'])"
   ]
  },
  {
   "cell_type": "code",
   "execution_count": 47,
   "metadata": {
    "colab": {
     "base_uri": "https://localhost:8080/"
    },
    "id": "n5XFZFcq90oC",
    "outputId": "fc44313e-3dee-469b-a45b-e85cbb070ccd"
   },
   "outputs": [
    {
     "name": "stdout",
     "output_type": "stream",
     "text": [
      "Model: \"sequential_5\"\n",
      "_________________________________________________________________\n",
      "Layer (type)                 Output Shape              Param #   \n",
      "=================================================================\n",
      "conv1d_15 (Conv1D)           (None, 25, 454)           51302     \n",
      "_________________________________________________________________\n",
      "max_pooling1d_15 (MaxPooling (None, 12, 454)           0         \n",
      "_________________________________________________________________\n",
      "dropout_15 (Dropout)         (None, 12, 454)           0         \n",
      "_________________________________________________________________\n",
      "batch_normalization_15 (Batc (None, 12, 454)           1816      \n",
      "_________________________________________________________________\n",
      "conv1d_16 (Conv1D)           (None, 9, 350)            635950    \n",
      "_________________________________________________________________\n",
      "max_pooling1d_16 (MaxPooling (None, 4, 350)            0         \n",
      "_________________________________________________________________\n",
      "dropout_16 (Dropout)         (None, 4, 350)            0         \n",
      "_________________________________________________________________\n",
      "batch_normalization_16 (Batc (None, 4, 350)            1400      \n",
      "_________________________________________________________________\n",
      "conv1d_17 (Conv1D)           (None, 2, 125)            131375    \n",
      "_________________________________________________________________\n",
      "max_pooling1d_17 (MaxPooling (None, 1, 125)            0         \n",
      "_________________________________________________________________\n",
      "dropout_17 (Dropout)         (None, 1, 125)            0         \n",
      "_________________________________________________________________\n",
      "batch_normalization_17 (Batc (None, 1, 125)            500       \n",
      "_________________________________________________________________\n",
      "flatten_5 (Flatten)          (None, 125)               0         \n",
      "_________________________________________________________________\n",
      "dense_5 (Dense)              (None, 10)                1260      \n",
      "=================================================================\n",
      "Total params: 823,603\n",
      "Trainable params: 821,745\n",
      "Non-trainable params: 1,858\n",
      "_________________________________________________________________\n"
     ]
    }
   ],
   "source": [
    "model6.summary()"
   ]
  },
  {
   "cell_type": "code",
   "execution_count": 48,
   "metadata": {
    "colab": {
     "base_uri": "https://localhost:8080/"
    },
    "id": "jQA1H7IJGi6X",
    "outputId": "293cb4bb-62ef-4085-c521-da9fd6ef2bd0"
   },
   "outputs": [
    {
     "name": "stdout",
     "output_type": "stream",
     "text": [
      "Epoch 1/50\n",
      "334/334 [==============================] - 3s 9ms/step - loss: 0.6163 - accuracy: 0.7794\n",
      "Epoch 2/50\n",
      "334/334 [==============================] - 3s 9ms/step - loss: 0.4494 - accuracy: 0.8367\n",
      "Epoch 3/50\n",
      "334/334 [==============================] - 3s 9ms/step - loss: 0.4073 - accuracy: 0.8525\n",
      "Epoch 4/50\n",
      "334/334 [==============================] - 3s 9ms/step - loss: 0.3843 - accuracy: 0.8602\n",
      "Epoch 5/50\n",
      "334/334 [==============================] - 3s 9ms/step - loss: 0.3686 - accuracy: 0.8642\n",
      "Epoch 6/50\n",
      "334/334 [==============================] - 3s 9ms/step - loss: 0.3543 - accuracy: 0.8705\n",
      "Epoch 7/50\n",
      "334/334 [==============================] - 3s 9ms/step - loss: 0.3418 - accuracy: 0.8733\n",
      "Epoch 8/50\n",
      "334/334 [==============================] - 3s 9ms/step - loss: 0.3364 - accuracy: 0.8760\n",
      "Epoch 9/50\n",
      "334/334 [==============================] - 3s 9ms/step - loss: 0.3251 - accuracy: 0.8789\n",
      "Epoch 10/50\n",
      "334/334 [==============================] - 3s 9ms/step - loss: 0.3210 - accuracy: 0.8819\n",
      "Epoch 11/50\n",
      "334/334 [==============================] - 3s 9ms/step - loss: 0.3134 - accuracy: 0.8848\n",
      "Epoch 12/50\n",
      "334/334 [==============================] - 3s 9ms/step - loss: 0.3038 - accuracy: 0.8879\n",
      "Epoch 13/50\n",
      "334/334 [==============================] - 3s 9ms/step - loss: 0.2996 - accuracy: 0.8880\n",
      "Epoch 14/50\n",
      "334/334 [==============================] - 3s 9ms/step - loss: 0.2962 - accuracy: 0.8896\n",
      "Epoch 15/50\n",
      "334/334 [==============================] - 3s 9ms/step - loss: 0.2924 - accuracy: 0.8915\n",
      "Epoch 16/50\n",
      "334/334 [==============================] - 3s 9ms/step - loss: 0.2880 - accuracy: 0.8923\n",
      "Epoch 17/50\n",
      "334/334 [==============================] - 3s 9ms/step - loss: 0.2813 - accuracy: 0.8950\n",
      "Epoch 18/50\n",
      "334/334 [==============================] - 3s 9ms/step - loss: 0.2759 - accuracy: 0.8975\n",
      "Epoch 19/50\n",
      "334/334 [==============================] - 3s 9ms/step - loss: 0.2767 - accuracy: 0.8961\n",
      "Epoch 20/50\n",
      "334/334 [==============================] - 3s 9ms/step - loss: 0.2727 - accuracy: 0.9000\n",
      "Epoch 21/50\n",
      "334/334 [==============================] - 3s 9ms/step - loss: 0.2694 - accuracy: 0.9000\n",
      "Epoch 22/50\n",
      "334/334 [==============================] - 3s 9ms/step - loss: 0.2634 - accuracy: 0.9024\n",
      "Epoch 23/50\n",
      "334/334 [==============================] - 3s 9ms/step - loss: 0.2629 - accuracy: 0.9013\n",
      "Epoch 24/50\n",
      "334/334 [==============================] - 3s 9ms/step - loss: 0.2579 - accuracy: 0.9036\n",
      "Epoch 25/50\n",
      "334/334 [==============================] - 3s 9ms/step - loss: 0.2550 - accuracy: 0.9041\n",
      "Epoch 26/50\n",
      "334/334 [==============================] - 3s 9ms/step - loss: 0.2507 - accuracy: 0.9066\n",
      "Epoch 27/50\n",
      "334/334 [==============================] - 3s 9ms/step - loss: 0.2480 - accuracy: 0.9081\n",
      "Epoch 28/50\n",
      "334/334 [==============================] - 3s 9ms/step - loss: 0.2453 - accuracy: 0.9078\n",
      "Epoch 29/50\n",
      "334/334 [==============================] - 3s 9ms/step - loss: 0.2454 - accuracy: 0.9087\n",
      "Epoch 30/50\n",
      "334/334 [==============================] - 3s 9ms/step - loss: 0.2453 - accuracy: 0.9093\n",
      "Epoch 31/50\n",
      "334/334 [==============================] - 3s 9ms/step - loss: 0.2416 - accuracy: 0.9099\n",
      "Epoch 32/50\n",
      "334/334 [==============================] - 3s 9ms/step - loss: 0.2372 - accuracy: 0.9105\n",
      "Epoch 33/50\n",
      "334/334 [==============================] - 3s 9ms/step - loss: 0.2323 - accuracy: 0.9136\n",
      "Epoch 34/50\n",
      "334/334 [==============================] - 3s 9ms/step - loss: 0.2298 - accuracy: 0.9136\n",
      "Epoch 35/50\n",
      "334/334 [==============================] - 3s 9ms/step - loss: 0.2311 - accuracy: 0.9137\n",
      "Epoch 36/50\n",
      "334/334 [==============================] - 3s 9ms/step - loss: 0.2276 - accuracy: 0.9151\n",
      "Epoch 37/50\n",
      "334/334 [==============================] - 3s 9ms/step - loss: 0.2294 - accuracy: 0.9131\n",
      "Epoch 38/50\n",
      "334/334 [==============================] - 3s 9ms/step - loss: 0.2224 - accuracy: 0.9160\n",
      "Epoch 39/50\n",
      "334/334 [==============================] - 3s 9ms/step - loss: 0.2223 - accuracy: 0.9166\n",
      "Epoch 40/50\n",
      "334/334 [==============================] - 3s 9ms/step - loss: 0.2209 - accuracy: 0.9160\n",
      "Epoch 41/50\n",
      "334/334 [==============================] - 3s 9ms/step - loss: 0.2183 - accuracy: 0.9172\n",
      "Epoch 42/50\n",
      "334/334 [==============================] - 3s 9ms/step - loss: 0.2194 - accuracy: 0.9169\n",
      "Epoch 43/50\n",
      "334/334 [==============================] - 3s 9ms/step - loss: 0.2147 - accuracy: 0.9190\n",
      "Epoch 44/50\n",
      "334/334 [==============================] - 3s 9ms/step - loss: 0.2132 - accuracy: 0.9195\n",
      "Epoch 45/50\n",
      "334/334 [==============================] - 3s 9ms/step - loss: 0.2137 - accuracy: 0.9178\n",
      "Epoch 46/50\n",
      "334/334 [==============================] - 3s 9ms/step - loss: 0.2106 - accuracy: 0.9209\n",
      "Epoch 47/50\n",
      "334/334 [==============================] - 3s 9ms/step - loss: 0.2085 - accuracy: 0.9212\n",
      "Epoch 48/50\n",
      "334/334 [==============================] - 3s 9ms/step - loss: 0.2066 - accuracy: 0.9223\n",
      "Epoch 49/50\n",
      "334/334 [==============================] - 3s 9ms/step - loss: 0.2039 - accuracy: 0.9228\n",
      "Epoch 50/50\n",
      "334/334 [==============================] - 3s 9ms/step - loss: 0.2030 - accuracy: 0.9240\n"
     ]
    },
    {
     "data": {
      "text/plain": [
       "<tensorflow.python.keras.callbacks.History at 0x7f13201127b8>"
      ]
     },
     "execution_count": 48,
     "metadata": {
      "tags": []
     },
     "output_type": "execute_result"
    }
   ],
   "source": [
    "model6.fit(train_x, train_y, epochs = 50, batch_size = 180)"
   ]
  },
  {
   "cell_type": "code",
   "execution_count": 49,
   "metadata": {
    "colab": {
     "base_uri": "https://localhost:8080/"
    },
    "id": "Lp0Q8jFXIR6n",
    "outputId": "9a2dc845-9b48-43e2-b961-aab9de60f37d"
   },
   "outputs": [
    {
     "name": "stdout",
     "output_type": "stream",
     "text": [
      "313/313 [==============================] - 1s 3ms/step - loss: 0.2859 - accuracy: 0.8986\n",
      "\n",
      "loss is: 0.285857617855072\n",
      "accuracy is: 0.8985999822616577\n"
     ]
    }
   ],
   "source": [
    "score = model6.evaluate(test_x, test_y)\n",
    "print('\\nloss is: ' + str(score[0]))\n",
    "print('accuracy is: ' + str(score[1]))"
   ]
  },
  {
   "cell_type": "code",
   "execution_count": 50,
   "metadata": {
    "colab": {
     "base_uri": "https://localhost:8080/"
    },
    "id": "FsrrgpZogCEd",
    "outputId": "aac8938d-c516-4d8a-c039-c364fa946d4c"
   },
   "outputs": [
    {
     "name": "stdout",
     "output_type": "stream",
     "text": [
      "Correctly identified 8931 images\n",
      "              precision    recall  f1-score   support\n",
      "\n",
      "     Class 0       0.74      0.81      0.77      1000\n",
      "     Class 1       0.99      0.98      0.98      1000\n",
      "     Class 2       0.88      0.77      0.82      1000\n",
      "     Class 3       0.93      0.88      0.90      1000\n",
      "     Class 4       0.79      0.88      0.83      1000\n",
      "     Class 5       0.99      0.99      0.99      1000\n",
      "     Class 6       0.73      0.71      0.72      1000\n",
      "     Class 7       0.95      0.98      0.97      1000\n",
      "     Class 8       0.98      0.98      0.98      1000\n",
      "     Class 9       0.98      0.95      0.97      1000\n",
      "\n",
      "    accuracy                           0.89     10000\n",
      "   macro avg       0.90      0.89      0.89     10000\n",
      "weighted avg       0.90      0.89      0.89     10000\n",
      "\n"
     ]
    }
   ],
   "source": [
    "# make predictions\n",
    "predicted_classes = model6.predict(test_x)\n",
    "# find the class with highest probability \n",
    "predicted_classes1 = np.argmax(np.round(predicted_classes), axis = 1)\n",
    "actual = np.argmax(np.round(test_y), axis = 1)\n",
    "correct = np.where(predicted_classes1==actual)[0]\n",
    "\n",
    "print(\"Correctly identified %d images\" % len(correct))\n",
    "target_names = [\"Class {}\".format(i) for i in range(10)]\n",
    "print(classification_report(actual, predicted_classes1, target_names=target_names))"
   ]
  },
  {
   "cell_type": "markdown",
   "metadata": {
    "id": "p7WzzrDhUbqZ"
   },
   "source": [
    "The pool size is reduced as is the amount of dropout."
   ]
  },
  {
   "cell_type": "code",
   "execution_count": 51,
   "metadata": {
    "id": "vMiPII4aKqfO"
   },
   "outputs": [],
   "source": [
    "model7 = Sequential()\n",
    "model7.add(Conv1D(filters = 454, kernel_size = 4,  input_shape = (28, 28), activation = 'relu'))\n",
    "model7.add(MaxPooling1D(pool_size = 1))\n",
    "model7.add(Dropout(0.3))\n",
    "model7.add(BatchNormalization())\n",
    "\n",
    "# Second set of layers\n",
    "model7.add(Conv1D(filters = 350, kernel_size = 4, activation = 'relu'))\n",
    "model7.add(MaxPooling1D(pool_size = 1))\n",
    "model7.add(Dropout(0.3))\n",
    "model7.add(BatchNormalization())\n",
    "\n",
    "# Third set of layers\n",
    "model7.add(Conv1D(filters = 125, kernel_size = 3, activation = 'relu') )\n",
    "model7.add(MaxPooling1D(pool_size = 1))\n",
    "model7.add(Dropout(0.3))\n",
    "model7.add(BatchNormalization())\n",
    "\n",
    "model7.add(Flatten())\n",
    "model7.add(Dense(units = 10, activation = 'softmax'))\n",
    "# Comile the model and set the loss functions, and targets, etc. \n",
    "model7.compile(loss = 'categorical_crossentropy', \n",
    "              optimizer= tensorflow.keras.optimizers.Adam(learning_rate=0.001),\n",
    "              metrics = ['accuracy'])"
   ]
  },
  {
   "cell_type": "code",
   "execution_count": 59,
   "metadata": {
    "colab": {
     "base_uri": "https://localhost:8080/"
    },
    "id": "2Dhj4pEjifhy",
    "outputId": "46f00d4a-ed65-4bd7-d000-73e7ee042783"
   },
   "outputs": [
    {
     "name": "stdout",
     "output_type": "stream",
     "text": [
      "Model: \"sequential_6\"\n",
      "_________________________________________________________________\n",
      "Layer (type)                 Output Shape              Param #   \n",
      "=================================================================\n",
      "conv1d_18 (Conv1D)           (None, 25, 454)           51302     \n",
      "_________________________________________________________________\n",
      "max_pooling1d_18 (MaxPooling (None, 25, 454)           0         \n",
      "_________________________________________________________________\n",
      "dropout_18 (Dropout)         (None, 25, 454)           0         \n",
      "_________________________________________________________________\n",
      "batch_normalization_18 (Batc (None, 25, 454)           1816      \n",
      "_________________________________________________________________\n",
      "conv1d_19 (Conv1D)           (None, 22, 350)           635950    \n",
      "_________________________________________________________________\n",
      "max_pooling1d_19 (MaxPooling (None, 22, 350)           0         \n",
      "_________________________________________________________________\n",
      "dropout_19 (Dropout)         (None, 22, 350)           0         \n",
      "_________________________________________________________________\n",
      "batch_normalization_19 (Batc (None, 22, 350)           1400      \n",
      "_________________________________________________________________\n",
      "conv1d_20 (Conv1D)           (None, 20, 125)           131375    \n",
      "_________________________________________________________________\n",
      "max_pooling1d_20 (MaxPooling (None, 20, 125)           0         \n",
      "_________________________________________________________________\n",
      "dropout_20 (Dropout)         (None, 20, 125)           0         \n",
      "_________________________________________________________________\n",
      "batch_normalization_20 (Batc (None, 20, 125)           500       \n",
      "_________________________________________________________________\n",
      "flatten_6 (Flatten)          (None, 2500)              0         \n",
      "_________________________________________________________________\n",
      "dense_6 (Dense)              (None, 10)                25010     \n",
      "=================================================================\n",
      "Total params: 847,353\n",
      "Trainable params: 845,495\n",
      "Non-trainable params: 1,858\n",
      "_________________________________________________________________\n"
     ]
    }
   ],
   "source": [
    "model7.summary()"
   ]
  },
  {
   "cell_type": "code",
   "execution_count": 52,
   "metadata": {
    "colab": {
     "base_uri": "https://localhost:8080/"
    },
    "id": "-7avkARPKoMF",
    "outputId": "83597a2c-5708-407c-bd61-980dff238f7d"
   },
   "outputs": [
    {
     "name": "stdout",
     "output_type": "stream",
     "text": [
      "Epoch 1/50\n",
      "334/334 [==============================] - 5s 15ms/step - loss: 0.5136 - accuracy: 0.8148\n",
      "Epoch 2/50\n",
      "334/334 [==============================] - 5s 15ms/step - loss: 0.3727 - accuracy: 0.8638\n",
      "Epoch 3/50\n",
      "334/334 [==============================] - 5s 15ms/step - loss: 0.3361 - accuracy: 0.8766\n",
      "Epoch 4/50\n",
      "334/334 [==============================] - 5s 15ms/step - loss: 0.3080 - accuracy: 0.8870\n",
      "Epoch 5/50\n",
      "334/334 [==============================] - 5s 15ms/step - loss: 0.2934 - accuracy: 0.8929\n",
      "Epoch 6/50\n",
      "334/334 [==============================] - 5s 15ms/step - loss: 0.2825 - accuracy: 0.8949\n",
      "Epoch 7/50\n",
      "334/334 [==============================] - 5s 15ms/step - loss: 0.2645 - accuracy: 0.9013\n",
      "Epoch 8/50\n",
      "334/334 [==============================] - 5s 15ms/step - loss: 0.2602 - accuracy: 0.9042\n",
      "Epoch 9/50\n",
      "334/334 [==============================] - 5s 15ms/step - loss: 0.2479 - accuracy: 0.9067\n",
      "Epoch 10/50\n",
      "334/334 [==============================] - 5s 15ms/step - loss: 0.2435 - accuracy: 0.9100\n",
      "Epoch 11/50\n",
      "334/334 [==============================] - 5s 15ms/step - loss: 0.2333 - accuracy: 0.9127\n",
      "Epoch 12/50\n",
      "334/334 [==============================] - 5s 15ms/step - loss: 0.2285 - accuracy: 0.9144\n",
      "Epoch 13/50\n",
      "334/334 [==============================] - 5s 15ms/step - loss: 0.2220 - accuracy: 0.9158\n",
      "Epoch 14/50\n",
      "334/334 [==============================] - 5s 15ms/step - loss: 0.2165 - accuracy: 0.9191\n",
      "Epoch 15/50\n",
      "334/334 [==============================] - 5s 15ms/step - loss: 0.2107 - accuracy: 0.9215\n",
      "Epoch 16/50\n",
      "334/334 [==============================] - 5s 15ms/step - loss: 0.2028 - accuracy: 0.9243\n",
      "Epoch 17/50\n",
      "334/334 [==============================] - 5s 15ms/step - loss: 0.1996 - accuracy: 0.9255\n",
      "Epoch 18/50\n",
      "334/334 [==============================] - 5s 15ms/step - loss: 0.1952 - accuracy: 0.9259\n",
      "Epoch 19/50\n",
      "334/334 [==============================] - 5s 15ms/step - loss: 0.1877 - accuracy: 0.9289\n",
      "Epoch 20/50\n",
      "334/334 [==============================] - 5s 15ms/step - loss: 0.1822 - accuracy: 0.9317\n",
      "Epoch 21/50\n",
      "334/334 [==============================] - 5s 15ms/step - loss: 0.1811 - accuracy: 0.9322\n",
      "Epoch 22/50\n",
      "334/334 [==============================] - 5s 15ms/step - loss: 0.1776 - accuracy: 0.9327\n",
      "Epoch 23/50\n",
      "334/334 [==============================] - 5s 15ms/step - loss: 0.1694 - accuracy: 0.9346\n",
      "Epoch 24/50\n",
      "334/334 [==============================] - 5s 15ms/step - loss: 0.1673 - accuracy: 0.9366\n",
      "Epoch 25/50\n",
      "334/334 [==============================] - 5s 15ms/step - loss: 0.1656 - accuracy: 0.9369\n",
      "Epoch 26/50\n",
      "334/334 [==============================] - 5s 15ms/step - loss: 0.1603 - accuracy: 0.9393\n",
      "Epoch 27/50\n",
      "334/334 [==============================] - 5s 15ms/step - loss: 0.1598 - accuracy: 0.9409\n",
      "Epoch 28/50\n",
      "334/334 [==============================] - 5s 15ms/step - loss: 0.1556 - accuracy: 0.9402\n",
      "Epoch 29/50\n",
      "334/334 [==============================] - 5s 15ms/step - loss: 0.1510 - accuracy: 0.9432\n",
      "Epoch 30/50\n",
      "334/334 [==============================] - 5s 15ms/step - loss: 0.1489 - accuracy: 0.9434\n",
      "Epoch 31/50\n",
      "334/334 [==============================] - 5s 15ms/step - loss: 0.1449 - accuracy: 0.9449\n",
      "Epoch 32/50\n",
      "334/334 [==============================] - 5s 15ms/step - loss: 0.1457 - accuracy: 0.9449\n",
      "Epoch 33/50\n",
      "334/334 [==============================] - 5s 15ms/step - loss: 0.1423 - accuracy: 0.9460\n",
      "Epoch 34/50\n",
      "334/334 [==============================] - 5s 15ms/step - loss: 0.1383 - accuracy: 0.9476\n",
      "Epoch 35/50\n",
      "334/334 [==============================] - 5s 15ms/step - loss: 0.1364 - accuracy: 0.9482\n",
      "Epoch 36/50\n",
      "334/334 [==============================] - 5s 15ms/step - loss: 0.1310 - accuracy: 0.9501\n",
      "Epoch 37/50\n",
      "334/334 [==============================] - 5s 15ms/step - loss: 0.1311 - accuracy: 0.9507\n",
      "Epoch 38/50\n",
      "334/334 [==============================] - 5s 15ms/step - loss: 0.1311 - accuracy: 0.9503\n",
      "Epoch 39/50\n",
      "334/334 [==============================] - 5s 15ms/step - loss: 0.1286 - accuracy: 0.9513\n",
      "Epoch 40/50\n",
      "334/334 [==============================] - 5s 15ms/step - loss: 0.1218 - accuracy: 0.9545\n",
      "Epoch 41/50\n",
      "334/334 [==============================] - 5s 15ms/step - loss: 0.1206 - accuracy: 0.9545\n",
      "Epoch 42/50\n",
      "334/334 [==============================] - 5s 15ms/step - loss: 0.1219 - accuracy: 0.9547\n",
      "Epoch 43/50\n",
      "334/334 [==============================] - 5s 15ms/step - loss: 0.1171 - accuracy: 0.9563\n",
      "Epoch 44/50\n",
      "334/334 [==============================] - 5s 15ms/step - loss: 0.1181 - accuracy: 0.9544\n",
      "Epoch 45/50\n",
      "334/334 [==============================] - 5s 15ms/step - loss: 0.1148 - accuracy: 0.9569\n",
      "Epoch 46/50\n",
      "334/334 [==============================] - 5s 15ms/step - loss: 0.1147 - accuracy: 0.9557\n",
      "Epoch 47/50\n",
      "334/334 [==============================] - 5s 15ms/step - loss: 0.1113 - accuracy: 0.9585\n",
      "Epoch 48/50\n",
      "334/334 [==============================] - 5s 15ms/step - loss: 0.1075 - accuracy: 0.9591\n",
      "Epoch 49/50\n",
      "334/334 [==============================] - 5s 15ms/step - loss: 0.1091 - accuracy: 0.9596\n",
      "Epoch 50/50\n",
      "334/334 [==============================] - 5s 15ms/step - loss: 0.1074 - accuracy: 0.9589\n"
     ]
    },
    {
     "data": {
      "text/plain": [
       "<tensorflow.python.keras.callbacks.History at 0x7f131e6cbda0>"
      ]
     },
     "execution_count": 52,
     "metadata": {
      "tags": []
     },
     "output_type": "execute_result"
    }
   ],
   "source": [
    "model7.fit(train_x, train_y, epochs = 50, batch_size = 180)"
   ]
  },
  {
   "cell_type": "code",
   "execution_count": 53,
   "metadata": {
    "colab": {
     "base_uri": "https://localhost:8080/"
    },
    "id": "KLj2k4xyOykh",
    "outputId": "3ff0a6b8-cdb0-46f8-bf6b-24ba6cd6b011"
   },
   "outputs": [
    {
     "name": "stdout",
     "output_type": "stream",
     "text": [
      "313/313 [==============================] - 1s 3ms/step - loss: 0.3243 - accuracy: 0.9129\n",
      "\n",
      "loss is: 0.3243199586868286\n",
      "accuracy is: 0.9128999710083008\n"
     ]
    }
   ],
   "source": [
    "score = model7.evaluate(test_x, test_y)\n",
    "print('\\nloss is: ' + str(score[0]))\n",
    "print('accuracy is: ' + str(score[1]))"
   ]
  },
  {
   "cell_type": "code",
   "execution_count": 60,
   "metadata": {
    "colab": {
     "base_uri": "https://localhost:8080/"
    },
    "id": "CJSpVSK4gGGM",
    "outputId": "66b16c67-d41f-495d-8286-d5beba69b68d"
   },
   "outputs": [
    {
     "name": "stdout",
     "output_type": "stream",
     "text": [
      "Correctly identified 9114 images\n",
      "              precision    recall  f1-score   support\n",
      "\n",
      "     Class 0       0.80      0.88      0.84      1000\n",
      "     Class 1       0.99      0.98      0.99      1000\n",
      "     Class 2       0.86      0.86      0.86      1000\n",
      "     Class 3       0.93      0.91      0.92      1000\n",
      "     Class 4       0.89      0.81      0.85      1000\n",
      "     Class 5       0.99      0.98      0.98      1000\n",
      "     Class 6       0.76      0.77      0.76      1000\n",
      "     Class 7       0.96      0.98      0.97      1000\n",
      "     Class 8       0.98      0.99      0.99      1000\n",
      "     Class 9       0.98      0.96      0.97      1000\n",
      "\n",
      "    accuracy                           0.91     10000\n",
      "   macro avg       0.91      0.91      0.91     10000\n",
      "weighted avg       0.91      0.91      0.91     10000\n",
      "\n"
     ]
    }
   ],
   "source": [
    "# make predictions\n",
    "predicted_classes = model7.predict(test_x)\n",
    "# find the class with highest probability \n",
    "predicted_classes1 = np.argmax(np.round(predicted_classes), axis = 1)\n",
    "actual = np.argmax(np.round(test_y), axis = 1)\n",
    "correct = np.where(predicted_classes1==actual)[0]\n",
    "\n",
    "print(\"Correctly identified %d images\" % len(correct))\n",
    "target_names = [\"Class {}\".format(i) for i in range(10)]\n",
    "print(classification_report(actual, predicted_classes1, target_names=target_names))"
   ]
  },
  {
   "cell_type": "markdown",
   "metadata": {
    "id": "5t4aJbv8Uxxo"
   },
   "source": [
    "Now increase the dropout slightly because there seems to be overfitting."
   ]
  },
  {
   "cell_type": "code",
   "execution_count": 55,
   "metadata": {
    "id": "MgrgxurdPZU5"
   },
   "outputs": [],
   "source": [
    "model8 = Sequential()\n",
    "model8.add(Conv1D(filters = 454, kernel_size = 4,  input_shape = (28, 28), activation = 'relu'))\n",
    "model8.add(MaxPooling1D(pool_size = 1))\n",
    "model8.add(Dropout(0.4))\n",
    "model8.add(BatchNormalization())\n",
    "\n",
    "# Second set of layers\n",
    "model8.add(Conv1D(filters = 350, kernel_size = 4, activation = 'relu'))\n",
    "model8.add(MaxPooling1D(pool_size = 1))\n",
    "model8.add(Dropout(0.4))\n",
    "model8.add(BatchNormalization())\n",
    "\n",
    "# Third set of layers\n",
    "model8.add(Conv1D(filters = 125, kernel_size = 3, activation = 'relu') )\n",
    "model8.add(MaxPooling1D(pool_size = 1))\n",
    "model8.add(Dropout(0.4))\n",
    "model8.add(BatchNormalization())\n",
    "\n",
    "model8.add(Flatten())\n",
    "model8.add(Dense(units = 10, activation = 'softmax'))\n",
    "# Comile the model and set the loss functions, and targets, etc. \n",
    "model8.compile(loss = 'categorical_crossentropy', \n",
    "              optimizer= tensorflow.keras.optimizers.Adam(learning_rate=0.001),\n",
    "              metrics = ['accuracy'])"
   ]
  },
  {
   "cell_type": "code",
   "execution_count": 56,
   "metadata": {
    "colab": {
     "base_uri": "https://localhost:8080/"
    },
    "id": "eusFSa1RS_pl",
    "outputId": "8f1ab094-a8ee-4682-8b04-7e74a2c917f5"
   },
   "outputs": [
    {
     "name": "stdout",
     "output_type": "stream",
     "text": [
      "Epoch 1/50\n",
      "334/334 [==============================] - 5s 15ms/step - loss: 0.5407 - accuracy: 0.8051\n",
      "Epoch 2/50\n",
      "334/334 [==============================] - 5s 15ms/step - loss: 0.3965 - accuracy: 0.8553\n",
      "Epoch 3/50\n",
      "334/334 [==============================] - 5s 15ms/step - loss: 0.3596 - accuracy: 0.8670\n",
      "Epoch 4/50\n",
      "334/334 [==============================] - 5s 15ms/step - loss: 0.3334 - accuracy: 0.8772\n",
      "Epoch 5/50\n",
      "334/334 [==============================] - 5s 15ms/step - loss: 0.3140 - accuracy: 0.8851\n",
      "Epoch 6/50\n",
      "334/334 [==============================] - 5s 15ms/step - loss: 0.3026 - accuracy: 0.8888\n",
      "Epoch 7/50\n",
      "334/334 [==============================] - 5s 15ms/step - loss: 0.2893 - accuracy: 0.8943\n",
      "Epoch 8/50\n",
      "334/334 [==============================] - 5s 15ms/step - loss: 0.2829 - accuracy: 0.8955\n",
      "Epoch 9/50\n",
      "334/334 [==============================] - 5s 15ms/step - loss: 0.2740 - accuracy: 0.8988\n",
      "Epoch 10/50\n",
      "334/334 [==============================] - 5s 15ms/step - loss: 0.2679 - accuracy: 0.9007\n",
      "Epoch 11/50\n",
      "334/334 [==============================] - 5s 15ms/step - loss: 0.2604 - accuracy: 0.9043\n",
      "Epoch 12/50\n",
      "334/334 [==============================] - 5s 15ms/step - loss: 0.2553 - accuracy: 0.9048\n",
      "Epoch 13/50\n",
      "334/334 [==============================] - 5s 15ms/step - loss: 0.2512 - accuracy: 0.9063\n",
      "Epoch 14/50\n",
      "334/334 [==============================] - 5s 15ms/step - loss: 0.2441 - accuracy: 0.9093\n",
      "Epoch 15/50\n",
      "334/334 [==============================] - 5s 15ms/step - loss: 0.2400 - accuracy: 0.9111\n",
      "Epoch 16/50\n",
      "334/334 [==============================] - 5s 15ms/step - loss: 0.2333 - accuracy: 0.9118\n",
      "Epoch 17/50\n",
      "334/334 [==============================] - 5s 15ms/step - loss: 0.2298 - accuracy: 0.9132\n",
      "Epoch 18/50\n",
      "334/334 [==============================] - 5s 15ms/step - loss: 0.2248 - accuracy: 0.9158\n",
      "Epoch 19/50\n",
      "334/334 [==============================] - 5s 15ms/step - loss: 0.2204 - accuracy: 0.9168\n",
      "Epoch 20/50\n",
      "334/334 [==============================] - 5s 15ms/step - loss: 0.2195 - accuracy: 0.9175\n",
      "Epoch 21/50\n",
      "334/334 [==============================] - 5s 15ms/step - loss: 0.2130 - accuracy: 0.9206\n",
      "Epoch 22/50\n",
      "334/334 [==============================] - 5s 15ms/step - loss: 0.2098 - accuracy: 0.9214\n",
      "Epoch 23/50\n",
      "334/334 [==============================] - 5s 15ms/step - loss: 0.2065 - accuracy: 0.9225\n",
      "Epoch 24/50\n",
      "334/334 [==============================] - 5s 15ms/step - loss: 0.2022 - accuracy: 0.9236\n",
      "Epoch 25/50\n",
      "334/334 [==============================] - 5s 15ms/step - loss: 0.1993 - accuracy: 0.9254\n",
      "Epoch 26/50\n",
      "334/334 [==============================] - 5s 15ms/step - loss: 0.1978 - accuracy: 0.9260\n",
      "Epoch 27/50\n",
      "334/334 [==============================] - 5s 15ms/step - loss: 0.1945 - accuracy: 0.9276\n",
      "Epoch 28/50\n",
      "334/334 [==============================] - 5s 15ms/step - loss: 0.1915 - accuracy: 0.9277\n",
      "Epoch 29/50\n",
      "334/334 [==============================] - 5s 15ms/step - loss: 0.1888 - accuracy: 0.9289\n",
      "Epoch 30/50\n",
      "334/334 [==============================] - 5s 15ms/step - loss: 0.1858 - accuracy: 0.9294\n",
      "Epoch 31/50\n",
      "334/334 [==============================] - 5s 15ms/step - loss: 0.1850 - accuracy: 0.9296\n",
      "Epoch 32/50\n",
      "334/334 [==============================] - 5s 15ms/step - loss: 0.1827 - accuracy: 0.9311\n",
      "Epoch 33/50\n",
      "334/334 [==============================] - 5s 15ms/step - loss: 0.1813 - accuracy: 0.9311\n",
      "Epoch 34/50\n",
      "334/334 [==============================] - 5s 15ms/step - loss: 0.1774 - accuracy: 0.9324\n",
      "Epoch 35/50\n",
      "334/334 [==============================] - 5s 15ms/step - loss: 0.1734 - accuracy: 0.9338\n",
      "Epoch 36/50\n",
      "334/334 [==============================] - 5s 15ms/step - loss: 0.1741 - accuracy: 0.9345\n",
      "Epoch 37/50\n",
      "334/334 [==============================] - 5s 15ms/step - loss: 0.1664 - accuracy: 0.9369\n",
      "Epoch 38/50\n",
      "334/334 [==============================] - 5s 15ms/step - loss: 0.1689 - accuracy: 0.9357\n",
      "Epoch 39/50\n",
      "334/334 [==============================] - 5s 15ms/step - loss: 0.1657 - accuracy: 0.9373\n",
      "Epoch 40/50\n",
      "334/334 [==============================] - 5s 15ms/step - loss: 0.1660 - accuracy: 0.9370\n",
      "Epoch 41/50\n",
      "334/334 [==============================] - 5s 15ms/step - loss: 0.1606 - accuracy: 0.9384\n",
      "Epoch 42/50\n",
      "334/334 [==============================] - 5s 15ms/step - loss: 0.1564 - accuracy: 0.9401\n",
      "Epoch 43/50\n",
      "334/334 [==============================] - 5s 15ms/step - loss: 0.1567 - accuracy: 0.9403\n",
      "Epoch 44/50\n",
      "334/334 [==============================] - 5s 15ms/step - loss: 0.1554 - accuracy: 0.9407\n",
      "Epoch 45/50\n",
      "334/334 [==============================] - 5s 15ms/step - loss: 0.1550 - accuracy: 0.9418\n",
      "Epoch 46/50\n",
      "334/334 [==============================] - 5s 15ms/step - loss: 0.1513 - accuracy: 0.9424\n",
      "Epoch 47/50\n",
      "334/334 [==============================] - 5s 15ms/step - loss: 0.1499 - accuracy: 0.9433\n",
      "Epoch 48/50\n",
      "334/334 [==============================] - 5s 15ms/step - loss: 0.1499 - accuracy: 0.9420\n",
      "Epoch 49/50\n",
      "334/334 [==============================] - 5s 15ms/step - loss: 0.1500 - accuracy: 0.9438\n",
      "Epoch 50/50\n",
      "334/334 [==============================] - 5s 15ms/step - loss: 0.1454 - accuracy: 0.9446\n"
     ]
    },
    {
     "data": {
      "text/plain": [
       "<tensorflow.python.keras.callbacks.History at 0x7f131cad0e48>"
      ]
     },
     "execution_count": 56,
     "metadata": {
      "tags": []
     },
     "output_type": "execute_result"
    }
   ],
   "source": [
    "model8.fit(train_x, train_y, epochs = 50, batch_size = 180)"
   ]
  },
  {
   "cell_type": "code",
   "execution_count": 57,
   "metadata": {
    "colab": {
     "base_uri": "https://localhost:8080/"
    },
    "id": "jMvTTIOPTFcc",
    "outputId": "c9d7d8dd-2e1d-4ce6-febe-207396961bfb"
   },
   "outputs": [
    {
     "name": "stdout",
     "output_type": "stream",
     "text": [
      "313/313 [==============================] - 1s 3ms/step - loss: 0.2780 - accuracy: 0.9121\n",
      "\n",
      "loss is: 0.2779979109764099\n",
      "accuracy is: 0.9121000170707703\n"
     ]
    }
   ],
   "source": [
    "score = model8.evaluate(test_x, test_y)\n",
    "print('\\nloss is: ' + str(score[0]))\n",
    "print('accuracy is: ' + str(score[1]))"
   ]
  },
  {
   "cell_type": "code",
   "execution_count": 58,
   "metadata": {
    "colab": {
     "base_uri": "https://localhost:8080/"
    },
    "id": "V99G9YnVgKqC",
    "outputId": "9fb55fe5-ed15-4d89-8940-1dd20b3588ed"
   },
   "outputs": [
    {
     "name": "stdout",
     "output_type": "stream",
     "text": [
      "Correctly identified 9084 images\n",
      "              precision    recall  f1-score   support\n",
      "\n",
      "     Class 0       0.76      0.90      0.82      1000\n",
      "     Class 1       0.99      0.98      0.99      1000\n",
      "     Class 2       0.85      0.85      0.85      1000\n",
      "     Class 3       0.92      0.90      0.91      1000\n",
      "     Class 4       0.83      0.86      0.85      1000\n",
      "     Class 5       0.99      0.99      0.99      1000\n",
      "     Class 6       0.83      0.68      0.75      1000\n",
      "     Class 7       0.96      0.98      0.97      1000\n",
      "     Class 8       0.98      0.99      0.98      1000\n",
      "     Class 9       0.98      0.96      0.97      1000\n",
      "\n",
      "    accuracy                           0.91     10000\n",
      "   macro avg       0.91      0.91      0.91     10000\n",
      "weighted avg       0.91      0.91      0.91     10000\n",
      "\n"
     ]
    }
   ],
   "source": [
    "# make predictions\n",
    "predicted_classes = model8.predict(test_x)\n",
    "# find the class with highest probability \n",
    "predicted_classes1 = np.argmax(np.round(predicted_classes), axis = 1)\n",
    "actual = np.argmax(np.round(test_y), axis = 1)\n",
    "correct = np.where(predicted_classes1==actual)[0]\n",
    "\n",
    "print(\"Correctly identified %d images\" % len(correct))\n",
    "target_names = [\"Class {}\".format(i) for i in range(10)]\n",
    "print(classification_report(actual, predicted_classes1, target_names=target_names))"
   ]
  },
  {
   "cell_type": "markdown",
   "metadata": {
    "id": "0ZxvCH0vVCsp"
   },
   "source": [
    "The last model is run with a fourth convolutional layer and leaky Relu."
   ]
  },
  {
   "cell_type": "code",
   "execution_count": null,
   "metadata": {
    "id": "n7v9mm8ITX7i"
   },
   "outputs": [],
   "source": [
    "model9 = Sequential()\n",
    "model9.add(Conv1D(filters = 454, kernel_size = 4,  input_shape = (28, 28), activation = 'relu'))\n",
    "model9.add(LeakyReLU(alpha=0.1))\n",
    "model9.add(MaxPooling1D(pool_size = 1))\n",
    "model9.add(Dropout(0.4))\n",
    "model9.add(BatchNormalization())\n",
    "\n",
    "# Second set of layers\n",
    "model9.add(Conv1D(filters = 350, kernel_size = 4, activation = 'relu'))\n",
    "model9.add(LeakyReLU(alpha=0.1))\n",
    "model9.add(MaxPooling1D(pool_size = 1))\n",
    "model9.add(Dropout(0.4))\n",
    "model9.add(BatchNormalization())\n",
    "\n",
    "# Third set of layers\n",
    "model9.add(Conv1D(filters = 125, kernel_size = 3, activation = 'relu'))\n",
    "model9.add(LeakyReLU(alpha=0.1))\n",
    "model9.add(MaxPooling1D(pool_size = 1))\n",
    "model9.add(Dropout(0.4))\n",
    "model9.add(BatchNormalization())\n",
    "\n",
    "# Fourth Set\n",
    "model9.add(Conv1D(filters = 64, kernel_size = 3, activation = 'relu'))\n",
    "model9.add(LeakyReLU(alpha=0.1))\n",
    "model9.add(MaxPooling1D(pool_size = 1))\n",
    "model9.add(Dropout(0.4))\n",
    "model9.add(BatchNormalization())\n",
    "\n",
    "model9.add(Flatten())\n",
    "model9.add(Dense(units = 10, activation = 'softmax'))\n",
    "# Comile the model and set the loss functions, and targets, etc. \n",
    "model9.compile(loss = 'categorical_crossentropy', \n",
    "              optimizer= tensorflow.keras.optimizers.Adam(learning_rate=0.001),\n",
    "              metrics = ['accuracy'])"
   ]
  },
  {
   "cell_type": "code",
   "execution_count": null,
   "metadata": {
    "colab": {
     "base_uri": "https://localhost:8080/"
    },
    "id": "OUBouWKQyDko",
    "outputId": "ad3700f5-ed4e-4019-b483-a381f1d15318"
   },
   "outputs": [
    {
     "name": "stdout",
     "output_type": "stream",
     "text": [
      "Epoch 1/50\n",
      "334/334 [==============================] - 5s 16ms/step - loss: 0.6245 - accuracy: 0.7716\n",
      "Epoch 2/50\n",
      "334/334 [==============================] - 5s 16ms/step - loss: 0.4262 - accuracy: 0.8421\n",
      "Epoch 3/50\n",
      "334/334 [==============================] - 5s 16ms/step - loss: 0.3826 - accuracy: 0.8593\n",
      "Epoch 4/50\n",
      "334/334 [==============================] - 5s 16ms/step - loss: 0.3577 - accuracy: 0.8689\n",
      "Epoch 5/50\n",
      "334/334 [==============================] - 5s 16ms/step - loss: 0.3414 - accuracy: 0.8741\n",
      "Epoch 6/50\n",
      "334/334 [==============================] - 5s 16ms/step - loss: 0.3263 - accuracy: 0.8788\n",
      "Epoch 7/50\n",
      "334/334 [==============================] - 6s 17ms/step - loss: 0.3151 - accuracy: 0.8824\n",
      "Epoch 8/50\n",
      "334/334 [==============================] - 6s 17ms/step - loss: 0.3058 - accuracy: 0.8875\n",
      "Epoch 9/50\n",
      "334/334 [==============================] - 6s 17ms/step - loss: 0.2952 - accuracy: 0.8905\n",
      "Epoch 10/50\n",
      "334/334 [==============================] - 6s 16ms/step - loss: 0.2879 - accuracy: 0.8942\n",
      "Epoch 11/50\n",
      "334/334 [==============================] - 5s 16ms/step - loss: 0.2832 - accuracy: 0.8943\n",
      "Epoch 12/50\n",
      "334/334 [==============================] - 5s 16ms/step - loss: 0.2796 - accuracy: 0.8968\n",
      "Epoch 13/50\n",
      "334/334 [==============================] - 5s 16ms/step - loss: 0.2680 - accuracy: 0.9000\n",
      "Epoch 14/50\n",
      "334/334 [==============================] - 5s 16ms/step - loss: 0.2641 - accuracy: 0.9027\n",
      "Epoch 15/50\n",
      "334/334 [==============================] - 5s 16ms/step - loss: 0.2564 - accuracy: 0.9033\n",
      "Epoch 16/50\n",
      "334/334 [==============================] - 5s 16ms/step - loss: 0.2509 - accuracy: 0.9065\n",
      "Epoch 17/50\n",
      "334/334 [==============================] - 5s 16ms/step - loss: 0.2504 - accuracy: 0.9062\n",
      "Epoch 18/50\n",
      "334/334 [==============================] - 5s 16ms/step - loss: 0.2456 - accuracy: 0.9079\n",
      "Epoch 19/50\n",
      "334/334 [==============================] - 5s 16ms/step - loss: 0.2419 - accuracy: 0.9100\n",
      "Epoch 20/50\n",
      "334/334 [==============================] - 5s 16ms/step - loss: 0.2388 - accuracy: 0.9113\n",
      "Epoch 21/50\n",
      "334/334 [==============================] - 5s 16ms/step - loss: 0.2337 - accuracy: 0.9125\n",
      "Epoch 22/50\n",
      "334/334 [==============================] - 5s 16ms/step - loss: 0.2290 - accuracy: 0.9147\n",
      "Epoch 23/50\n",
      "334/334 [==============================] - 5s 16ms/step - loss: 0.2251 - accuracy: 0.9153\n",
      "Epoch 24/50\n",
      "334/334 [==============================] - 5s 16ms/step - loss: 0.2264 - accuracy: 0.9154\n",
      "Epoch 25/50\n",
      "334/334 [==============================] - 5s 16ms/step - loss: 0.2202 - accuracy: 0.9173\n",
      "Epoch 26/50\n",
      "334/334 [==============================] - 5s 16ms/step - loss: 0.2202 - accuracy: 0.9168\n",
      "Epoch 27/50\n",
      "334/334 [==============================] - 5s 16ms/step - loss: 0.2148 - accuracy: 0.9185\n",
      "Epoch 28/50\n",
      "334/334 [==============================] - 5s 16ms/step - loss: 0.2118 - accuracy: 0.9211\n",
      "Epoch 29/50\n",
      "334/334 [==============================] - 5s 16ms/step - loss: 0.2122 - accuracy: 0.9206\n",
      "Epoch 30/50\n",
      "334/334 [==============================] - 5s 16ms/step - loss: 0.2092 - accuracy: 0.9220\n",
      "Epoch 31/50\n",
      "334/334 [==============================] - 5s 16ms/step - loss: 0.2059 - accuracy: 0.9222\n",
      "Epoch 32/50\n",
      "334/334 [==============================] - 5s 16ms/step - loss: 0.2041 - accuracy: 0.9238\n",
      "Epoch 33/50\n",
      "334/334 [==============================] - 5s 16ms/step - loss: 0.1989 - accuracy: 0.9251\n",
      "Epoch 34/50\n",
      "334/334 [==============================] - 5s 16ms/step - loss: 0.1977 - accuracy: 0.9244\n",
      "Epoch 35/50\n",
      "334/334 [==============================] - 5s 16ms/step - loss: 0.1965 - accuracy: 0.9266\n",
      "Epoch 36/50\n",
      "334/334 [==============================] - 5s 16ms/step - loss: 0.1928 - accuracy: 0.9277\n",
      "Epoch 37/50\n",
      "334/334 [==============================] - 5s 16ms/step - loss: 0.1892 - accuracy: 0.9300\n",
      "Epoch 38/50\n",
      "334/334 [==============================] - 5s 16ms/step - loss: 0.1881 - accuracy: 0.9281\n",
      "Epoch 39/50\n",
      "334/334 [==============================] - 5s 16ms/step - loss: 0.1880 - accuracy: 0.9290\n",
      "Epoch 40/50\n",
      "334/334 [==============================] - 5s 16ms/step - loss: 0.1847 - accuracy: 0.9308\n",
      "Epoch 41/50\n",
      "334/334 [==============================] - 5s 16ms/step - loss: 0.1835 - accuracy: 0.9311\n",
      "Epoch 42/50\n",
      "334/334 [==============================] - 5s 16ms/step - loss: 0.1801 - accuracy: 0.9313\n",
      "Epoch 43/50\n",
      "334/334 [==============================] - 5s 16ms/step - loss: 0.1784 - accuracy: 0.9338\n",
      "Epoch 44/50\n",
      "334/334 [==============================] - 5s 16ms/step - loss: 0.1793 - accuracy: 0.9324\n",
      "Epoch 45/50\n",
      "334/334 [==============================] - 5s 16ms/step - loss: 0.1770 - accuracy: 0.9327\n",
      "Epoch 46/50\n",
      "334/334 [==============================] - 5s 16ms/step - loss: 0.1747 - accuracy: 0.9345\n",
      "Epoch 47/50\n",
      "334/334 [==============================] - 5s 16ms/step - loss: 0.1722 - accuracy: 0.9351\n",
      "Epoch 48/50\n",
      "334/334 [==============================] - 5s 16ms/step - loss: 0.1719 - accuracy: 0.9354\n",
      "Epoch 49/50\n",
      "334/334 [==============================] - 5s 16ms/step - loss: 0.1683 - accuracy: 0.9363\n",
      "Epoch 50/50\n",
      "334/334 [==============================] - 5s 16ms/step - loss: 0.1668 - accuracy: 0.9374\n"
     ]
    }
   ],
   "source": [
    "model9_fit = model9.fit(train_x, train_y, epochs = 50, batch_size = 180)"
   ]
  },
  {
   "cell_type": "code",
   "execution_count": null,
   "metadata": {
    "colab": {
     "base_uri": "https://localhost:8080/"
    },
    "id": "kMwfjxTGyMLl",
    "outputId": "7933aee5-8391-47b5-ba4f-ed448c82f04c"
   },
   "outputs": [
    {
     "name": "stdout",
     "output_type": "stream",
     "text": [
      "313/313 [==============================] - 1s 4ms/step - loss: 0.2811 - accuracy: 0.9099\n",
      "\n",
      "loss is: 0.2810857892036438\n",
      "accuracy is: 0.9099000096321106\n"
     ]
    }
   ],
   "source": [
    "score = model9.evaluate(test_x, test_y)\n",
    "print('\\nloss is: ' + str(score[0]))\n",
    "print('accuracy is: ' + str(score[1]))"
   ]
  },
  {
   "cell_type": "code",
   "execution_count": null,
   "metadata": {
    "id": "1KwU7CDvyRUx"
   },
   "outputs": [],
   "source": [
    "# make predictions\n",
    "predicted_classes = model9.predict(test_x)\n",
    "# find the class with highest probability \n",
    "predicted_classes1 = np.argmax(np.round(predicted_classes), axis = 1)\n",
    "actual = np.argmax(np.round(test_y), axis = 1)\n",
    "correct = np.where(predicted_classes1==actual)[0]\n",
    "\n",
    "print(\"Found %d correct labels\" % len(correct))"
   ]
  },
  {
   "cell_type": "code",
   "execution_count": null,
   "metadata": {
    "colab": {
     "base_uri": "https://localhost:8080/"
    },
    "id": "Fi83cLgtgyx1",
    "outputId": "fb224bb6-151b-4047-ae16-94c604d6e817"
   },
   "outputs": [
    {
     "name": "stdout",
     "output_type": "stream",
     "text": [
      "Found 9070 correct labels\n"
     ]
    }
   ],
   "source": []
  },
  {
   "cell_type": "code",
   "execution_count": null,
   "metadata": {
    "colab": {
     "base_uri": "https://localhost:8080/",
     "height": 297
    },
    "id": "MNTVy5yAjIwp",
    "outputId": "e6edc656-808e-419e-8254-4cc53270845b"
   },
   "outputs": [
    {
     "data": {
      "image/png": "[encoded data removed]",
      "text/plain": [
       "<Figure size 432x288 with 9 Axes>"
      ]
     },
     "metadata": {
      "needs_background": "light",
      "tags": []
     },
     "output_type": "display_data"
    }
   ],
   "source": [
    "for i in correct[:9]:\n",
    "    plt.subplot(3,3,i+1)\n",
    "    plt.imshow(test_x[i].reshape(28,28), cmap='gray', interpolation='none')\n",
    "    plt.title(\"Predicted {}, Class {}\".format(predicted_classes1[i], actual[i]))\n",
    "    plt.tight_layout()"
   ]
  },
  {
   "cell_type": "code",
   "execution_count": null,
   "metadata": {
    "colab": {
     "base_uri": "https://localhost:8080/"
    },
    "id": "B1THvYw9kXSK",
    "outputId": "73b0bbce-ab0b-4bcb-c12b-3af14fd63e3e"
   },
   "outputs": [
    {
     "name": "stdout",
     "output_type": "stream",
     "text": [
      "              precision    recall  f1-score   support\n",
      "\n",
      "     Class 0       0.76      0.89      0.82      1000\n",
      "     Class 1       0.99      0.98      0.99      1000\n",
      "     Class 2       0.85      0.87      0.86      1000\n",
      "     Class 3       0.93      0.88      0.90      1000\n",
      "     Class 4       0.86      0.84      0.85      1000\n",
      "     Class 5       0.99      0.97      0.98      1000\n",
      "     Class 6       0.78      0.72      0.75      1000\n",
      "     Class 7       0.96      0.98      0.97      1000\n",
      "     Class 8       0.99      0.98      0.99      1000\n",
      "     Class 9       0.97      0.97      0.97      1000\n",
      "\n",
      "    accuracy                           0.91     10000\n",
      "   macro avg       0.91      0.91      0.91     10000\n",
      "weighted avg       0.91      0.91      0.91     10000\n",
      "\n"
     ]
    }
   ],
   "source": [
    "target_names = [\"Class {}\".format(i) for i in range(10)]\n",
    "print(classification_report(actual, predicted_classes1, target_names=target_names))"
   ]
  },
  {
   "cell_type": "code",
   "execution_count": null,
   "metadata": {
    "id": "gx40wBN5jZ3i"
   },
   "outputs": [],
   "source": []
  }
 ],
 "metadata": {
  "accelerator": "GPU",
  "colab": {
   "collapsed_sections": [],
   "name": "Model Fashion MNIST Database(EB).ipynb",
   "provenance": []
  },
  "kernelspec": {
   "display_name": "Python 3",
   "language": "python",
   "name": "python3"
  },
  "language_info": {
   "codemirror_mode": {
    "name": "ipython",
    "version": 3
   },
   "file_extension": ".py",
   "mimetype": "text/x-python",
   "name": "python",
   "nbconvert_exporter": "python",
   "pygments_lexer": "ipython3",
   "version": "3.7.6"
  }
 },
 "nbformat": 4,
 "nbformat_minor": 1
}
